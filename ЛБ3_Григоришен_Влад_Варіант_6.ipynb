{
  "nbformat": 4,
  "nbformat_minor": 0,
  "metadata": {
    "colab": {
      "provenance": [],
      "include_colab_link": true
    },
    "kernelspec": {
      "name": "python3",
      "display_name": "Python 3"
    },
    "language_info": {
      "name": "python"
    }
  },
  "cells": [
    {
      "cell_type": "markdown",
      "metadata": {
        "id": "view-in-github",
        "colab_type": "text"
      },
      "source": [
        "<a href=\"https://colab.research.google.com/github/IceikSky/NM/blob/main/%D0%9B%D0%913_%D0%93%D1%80%D0%B8%D0%B3%D0%BE%D1%80%D0%B8%D1%88%D0%B5%D0%BD_%D0%92%D0%BB%D0%B0%D0%B4_%D0%92%D0%B0%D1%80%D1%96%D0%B0%D0%BD%D1%82_6.ipynb\" target=\"_parent\"><img src=\"https://colab.research.google.com/assets/colab-badge.svg\" alt=\"Open In Colab\"/></a>"
      ]
    },
    {
      "cell_type": "markdown",
      "source": [
        "Григоришен Влад. Варіант 6"
      ],
      "metadata": {
        "id": "HlvFbYQzhdIu"
      }
    },
    {
      "cell_type": "markdown",
      "source": [
        "1. Метод ділення навпіл."
      ],
      "metadata": {
        "id": "VgrW9zRY0dVt"
      }
    },
    {
      "cell_type": "code",
      "execution_count": 62,
      "metadata": {
        "colab": {
          "base_uri": "https://localhost:8080/"
        },
        "id": "iOTNXySVyeHy",
        "outputId": "d923d873-8b86-4332-bbcd-ef15036f64bd"
      },
      "outputs": [
        {
          "output_type": "stream",
          "name": "stdout",
          "text": [
            "Результати обчислень\n",
            "\n",
            "          a      F(a)         c      F(c)       b      F(b)\n",
            "0 -3.000000  0.977954 -2.000000  1.135204 -1.0000 -0.454649\n",
            "1 -2.000000  1.135204 -1.500000 -0.123480 -1.0000 -0.454649\n",
            "2 -2.000000  1.135204 -1.750000  0.405593 -1.5000 -0.123480\n",
            "3 -1.750000  0.405593 -1.625000  0.109040 -1.5000 -0.123480\n",
            "4 -1.625000  0.109040 -1.562500 -0.015587 -1.5000 -0.123480\n",
            "5 -1.625000  0.109040 -1.593750  0.044659 -1.5625 -0.015587\n",
            "6 -1.593750  0.044659 -1.578125  0.014015 -1.5625 -0.015587\n",
            "7 -1.578125  0.014015 -1.570312 -0.000917 -1.5625 -0.015587\n",
            "\n",
            "В точці с =  -1.5703125 , f(c) =  -0.0009171268569415665\n"
          ]
        }
      ],
      "source": [
        "import numpy as np\n",
        "import pandas as pd\n",
        "\n",
        "# Визначаємо функцію\n",
        "def f (x):\n",
        "    y = np.cos(x)*np.sin(x)*(x**2+x+1)\n",
        "    return y\n",
        "# Визначаємо границі відрізку\n",
        "a, b = -3, -1\n",
        "# Визначаємо точність розв'язку\n",
        "eps = 0.001\n",
        "# Поділяємо відрізок навпіл\n",
        "c = (a+b)/2\n",
        "# Зберігаємо результати обчислень\n",
        "data_A = [a]\n",
        "data_B = [b]\n",
        "data_C = [c]\n",
        "data_F_A = [f(a)]\n",
        "data_F_B = [f(b)]\n",
        "data_F_C = [f(c)]\n",
        "# Перевіряємо досягнення точності\n",
        "while np.abs(f(c)) > eps:\n",
        "    # Звужуємо відрізок\n",
        "    if np.sign(f(c)) == np.sign(f(a)):\n",
        "        a = c\n",
        "    else:\n",
        "        b = c\n",
        "    # Поділяємо відрізок навпіл\n",
        "    c = (a+b)/2\n",
        "    # Зберігаємо результати обчислень\n",
        "    data_A.append(a)\n",
        "    data_B.append(b)\n",
        "    data_C.append(c)\n",
        "    data_F_A.append(f(a))\n",
        "    data_F_B.append(f(b))\n",
        "    data_F_C.append(f(c))\n",
        "# Відображаємо результати обчислень\n",
        "print('Результати обчислень')\n",
        "print()\n",
        "data = pd.DataFrame({'a': data_A,\n",
        "                     'F(a)': data_F_A,\n",
        "                     'c': data_C,\n",
        "                     'F(c)': data_F_C,\n",
        "                     'b': data_B,\n",
        "                     'F(b)': data_F_B})\n",
        "print(data)\n",
        "# Відображаємо наближений корінь рівняння\n",
        "print()\n",
        "print('В точці с = ', c, ', f(c) = ', f(c))"
      ]
    },
    {
      "cell_type": "markdown",
      "source": [
        "![image.png](data:image/png;base64,iVBORw0KGgoAAAANSUhEUgAAAXUAAAD+CAYAAADF/ZVnAAAAAXNSR0IArs4c6QAAAARnQU1BAACxjwv8YQUAAAAJcEhZcwAADsMAAA7DAcdvqGQAAEm2SURBVHhe7d13fFzVmQf83507fUajOmqW5CbLveCGjQGDY3oPG/DmJUBIYDeEhJBssoUSk90k++5uEpKXBAKkUuMAxoBBtjG23G3JXVavVm8zmn77ef8YabCuJdmyZ0ZTzvfzmT98zh2V49EzZ859znMYQggBRVEUlRA06gaKoigqftGgTlEUlUBoUKcoikogNKhTFEUlEBrUKYqiEggN6jFGFEW4XC4kW1KSx+MBz/PqZoqiJogG9RhCCMF//dd/AQAYhlF3h4iiiFdeeQXPPvssHn74YTQ3N6sviTsulwuffPIJGhsb1V0URU0ADeox5LXXXsO1114Li8Wi7gpRFAWfffYZDh48iOeeew7XXXcd/v3f/119WdwpKCgAANTW1sLlcqm7KYq6SDSoA+jr68Pbb7+NAwcOTNqyRyAQwM6dO3HllVdCq9Wqu0M0Gg1uvvlmvPjii9BoNJgxYwZEUVRfFvM6OzvR19cHRVFCbV/60pdw+vRpVFdXj7g2Evr6+lBdXT3i+1NUIoj5oE4IQWtrK95++2309fWpu0OcTid27dqFgwcPqrsuqKmpCW+88QbKysrAcZy6e0yEEGzZsgXl5eXjPq+urg6bNm3C4OCguivkk08+wZo1a6DT6dRd52EYBhaLBaIoYtOmTXjiiSfUl8SktrY2vPjii1i7di3mzJmDv/zlLyPW0W02G1iWhcPhiNj6Os/zeOihh/DII4/g5ZdfxpIlS3D8+HH1ZRQVt2I+qNfW1uJPf/oTVq5cCbvdru4OSU9Px/Tp01FVVYXS0lJ197iuvPJKbNmyBT/60Y9gMpnU3WP67W9/C0IIZs+eDaPRqO4OKSkpQVpaGv7whz9gYGBA3Q0A2LFjB+bNmweWZdVdoxJFES+99BKuvfZaXH/99erumKTVanH99dfjF7/4BdavX6/uBgBMmzYNjY2N6OrqUneFxfPPP4+BgQFs2rQJv/71r/HMM8/gjjvuiNibCEVFW9iDus/nw969e1FWVoZAIBBqlyQJ1dXV2Lp1K+rr60c8R1EU9PX1Ydu2bdi9e3doRt7X14fdu3fDbDZj5syZAAC/34+mpqbQHz0hBP39/WhubkZRURGys7Px+eef4+zZsyO+x7D29nbs2LED+/fvR39/Pwgh8Pv9qK+vR09PDwDA6/WiqqoKvb29aG1txc6dO9HY2AhJkkJf58CBA2hra8P06dNhs9kAAN3d3WhoaAj93rIso7q6Gl6vFzfccANOnDiBw4cPjzqrP3HiBHJycqDRfPFf0traOmKsRFHE8ePH4ff78Z//+Z+44oorcM8992DHjh0jxno0DocDb7/9NhoaGtRdIwQCgTHHd6ylisrKSmzduhXd3d3qrhHy8vIwf/58ZGVljfg9z5WVlYXu7u5xP9VcKq/XizfeeAP33Xdf6BPR3XffDb/fj7///e/qyykqLo3+l3WJdu/ejTVr1qC6uhrl5eWYMWMGGhoa4HQ68cgjj+DHP/4xent78eyzz+LRRx+F3++HKIrYt28fbrvtNtTV1WHbtm149NFHAQAdHR0oKyvDNddcAwwF+VdffRW33nornnzySXg8HuzYsQPXXXcdHnvsMZw4cQJTp06FVqtFWVnZiJ+NEII333wT3//+91FeXo4//elP+O1vf4uKigo899xzuP/++7Fz505UVVXhqaeewm233YY77rgDjz/+OL797W/jlltuwbZt20Jr7h999BFycnKQm5sLAKioqMCTTz6JNWvWYM+ePeA4Dk888QSuvvpqvPrqq3C73Vi3bh0+/PDD8wKWz+dDc3MzUlNTQ1kvn332GTZs2IDly5ejv78fgiDghhtuwFVXXYVvfOMbeO211/DDH/4Qq1atwne/+90LrqsHAgFUVlbC4XCou0L6+/tD4/vd734XHo8Hn332Ga6//no8+uijYy5T9PX1ob6+Hl6vV901YRaLBZ2dneeNUTjU19fD7XZj3rx5oTcVvV6PkpISHD16VH05RcWlsAV1t9uNBx54ABs3bsSjjz6Ku+++G9OmTYPL5cJLL72EmpoavPXWW/j617+OX/7yl2hoaMBvfvMbeDwe7Nq1C0VFRfjOd76DJ554ArfddhskSUJHRwfa2towZ84cAIDdbsd3vvMd/OpXvwLP89i0aRPOnj2LV199Fa+++ioWLVoEu90OlmVRWVk54ufr7+9HRUUFpkyZgieffBKPP/44rrvuOsyZMwdf+cpXsGTJEgDAvHnzcN9992HFihX4t3/7N2zduhUff/wxZs6cierqang8Hvh8Ppw+fRpZWVlIS0sDACxfvhxvvvkmvvSlL+HEiRN46aWXcPvtt2PHjh145JFHYLPZsHDhQhw5cgQ+n++8n01RFJhMplBQX79+PcrKyjBlyhRs374dv/zlL/H888/j8OHD+POf/4zOzk6Ul5fj6NGjqK6uDn1auBxZWVl44okn8Otf/zo0vi0tLXjllVfw2muvYfHixeqnhJ3JZILX6x11OYQQgh/84AdYv379uI9HH3101PsvHR0dUBQF6enpI1JGMzMz0draOuJaiopXYQvq+/btQ09PD2655RYwDIPi4mIcPHgQxcXFKC0txfr160NZHRaLBatWrUJpaSkMBgMKCwtRVlaGn/70p7DZbHj00UfB8zx6e3uh0+mQmpoa+j4ajQYzZ87EtGnTsHXrVqSlpWH16tWYNm0atFotjEYjWJaFy+WCLMuh56WkpCA7OxulpaV46aWXMHXqVKxduxYpKSmha87FsmxoNldUVIT09HQEAgGIooj+/n4EAgHYbDbo9frQc7RaLW677Tbs27cPra2tWLx4MZYuXRqagaelpWFwcBAcx43IsnG73aOupev1ejz88MP43e9+B47jsHbtWixatAgGg0F96ah8Ph9KS0tRWlqK3bt3o6mpCYcOHUJpaSl27tx53jIYhsZ3xowZmD59+qjjO6ytrS30tY8cOYKamhrs2bMHpaWl2Lt37yWvibMsC47jRv3kwTAMvv/97+Pll18e9/Hcc88hPT1d/fRRxxhDy3/jZRxRVDwJW1Bvb2+HyWQ6L+AoioLe3t7QjBZDgcNms6G3txdGoxEbNmzAiy++iLfeegtXX301PvroIxBCQn9s6vVXm80Gi8UCjuNw7bXXjuhjWRZarTb0/GFGoxHf/va38cMf/hB/+ctfcPvtt+PTTz+9qBRGjUYzYmYnyzI0Gg20Wu15m4SmT5+OpqYmXH311efd2NXr9WAYZsSbDYbuNzAMc97XAoD58+fj4MGDePDBB9VdF+T3+0OBd9euXWhqasLBgwdDQb2urk79FGBofK1Wa+iNZDRnz54Nfe3y8vKwBXWGYaAoypj/L1OmTEFxcfG4j8LCwlGDdH5+PjQaDRwOx4iv73A4UFhYOOJaiopXYQvqM2bMgN/vP29HIMuymDp1Kjo7O0NtkiShr68PRUVFAABBEPAP//AP2L59O1avXo2f/OQnCAQCSE1NhSAI530U7+zsRF1dHVJTU89bZhEEAZIkwWw2j0gPFEURLMvigQcewEcffYTZs2fjzTffHHW2eiGpqanQarXgOG5EgCaEYO/evcjOzkZtbS3cbveI53m9XhgMBpjN5hEB3GazgRByXiAjQymTK1aswOeffz6i72LY7Xa88MILeOGFF/D8889j/fr1eOqpp/DCCy/gZz/7GW677Tb1U4Ch8a2trYXNZjtvfIetWbMm9LW//e1v4+6778YzzzyDF154Af/xH/+BpUuXqp9yUWRZhtFoHDW1kxCCZ555Bnffffe4jyeffBL9/f3qp6OkpAQZGRk4depU6P+N4zhUV1dj1apV6sspKi6FLaivXbsWJSUleOqpp+D1ekEIgcfjwcDAAL72ta9h69atoWyTvr4+lJWV4cEHH0Rvby9+/vOfo66uDllZWbjxxhuh0+mQkpKC/Px8GAwGdHV1wefzoa6uDmVlZdi/fz8efPBB2O127N+/f8TPMXyzbniH4rD6+nq8+eabKC8vx7Rp07Bw4UJkZGSMGjwuJCMjA9nZ2XA6nfD7/Whra0NjYyNeeuklzJ8/H/feey/Ky8vPCyydnZ2YOXPmeZ9mUlNToShK6JNFXV0dmpubsXHjRjz00EO444478Oabb454TrgNj++ePXuwb98+PPjgg8jOzsa+ffvUl0aUIAhjBnWGYfDwww9j48aN4z6+9a1vjViyG2YymfDwww/jrbfeCk0U3nzzTdjtdtx9993qyykqLoUtqOt0OnzwwQdwOp0oKCjAsmXL8PDDD4PjONx77714/PHHceedd+Kf//mf8a1vfQvf+MY3sGHDBrAsC7/fj0cffRSPP/44/vrXv+Lpp5+G0WiE3W7HwoULUVlZifb2djz99NN46qmnkJ+fj3Xr1mHu3Ll4/fXX8fTTT4d2Ifb09EBRlNCNz2EGgwFVVVXYuHEjNmzYgGPHjuHWW2+Foih49913sWvXLrz++uv4/e9/j7///e/Yu3cv3nvvPVRVVeFPf/oTDh06hPfeew87duyA1+vFqlWr4HA44HQ68emnn+K2227DqVOnsGjRItx9993o7+/Hk08+iU2bNoXeaI4fP45rrrkGVqt1xM+WlZWFrKws+P1+EELw5z//GcuWLYNOp8OqVatw3333oaKiAvfff/95WT3h0tHRgWeeeQZPPvnkiPF94403Rozv5fD5fPjd736Hr3/96ygrK8Nrr72Gb37zmzh06FDoGr/fj9zc3DFv/BYXF2PJkiXjPubMmTPqmwIA/Md//AfmzZuH22+/HRs2bMBLL72ErVu3jnk9RcUdEgF+v58EAgF1M5FlmfT19RFFUUa0K4pC/H4/6e3tJbIsh9o5jiPbt28nP/jBD4gsy0QUReL3+0P9siwTQRBCX4/nebJp0yby3//930QQhNB153K73cTpdBJJktRdE9Lf30++//3vk/379xNFUYjP5xvxNQVBGPG7uN1u8sADD5Da2trzfn9CCLnvvvtIRUVF6Gt4PJ4R/RzHjfq8cLrQ+EbDhx9+SP7nf/6H1NXVqbvCyufzkc7Ozqj+bhQVDezGjRs3qgP95dLpdKPeqGIY5rz15OF2nU4Hi8Uyok+r1cJut0On0+HEiRNYuHDhiBkVwzBgWTZ0c+3YsWPo6urC/fffP2ZWi8FggNFoPO/m60SZzWZMnz4dFRUVoeWYc7/m8M+FoXsIv//977FhwwbMnj171CyM3t5eeDye0K7Sc7NqMDQW6nELN41GM+b4RsuuXbuQl5eHRYsWjbtL93INL/FF83ejqGhgiPruXAziOC6UKZOdna3uBoZqvzidTuTl5U1oq//l6uvrQyAQQHZ29phBqKGhAWlpaUhPTx81oGNo+eP555/Hr371q3GrNCYyWZbx05/+FGvXrh0z64aiqPHFRVBPFv/yL/+Cxx57DMXFxZf9SSIeHTx4EK2trVizZg1NMaSoS5R8kSOGPf3003j99dchCIK6K+EFAgFUVVWhpKSEBnSKugx0ph5jmpqaYDQakZeXl1TrvS0tLTCZTMjKyhpziYqiqAujQZ2iKCqB0OUXiqKoBEKDOkVRVAKhQZ2iKCqB0KBOURSVQGhQpyiKSiA0qFMURSUQGtQpiqISCA3qFEVRCYQGdYqiqARCgzpFUVQCoUGdoigqgTA+n4/WfqEoikoQdKZOURSVQGhQpyiKSiA0qFMURSUQGtQpiqISCA3qFEVRCYQGdYqiqARCgzpFUVQCoUGdoigqgdCgTlEUlUBoUKcoikogYQvqikIw4Paiz+UJPXhRUl8WVQNuL375/jY0dPaouyiKohJS2Gq/9Lk8+P8+2AFJUaDVaKAQAk4UsbJkBr589TJoWVb9lIvWMeDEvso63LJiEWxmk7p7TH0uD36/dRfuvWYF5hbmqbtHuNTvQVEUFUvCNlMfdvuVi/GTh76M/3r4Xnz9hmtwqrkN1W1d6ssmxO3nUN/RE9GZfzS+B0VRVKSxTz/99EZ146Xw8wKO1DSheEoOCu2ZAACL0YDTzW3ISbeh0J6J4w2tePWTMmw5eBwHqxthMeoxJSs99Pw3Pz+INz8/iB3HzuBs7wBmFeTis+NnsPXwSfh4HkfrWmAzm5CfGXwOAFTUNeOtXYdwpLYZf99bjt0nq8FqWEzLzYKfF3C0vgXzpk6BPTUFrT39eHnrLmzefxR7TtdBkmXMzM/BJ0dOjvs9KIqi4kXYZ+rnaunuh8sXQIrZhMauXmzefxTXLJyN/3t0A25duQhby0+hpq0LBMCmsiPoc3nwzFfvxI8fuAuCJONvZUdw07KFeGD9VUizmPHkPTdiecn0Ed9DkCT0uzxYPXcm/veb9+PGZQux8/gZNHb2jrhuwO3F6zsPoDg/G//76AY8fOPVOFzThANn6nHbysXjfg+Koqh4Efag/vHhk3juL+/j2b+8jzc+P4BVc4uxYFoBTje3w55mwzULSqDRMFgxewZy01NxtL4FDrcXbf0O3LhsPlItJlhNRly/ZC46+53odrrU3+I8mTYrFkwrgEbD4Kp5xci0WVHX3j3imvqOHmg0Gty4bAE0GgazpuRg/rQpONbQCklWRlxLURQVr8Ie1K9fPBffufsGrJ5XDJvZhKvnzwIDoN/lgZbVQMsGvyUDwJ6aArc/AKfXB0mWodfpQl8ny2aFRsPAE+DO+eoXZtBpYdTrEBCEEe19Ljd0rAas5otfOS8jFZwggBfFEddSFEXFq7AHdYtRD3tqCq6aWwwA2F9VDwDISk0BIcC5qTZufwBGvQ7pVgv0Wi2I8sWM2RvgoBACo057zjMuTJIVSLIyIngDgD3Vdt73H/QGoGXZy8rMoSiKiiVhD+rD0qxmXL2gBEfrW9DtcGF2YR56Bl2oau0AADR39+Fs7wCumDkVqRYz7Kkp2H+mHpIsQ1EIDlQ1IN1qQaE9A0AwGCvK6NmXg94AOgcGAQC1bV3ocbowMz97xDXTcrLAiyKO1bcAABweH040ncXC6QUwDL1xjPc9KIqi4kFEs19y0mw40XQW/W4Prls8FwwYfHDgGD4/UY0jdU1YNbcY1yycDVbDYGp2Jo43nsWHh45j5/EqCJKEB9ZdBZvZBLNBj5ONbdhx/AysJkMo0ANAW58DTV29qGnrwraKSlQ0NOPKOTNx7aI5I7JfpudmwWY2obTiNLYfq8Se07UomZKL269cAo1GM+73oCiKihdh23x0sQgAjz8Aq9EIjYZRd4MXJUiyDIvRMKJdUQi8HIcUswnnPutAVT32n6nH43d8CRqGgU574eUUT4CDSa8777qxvgdFUVS8iNjyy1gYADazadSAjqEbneqADgAaDQPbBYKtyaA/L1CPJsVkHPW6i/keFEVRsSzqQT3cMm0pmJmfM2qQpiiKSjZRX36hKIqiIifuZ+oURVHUF2hQpyiKSiA0qFMURSUQGtQpiqISCA3qFEVRCYQGdYqiqATCEEJoSiNFUVSCoDN1iqKoBEKDOkVRVAKhQZ2iKCqB0KBOURSVQGhQpyiKSiA0qFMURSUQGtSpmPTOO++omyiKugg0qFMURSUQGtQpiqISCA3qFEVRCYQGdYqiqARCgzpFUVQCoUGdikmiKILneXUzRVEXQIM6FZNOnDiB0tJSdTNFURdAgzoVk1asWIG77rpL3UwlGEUh8HMiBFEGLQIeHjSoUxQ1aXocPvz1kzM4cLoDnCCpu6lLQIO6iiQr8AZEON0cHG4OHr8AUVJAJxEUFX4+TkLvoB+8KKu7qEtEg/o5eEFGbasDb22rwn//9TB+9pdD+MOHp3CivhdenwB6SBRFhRcvyJBlAqNeC5Zl1N3UJaBBfQgnyNh/qgNvbqtC3VknivJsKClKx4Cbw18/qcT2Iy1wuDkoNLBTVNjwogRJVmDQs9BqaDgKBzqKQ0su5VVd+PzoWeRmWvGd+5bi8S8vwWN3Lca/fHUFrpyXh7LjbdhZcRYuD09v6ERBIBCA2+1WN1MJhheCN0j1WhYaDZ2ph0PSB3UCoLnThT0n2pCZasQ9183C1FwbGCb4Aku1GnDfDXNx1cIp2H+yAxU13Qjw9IZOpNXU1GD//v3qZirB8KIMLctAyyZ9KAqbpB9Jf0DE3hPt4AUZ61dMw5Qsq/oS6LUa3HnNTMydloHPylvR0uWCLCvqy6gwuuKKK3DLLbeom6kEwwsStKwGWrqeHjZJHdQJAU439qG124WV8/IwPc825kdAs1GHW9fMgMWow+dHz2LAzdFlGIq6TMGZugYsXU8Pm6QeSW9AwMn6PpiNOsydngmrWa++ZISiHBuuWjQFje1O1LQMQJBoGtalEgQBAwMDGBgYgCTR5axkxQsyWJYBS5dfwiapR7Km1YGuAS8WzrQjL9Oi7h7VmkVTUJRrw54T7RgYDNA0x0sgCAL27duHXbt2YevWrTh+/DgUhS5nJSOOLr+EXdIGdV6UUd0yAL2OxcyCNJiNOvUlozIZtFh7RSGcHg6VTf1008Ql6O7uxh//+EcsX74cmZmZ+N73vgeO49SXUUmAF+jyS7gl7Uie7Xajo9eDWYXpyM24uFn6sIUz7Ziel4pDlZ1w0LX1CTMajfjhD3+IgoIC5OTkoLm5GRJdyko6ikIgSENBnc7UwyYpg7pCCOrbHOAEGTPy02CzGNSXjEun1WDN4gIMenlUNfdDoLP1CcnOzsbixYshiiLKyspw8803Q68f+UnJ5XKht7cXvb296OvrG9FHJQZBkr/YeETX1MMmKUfS4xfQ0uVGToYZuZkWDKWkT8iCGVkoyrHhYGUXXD66IWmiOI7DkSNH4HQ68ZOf/AQGw8g31ra2NlRWVqKyshJVVVUj+qjEwAsyJJnAoGOhHSPrjJq4pAzqrV1uONwcpuWlIsNmVHdfFJ1WgzWLpqDf6UdDuxMSzVu/aKIooqKiAtXV1fjXf/1X5OTknLemvmDBAqxbtw7r1q3D2rVrR/RRiYEXv5ip0+yX8Em6kVQIQWu3G4QQ5NutMBm06ksu2oKZWcjJsOBQZRd8nKjupsZQU1ODl19+GdNnzMDJkyexbds2dHZ20kyiJBMs5qXAqKPFvMIp6YK6xy+go9eDrDQz7GlmdfeEmAxarJibi9YuFzr7vJAVGpQuRkNDAwwGA9579128/vrreOutt2A0XtonJip+BWfqBHo9S7NfwijpRrK9xwOHm0NhTsolL72c64rZObCYdKio6QYv0BumF+Oee+7BH/7wB7zyyiv4/e9/j7feegtTpkwJ1duhkgMvBCs0GumN0rBKqpEkBGjv80CUFeRmWC5r6WVYZpoJs6dmoLp5AG56w5SiLhovypAVBQa6/BJWSRXUOUFCV78PNrMemakmdfclYQCsnJcHPy+humWA3jClqIs0XHZXp9VAQz+lhU1SBfU+px8DrgDysixhWXoZVlyQjrwMC8qraVnecOnv70dbW5u6mUogw8W86NJLeCXVaHYN+OALiMjNtCLlAsW7JkKn1WDpnBy09XjQ4/BBoTdML9vAwADa29vVzVQC4QUZrIYW8wq3pBlNRSHoGvBCq9UgM9U4ZondS7VkVjYMOhbHa3sh0iWYyzZ79mysXr1a3UwlEEGkxbwiIWmCuo8T0ecMIM1qQEZK+JZehtnTTZiWb8Ppxj74ac46RV0QJ8pg6fJL2CXNaPY6/XB6OOSkW5AWgaDOMAxWzs3DgCuAs91umrNOURdAl18iI2lGs9fpR4CXkJVmgtl4+amMo5kzLQM2qwFHa3poFgxFXUDofNIwL4Umu6QI6oQQ9A/6oWM1SLcZI7bJxWYxYHZROmpaB+D1C6BzdYoanawQiKIMnZYuv4RbUoxmgJcw4OJgNeuRZp1Ymd2JWjYnFx6fgPq2QZoFcxm6u7vR2NiobqYShCjJkBQFerrxKOySIqgPuDg4PRyy0kxIS4lsUJ9VmI6MVBOO1nTTJZjL4Pf7MTg4qG6mEkSo7C4tERB2STGafYN++AIislJNsJjCl58+GpNBi/kzstDQ7oTbR5dgLtWMGTOwbNkydTOVIHhBhiQpMOpo2d1wS4rR7HcFQAiQbjOCjcJNmaWzsxHgJdSfdYDQJRiKOs8XtdS1NE89zBI+qAuSDIeLg8mgjfh6+rBpeanITDPjWG0PTW2kqFHwYrBCI11+Cb+EH023V8Cgh0N6iiHi6+nDjHotFgwtwbh8vLqbopIeLwYPyDDoaC31cEv40XS4Obh8AjJSTUgxRyeoA8DSkmwEeBm1rQ4otB4vRY0gCDIkJXg+Kc1+Ca8kCOoBCKKM9BQjDHpW3R0x0/JSYU8342hNN01tpCgVTpQBAui0LC27G2YJHdQJAZxuHizLIC3FgGi+dAx6FgtnZqGhfRCDXroEM1FtbW04c+aMuplKEIIgg2UZepM0AhI6qPOiBKc3eJM01RK9pZdhS2fnIMBJqG1x0EOV4xgvyujo8+BkfS+OVHXhVEMfugd8ECW6D+FS8SKt+xIpCT2ibp8Al5dHmtUAmyWy+emjmZprgz09mAVDY/rEFBYWYv78+ermqBIlBS1dLuw43IL3d9fjw72N+ORAEz7c04D3d9dh97Gzwfr59D93wnhRohUaIyShR3TQw8PjE5CWYgzroRgXS69jsbDYjvo2J9w0Cyau+AIijtX2YMueBlTUdMOgY3FFSTauWjgFi2bZoSgE+0524JMDzWjpdNHU1QniBQWshi6/REJiB3UvB0GSkWo1QK+L3k3Scy2bnQ0fJ6L2rFPdRcUot4/HoTOd2HGkBZKsYN2yqbjr2lm45aoZuPHKabj1qhm4e+0srJibi7YeN7YdbsHZbjedsU9AcPmFztQjIaFH1OXlwTDMpCy9DJuamwp7WjALhv7Nxz63T8DhM13Yf6oD9jQT7rh6JlYvzEdOhjm0G1nLalCQnYLrlhbi6iUF6HX6h5Zi/OovR41BECW6ph4hCTuigqRg0MtDr9NMyk3SYQY9i/kzM1HT6oA3IKi7qRji50Qcr+vBocpO5GVacPPqGZhVmA6ddvQ/E6tZj5Vzc7F8Tg5au904VtMDj5/+H1+IrBAIkgKdjs7UIyFhR9TrD94ktZn1kzpTB4Blc3Lg8QuoPetQd1FjaGpqwrFjx9TNESNKCmpaHNh/sgMZNhNuWDkNRTm2C9bet5r1WLUgH0U5Nhyv60Fj+yBdX78AQQwW8zLoWLqmHgEJG9RdXh4uL49UqxG2SZypA8CM/DRkpppQUd2t7qLGYDKZYLPZ1M0RQQjQ2u1G2fE26LQarFtehKJcGy4Qz0MyU024amE+WA2DY7U96B8MqC+hzhEq5qXT0pl6BCTsiLq8PDhBQqpVH9WdpKMZrgVT1TyAAD2U+qLk5eWhuLhY3RwR/S4/DlZ2wuMXcPWSAhQXpE94l+OMKWlYMNOO1m43GtudNId9HEKoQiMtuxsJCTuibp8AQoBUq2HCf6CRsGxODtw+HnVtNAsmlvg5Eaca+tDY7sSiWdlYNNM+5hr6ePQ6Fktn58Bm0eN0Yx/6XfSm6Vh44dwKjZP/t5loJv7qjQMKIXD5eLAaBrYoFvEaT/GUNKSnGFFe3aPuSkoOhwMnT55EXV0dFGVyZrUKIWjpcqP8TDdyMy1YtSAPFpNOfdlFy820YN70THT2edHa5aYnX43hi+UXWnY3EhJyRAOcBLePh9mgQ8ok3yQdZjLqMH96Fiob+8AJkro76QwMDOBvf/sbSktLIYqTsyTVPxjAkaouyArBmkUFyEk3qy+ZEFbDYFGxHVazHtUtA3C6OfUlVGj5hcCg09LllwhIyBH1+AW4fQJs1snPfDnX8rm5GPTyaGinZ29mZ2eDEILOzs5JqYvDCRKqWwbQ3OnC4ll2lBSmXzDT5WLkZFhQXJCGs91udA3QEgKjGa6lrtex0EbhJLJkk5BB3e0T4PELsFkMsEb4TNKJmFWUDptZj6M1NAsmNTUVmZmZ0EzCAQkEQGefF+VV3bCnm7Fyfl7YbqZrWQ3mz7SDZTWob3PSvPVR8IIMANBpNWF5I6VGiv5fVBR4/AIkWYHNYrikm16RYjHqMGdaJk419EEQgy9sanS1tbU4cOAADhw4gEOHDqm7L4vLy+NYXS98AQFXzs9DVppJfcllKcpJwRR7CuranDS9cRS0REBkJeSoevw8CCExtfQybMXcXDjdHBo76BLMeDIzM1FQUBB6hIssK2jpdKGysQ+zijIwf3pm2LOjjHotZk9Nh58T0dHrpW/gKrwoQ0NrqUdMwgV1WSHw+ERoGAYp5kvPZIiUOdMyYDbqcLyOZsGMJysrC0VFRSgqKgprUO93BVBe3QWDjsXqBfkwGyPzGpldlIFUiwH17U56SIqKIARrqdOZemQk3KgGeAkevwCzUQfrJJTbvRCrSYc5UzNwqr4vqTeoVFVVobKyEmfOnMGxY8eiktbICzLqzjrR2u3BkpIcFOakqC8Jm/QUI6bm2dDe44aDZsGMMHxABg3qkZFwo+oLCHD7eaSY9bDFYFBnGAbL5uRiwMWhsTN5l2Byc3Px+OOP40c/+hFmzJgRlRtmPU4fDp/pQlaqESvm5kY0qGg0DGYVpkMmBB29HprGeg6BrqlHVMKNqtcvwusXkWLWwxJDmS/nmjc9EwYdi+O1ybsEk5GRgZUrV2LNmjXIzc2NeFD3BkRUNvbD5eWxYl4eMlKN6kvCbnp+KlItBjR2uOD20SyYYV8cZRfZ//NklXhBPSBAlGRYzbqYynw5l9WsR8nUdJys66O7DqOAEIKufi+O1vSgKDcFi4vtYb85OhqbWY/CHBs6+z0Y9NAlGACQZAXiUNndWP37jHcJN6regAiFkEk5vu5iaRhg6excONwBmgUTBS6fgGO1PZBkBasXTonavRaGYVBckAZZIejq94Xys5NZqJiXjhbzipSEGlVCgnXUAQYpMVLzZTQMw2De9EzodCyO1/aquykAlZWV2LVrl7p5wmSFoL3HjdMNfZg9NQOzCtPVl0TUjClpSDHr0dgxSDci0bK7UZFQo8qLEjx+EUY9ixRLZFLVwsVm0WPu1AycrO+FkMRZMGMpLCzEggUL1M0T5nRzOFTZBb2OxZqFU2CI8lm1Nose+XYrOvq99PDxoZm6KA2XCEio8BMzEmpUfQERbj8Pq0kf08svGMqOWDYnF04Ph8Z2Wo5XLTU1FXa7Xd08IYIoo7FjEA0dg7hidg6mZFvVl0SchmEwIz8VAU5EvyuQ9PdQQjN1PQstXVOPiIQaVW9AhMcnwGrWxfTyC4b+2OdOy4BBr8XRJM6CiaQBN4f9pzqQbjVg9YL8Sfu4PyM/DWajDi1dbvgCk1ORMlaEjrKjtdQjZnJe5RHiCwjgeAkpZn3UP2ZfCotJj9lFGThNa8GEXYCXUNXUj16nH6sW5EclhXEsWWkmZKaa0NbrgTfJgzqtpR55CTWq3oAIeSjzJQoZa5eN1TBYMTcXLi+PmlZ6KHW4EAL0D/px4HQnpmRZsWxublRSGMeiZTUoyrGh3+mHx8cjmavxCkIwqOu1LFhadjciEiqo+wIiFIVELWXtcmk0DGYVpcNq0tFyvGHkCwg4WtODAC/imiUFsF7GaUbhMi3PBlbDoNvhAy8m7+5SXpTBMAwtuxtBCRPUJVmBNyCC1cRmIa+xmA1aLJhhx5mmgaRfbz3XiRMnUFpaqm6+IIUQdDl8OFLVjVmF6Zg7PVN9yaQozE2BxaRDa7cHfi55g7ogKrTuS4QlzMgGeAne4UJeMVoeYDRaVoMV83LhDQiobOxTdyetkpISrF69Wt18QR6fgAMnO8AwwHVLi2Lm3kqKSY+cTAu6B3zwc8n75s2LMjQ0qEdUwoysjxPh9guwmHQxn854Lo2GQVGuDVlpJpTX0CyYYWazGampqermcUmygtZuN0439uOKkhwURbAK40QxDIOiHBucbg5uvzApR/jFgmAxLxrUIylhRtYfEOH1C7AYdZd1IvxkMOhYLJppR2O7EwMuelLOpXL5BOw6ehYpZj3WXlEQc9vQi3JSoGUZdPZ5wSVpyQBelKFhaFCPpIQZWT8vQZQUWM26uHvBaLUaLJ+bC06QcaKelg24FLwoo7qpH2d73FizeAoyw3xEXTgU5KTAbNKhtdudtEswgihDw2qg1dKbpJESX9FvHL6ACFlR4mrpZZiGYZCdbkZBthVHq3uQnB/MLx0hgMPFYUd5C6bYU3DVwvxJTWEci0mvQ36mFT0DPvj55LtZSgDwggSWztQjKmFG1s8NpTPG0U3Sc+n1LJbMykFnvxftvR51NzUOPydi36l2+DkJN6+aHrEj6i4XwwRn604PB28SrqvLsgJRDpbdpUE9chJiZCVZgY8TwbIaWOMonfFcOpbFkpJsyIqC8qoudTc1Blkh6Oj34tDpTiwqzsbsouhWYZyowpwU6LQsuvt94JNsFzHdTRodCTGyfm4ondGgjduZOsMAaVYDZhdl4HhtLwQxuQs/lZeXY8uWLerm83j8Arbub4TRoMVNq6bF3M1RtYLsFJiNWrT1esDxyRXUQ3VfaFCPqIQY2QAvwuMXYDHp42Y36WgMehYr5uVh0Muhsim5c9aXLFmCm2++Wd08giDKOF7Xg5YuF9avmAp7DN4cVTMbdchON6PH6UMgyc4tHT4gQ6+nQT2SEmJk/bwEr1+E2aiNiS3hl0rLalBcmA6rSY8jZ5J7CUan08FgGLvSJiEEfYMBlB5oxoz8NKxZPCUutp0zAKbYregfDCCQZBkww7XUDTqWZr9EUEIE9QAnQRBlWEz6uJ8BmA1aXDE7G/XtTnQ7fOpuaoifk/Dh3gZIsoK7186CXhsbO0cvRkF2cFNU/2AAYhIdkCKIylAtdS20bPz8f8Wb+I6AQwL8cHXG+J2lDxteguEFGRXVtMjXaERJwamGXlQ29uG65UUxtXP0YkyxW2HUa9He5wGfREswvChBDN0opTP1SEmIoO7nJMgygdUYv+vpwzQMg0ybCcUFaaio6k76G6ZqhAC9Tj/e/bwORbk23LRyWlwsu5wrM9WEFLMeXf2+pNpZKogKZJlAp6UpjZEU9yOrKAS+obXJeE1nVDMZtFi9MB8OD4cT9bQezLkCgoS3t1eDEOCBm+dBHyMFuyaCYRjkD62rJ9NMXRBlaBhARwN6RMX96AarM4owxXE6o5pOq8HMgnSkWQ04cKozKXeYHjhwAJs2bRrRJkoKdh09i8aOQdy9thhT7PG17HKuAnsKXD4enoAIJUk2IYUqNNKzSSMq7kc3mM7IBzNfEmSmDgAWow4r5uWhrceNxvZBdXfCW716Ne67777QvxVC0NLlwsd7G7F4lh3XXFE44vp4k2+3QK9j0dnnSZqjDAVadjcq4n50h2fqZqMurnPU1YwGLZbNyQGjYbD/VIe6O+Gp18ldHh6vbTmFtBQ9/p8b5yG+VtHPl59lhVHPorPflzRBfbhCI11+iay4H10/LyHAB4N6PK6vjoUBYLMYsGx2Dqqa+9E14FVfkjR4Ucaftp6GNyDim3cuRool/t+8zUYdMm0m9Dn94JPkZnio7C5dfomo+B5dQsAFBCgKgc2sD83eCCExWSxJUSb2x2s2anHl/DwIgoT9x9sAeWLPvxgxOVayHHwM1fXZUlaPmlYHvvKlEswsSFNfHRWRGKfcTAscg34InBBM67kEE31NRcOoY6UoEHkRrCa4yY6KnIiPrjz0x6lGCBmzD0P9Y71gCSFQfD7g0CGk/vUPmF55CGkQQv1VVVWorKwc8ZxhiqKc/4I7x4X6ZVkes3+83wfAeTf+zjXaczUMgyyrDmuMPhhffQWBv7wBOBwjrhlvnHAR/WfOnMGZM2fUzcBFjMV4/eONE8b4fUEI0NMDvPwytK+9BtLdgz3H27DtcAuuXVKItUuLgLGeO2S819WFxmK8/vHGCRcYC4zRX6QXMf/IZzC89gpIXR0gjZ4JM9bvgwu8pjDOc8cbJ1xgLHCB/srKSlRVVX3R4PEA27dj2uY3Mf1sDXQid95YDBttnM413utqvN8nqZAI4jiOvP/+++pmQgghg4OD5JNPPlE3h3R2dpLdu3ermwkhhLTU1pKKxx8nJDOTEICIFivhf/ivhHi9hBBCKisryalTp9RPI4QQUlFRQerq6tTNIXv27CHt7e3q5pBt27YRh8OhbiaEEPLBBx8Qv9+vbg55++231U2EjDdOkkTI4cNEzssnBCDEYCDkzjsJGRwMXTLeOBFCSGNjIzl8+LC6OeT06dPk9OnT6mZCCCHl5eWkoaFB3RxSVlZGOjo61M2EXGCcCCFk8+bNJBAIjGzs7yekuDj4uwKEK5pOvvfsJvLC3yqIKMmEEEICgQDZvHnzyOedw+FwkG3btqmbCSGEdHR0kLKyMnVzSENDAykvL1c3E3KBcSKEkMOHD5PGxkZ1c8ju3btJZ2fnFw2Dg0S87Xai6PXB3zc/n5DDh4P/5yrvv/8+4ThO3UzIOK8pQgjx+/3kgw8+UDcTcoFxIoSQ9vZ2smfPHnVzSF1dHamoqFA3E0IIOXXqFKmsrAz+w+sl5N//nRCbjRCA8Knp5NA/fYu01Naqn0bIaOOk8sknn5DBc17/5xpvnJJJWGfqoiiOeEiSBELIee0X6hNFEbIsQ1GU89pFUYSxpwcZp08DAwMAAK3PC93RckjHj0MURSiKAlmWz3vehfpEUQQhBJIkndd+br+67WL6RDGYS69uE8cbC4cD8scfQ9PVGRxgngc5fRrS55+HrhlvnIa/9nj9iqKM2a8oygXHYqyxHPX3OecB4LyvLb/3HtDcHHo96dpbcV1rOR68sQRECX4faWg2q/565z7G+t7Dszx1+/BjvLEab5yG+9W/j7r/3LGSPv8cbNUZMMLQJ8zOTsgffwzR4TjvueO9Ji91LC7UN+Zrcugx3uvu3D7p+HGQw4cBtxsAoHc5kV1VCWNPz3nPE0cZJ/VjvLEYqy/ZMISM8VlmgggheP/999XNEZHS04M5mzejaOfO4JyOYdC7ZAmq/vEfMTBjhvryuKULBDBr2zbMfestYOijricvH6e+8Qi6lyxRXx73pu/bhytefBHMUOBWtFr8/eZbcHLhAixbtkx9eVzLP3kSi/7wB1i6uoKvYY0G1V/9KupvugmiKfarTV6szKYmzHv7bWSfOBH6Wz37pS+h5p574MnJUV8eEV/+8pfPy6ZKaOqpe1wQBELeeYfIM2YS3mgmXG4+kf7rp4SoP87HO1km5ORJQhYsIMRqJVxqOmlefxfpPNurvjIhiM5B4py3mHBGMxGMRiKvWEmI262+LDH4fIR87WtEysgknMFE5Hnzg//XcnCZKWEEAoT87GdELigI/q0WTSfSW28H/4apiAjbTD3qRBF9h47h6DvbYJ0/G6sfvhOsOXFmOCGKAnR2guzahSY/g9c8mViwcCo23DAXrCZxZh+CGCxgtumDctzQfQopSjeu/d//F0iJ312jF+Tzof6v7+PIvmqs/cHXkL+oBJo4qjZ50TgOvZ/txZGPD8B+3Wosuv0amKwJ+LcaI9iNGzduVDfGBZZFG8zYI2fAMHM65pfkqq9IDAwD2GxgFi8GO3c23CJBZeMACrNTkBUHh0JcCBk6Y/SzIy149/M6TJtmx73f/QccE/xYkGBLLufR6zGYPxVbvRZkFuQgP9uWmOl+Wi3O6tOwS0xD5qypmFmUmVATklgT168gjpcgyQosYxyMQQgBz/Pw+/2hGymxQJIk+Hw++P3+Cf1MNrMBqxfkg9Uw2FHegkAYT6RXFAU8z4PjuKilhskKwYArgL9+cgafHmrG8nl5eOIry2Juc5Esy+A4DjzPQxkjje9S5WVaYNBr0dnvhSBNbNx5nofX60UgEFB3TRpRFOHz+c4bqxGnHtHNRxEV16PLCRJkRRm1PAAhBN3d3di9ezc++ugjHDp0CA5VjvdkEEURhw8fxubNm/H++++jpaVFfcmYGAbIybBg7dICtPV4cOBUBxTl4t8UxjM4OIgDBw6gtLQUHR2RL0sQ4CXUtA7gN387hpqWAdy+Zia+ftt8GPWxt/zQ39+PHTt2YNeuXXA6neruy2I26pBhM6Lb4Z/QgRk+nw87d+7E5s2bsWXLFjgHJ78+kNvtRnl5OT7++GPs3r0b7e3toQkCL8hgGAY6lo37Eg+xLm6DukII/LwEhWDUI+xkWcbWrVvR2NiIxYsX45133sGmTZuiNgsdy9mzZ/Hcc8/hhhtuAMuyeOyxxyZUhdFk0GJRcTaKclOw/1QH2vvCUz5AlmWcOnUKpaWlaGtrU3eHjSgpGHBx+PRgM37//kkwGuCxuxfj5tXTY/bQaEVRcODAAXz66adwuVzq7suWb7diwBWYUA2YTz/9FB9++CG+8pWv4ODBg/jlL36hviTq9u3bh8OHD2Px4sU4evQoXnnlFfT39wPn1n2hs/SIi9sRFkQZvoAIg44dteSuVqvFXXfdhXvuuQdZWVkwmUzgeX7S81aNRiN+/vOfw263o7CwEGfOnJnwR/rMVBPWLZsKTpDw6cEmeANf7Ka9VHa7HfPnz4fdbld3hYWsELh9Ak7W9+J37x3D3hNtWDonB09tWIZ5M7KgUaWcBQIBeDyeEW2TJS8vD3PnzkVqaqq6Kyzys6zw+gV4/MJFl+EtKirCxo0bYTAYUFhYiFOnTqkviborr7wSGzZsQEFBAWw2GxiGgc8XPJKRF4IVGmlQj7y4HWFOkOH189CxBHqWQBAECIIAcWgDAwCkpKRgcHAQ27dvh91ux+rVq8c9zDgchjdsDP88w4/hn2nKlClYuXIlOI7Dvn37cP3114PVTOy/gdUwmJpnw9orCtHUMYg9x9vHXY8lQ5uE1D/T8AaTSJIVAo9fQEO7E29tq8IbpVXQMAwevGU+Hrh5HtKsxlE/jtfU1GDv3r3q5oSUl2mFTseia8AH6SKXYFauXInc3Fy43W4cO3YMa9euVV8SdZmZmeA4Drt374bb7cayZctQUFAAnFNLnQb1yIvbEeYFCQMDAxjoakZLUy1Onz6N06dPo6GhAe6h3Wssy8JqtSI7OxsOhwMNDQ0Rv6nk8/lw5syZ0M8z/Dh3LZbneVRUVKCzsxO/+tWvRjz/YlmMOiydk4PignQcquxEZWM/pDEKfkmShM7OzvN+ptbWVnAcp748LGRZgdvHo7Hdifd31+GVD07ibI8H61dMxZP3L8OS2TnjZnpcccUVuPXWW9XNCSk30wKDjkX3gG9C6+oejwdbtmzB7Nmz8Z3vfk/dPSnMZnPo015zc/M5yy8SNAwt5hUNcTvCHC9jYGAA3WdrUVV5EkePHsXRo0dRVVWFwcFBSJIEnudht9uxfv165OTkoKKiIqLrxQDg9Xpx8uQXP8/wY/jFLUkSjh07hiNHjuD//u//kJmZCWF4q/gEZaWaccPKqTAbdSg92IzmThfkUW6ciqKItra2836mhoYG+P1+9eWXRRBlONwcalodeO/zOrz6wSnUtAxg1fx8fO/+pbh1zQxYz6moSQEWkw42iwE9Dh/EMd6Y1Xw+H7Zv3w4A+PGPfwxZEiL+qWs8hBB4vV5YLBZceeWVWLx4Merq6kKF9YLLLxroEjEPP8bE7eaj2rMOfLinAdPyU/GVdbPV3ejt7cXhw4eRmpqKOXPm4PXXX0cgEMDXvvY1TJ06VX151FRVVeEnP/kJnn3uOTAAXC4X8vPzL/lnkmUFNa0O/P3zWlhNetx7fQmKclImfNOR53l8+umnKCsrw0033YR169ZBrz//XsVoFIUgwEvw+AU0dgziWE0PWrtdMBl0WFRsx5rFU5CTYZlQbvI777yDDRs2qJsnBcdx+OMf/4iGhgY89NBDmD9/PrRarfqyy/KXTyrR3OHCt7+yFPaL2H/w3nvv4dChQ3jkkUdACEFLSwtuuukmsOzkBE1RFLFr1y74fD5cddVV2Lt3LyoqKnDnnXfiyitX4Y1tVXB6ONyztgRTc23qp1NhNLG//BjCC8G819EyXwDAZrPB5/Nh//792Lp1KwRBwNq1a1FUFCzfOln27t0Lp9OJHz/3HJ599ln8/Oc/h9lsVl920VhWg1mF6bh9zUwMeji8v7sOTZ2uCX2MB4C+vj50dHTA6/Xi7NmzGBgqljYWMvR/MOAKoKF9EDvKW/DKlpP4oKwebr+A65cV4bv3L8W960qQn2WdUECPJQRAR0cH+vv74fP50NTUFJEMmLxMKwY9PAK8eFGl1Xfu3Im6ujo8++yzeO655/C3v/1t0gI6AOh0Ouh0OlRVVeGTTz5BU1MTVqxYgUWLFoEXFYiSAoNOS9fUoyBuZ+pHqrqw7VAz1i4twrVLgjdjRhMIBCDLMoxGY9hnV7GEF2ScbOjF1v1NMBu0uGnVdMwqSofFOPqb3qUSRBl+ToTbJ6C5y4UzTf1o7XZDwzAoyrVhSUk2Fs7MgsWox+XUUIqlmXo0nGrow58+Po2v3TIfi4rtcbv2LIoieJ6HXq8PfdJzeni8s6MaBj2LO66eCXvapU9iqAuLy1cOIcMbj8iYM/VhJpMJVqs1oQM6ABj0LK4oycGXr58FWSF4f3cd9h5vR4/DP25mzIUQEgzkTg+Hth43jtf2YMueBrz24Sl8cqAJbp+A1Qun4J/uWYxv3rkIqxfkw2q6vICOoZuAF/q0kEhyMy3QaYM3S8e64R0PdDodrFbriKU7QZQgSjIMOpaeTxoFcTnCoiTDHxCh02ouGNSTiU6rwcIZdvzjjXNRkJOCsuNt2PRZDU7U9aJ7wAc/J15wByohwfF1+wT0OHxo6hhEeVU3PtzTgD9+VInNZfU42+NGSVE6Nqyfgye+shR3XVuMaXmpYf1o3dLSghMnTqibE1aGzQiTQYsex8WnNcYLXpCDyy96Flp6ozTi4nL5xe0TsO1wM852u7HhhjmYYk/gSn6XyOXjcbS6G4eruuD2CsjOMGPu1EwU5KQgxayHTqsBq9GAYYby2BUCUVLA8RIcbg4dfR509HnR5/SHPhEV5KRg9tQMlBRlIM1qOG/DUDgl2/ILAPz23WPwcRIeu2sx0lIiu58imurbnHh3Vx0WzMjCjVdOgyGBDoiPRXEZ1PsG/fh4XyN8nIgHbp6PNGvi/AGEk0II+gb9OF7bi+qWAfQPBiDLCswmHaymYGDXaBgQhUAQFfg4Eb6h3alGgxbpKUYU5qRgRn4apuenwmbRR+2wgWQM6u/uqkVFdTd+8I8rYE9PnHXnyqZ+bN5djyvn52H9iqnQxOlN83gRvs/LUcQLMnycBKNeC4sxsdfKL4eGYZCTbsHNq6bjn+5ejIduW4D1K6ehuCAdZoMWkhycmSsKgdWsw6zCNKxbPhUbbpyLx798BR6/9wp8+boSLCnJRqrVELWAnqxy0y3wBSR4AhdfLiAeCKIMhRDodMFJBBVZcTlTb2wfxOayeuRnWfHVm+aqu6kEkIwz9fo2J3733nHct34Ols/JDes9isl08HQnPitvxbrlRVizaIq6mwqzuHzV8GKwjrrVTG+SUokjO92cEBkwasG6L8Eb+VTkxeUoc8Mbj0apo05R8SrFoofVpEOPww85oYK6RMvuRlHcjTIZOhxjvN2kVPxzOBxROawjlmgYBtkZZvQP+iHJcbcqOiZh+IAMms4YFXEX1GVZQYAPvvOPVkedSgy9vb0TOhUqUeRmWuBwc5e1YSzWhA7IoBuPoiLuRpkXZHj9Iox6LZ2pJ7A5c+ZgzZo16uaEl5NhgSDKGPRwF9woFg8UQsCLCjQahp5NGiVxN8q8KMPjF2AwsHRNnUo4uZkWaFkNuh2+UcsoxxtRUiBKMvQ6lq6pR0ncjTIvSPAGBBh1WpjDXKyKoiZbdpoZep0GvY7gRrF4J4jBEgFGPQs9XVOPivgL6qKMACfBZNDS7cZUwjEbtUgxG9A7VJ4h3vGi/EUxLzpTj4q4G2VekCFIMqxm3WVXAqSoWMMMZ8C4/JAneCB5LBJEGYKk0OWXKIq7UQ6+8yuw0MyXhNbT04OmpiZ1c1LISTfD6eYgiPEf1EMzdT0L7SQe4pFM4i6oc4IEUaI56onO6/XC4XCom5NCTqYFgqTA5eXjPgNGCJXd1UKvi7twE5fiapRlmcDPSQBAg3qCmzlzJpYvX65uTgq5GWZoNQx6nPGfAcOLMmRZgX6o1DMVeXE1yoIkwxcQoNexdPmFSlhZaWZotRr0OPzxP1MXg5uo9DqW3gOLkrgK6rwowxsQYdCxdKYe57xeL5qbm9HZ2QklAW4IhpPVpEeKWR+sARPnYxPaTUpvkkZNXI20IMrwBgQY9DSox7ve3l68++672LFjByQpuKRGBTFM8GZp32D8pzXyogxGw9Ac9SiKq6DOizJ8AQlGPQujgR6OEc8sFgva29tRVVVFZ+qjyMm0wOkKQIzzDUi8EJyp6+mekqiJq6AuiDJ4QYLZqIOWFgeKazk5OSgsLARL09xGlZNhASfIcPt4xOE5NiG8QMvuRltcjfTwlmMLXXqJabIsw+12w+l0jnhwHHfRAWp4Fl9VVYWamhp1d8LLybCAZRn0OuJ3CYYQElxTZ2nZ3WiKq6A+vPGIltyNbR6PBxUVFdizZ8+IR3t7O2T54krKKooCSZJCj2STnW4Gq9GgZ8AXtxkwkjxUzEvL0hz1KIqbkSYkuD4nKXTjUaxjWRYpKSlIT08f8TAYLv7w6qKiIixatAiLFi3CggUL1N0Jz2rWhTJg4vUQal6QIYgKDHqWztSjKG6CuiQr8HMiWA09HCPWpaSkYMWKFbj22mtHPM5dQ29tbUVLSwtaW1tRX19Pb5aqDJ+C1OuM31x1XpQhiMFiXnq6ph41cTPSwXRGcWjjEZ2pxzuGYXDNNdfgxhtvhF5P36RHk5thQb8rELdH2/FisPiekc7Uoyp+gro0lKOuY2E106Ae74qKinD//ffjoYcewuzZs6GhW8jPk5tpAcdLcZsB88XyC637Ek1xM9KCGDzGLriblM7sqMSXnWEGwwDdDh/icQUmGNSHa6nTmXq0xFFQD66pG/VaGPT0BUIlvpwMCzRxnAHDixIUhUCvZaHRXNwNcuryxVFQD77rW0w6aC4yg4KKX83NzTh+/Li6OamkmPWwmLToccZnBgwvymAYQK/TgP7FRk/8BHUpeIIKvUmaHIxGIywWi7o5qbAaBvY0M/riNAOGF2QwDAMdLREQVfET1MXgRga6np4c8vLyUFJSom5OOtnpZvS7AnE7UwcDWswryuIiqBMSXJ+TZUIzX6ikkp1hhtcvIsBJiLewPlz3hWa+RFdcjHZw45EElqUbj6jkkpNuASEEA65A3KU1Dq+p08yX6IqLoC4On3ikpRuPqOSSnWGGRsOgx+EHiaN1dVkhEEQZWlZDd5NGWVyMtiAqX+wmNdKgTiWPTJsRei0bd7nqwWw1BXodS2+URll8BHVJhscvQK/T0DX1JFFfX49Dhw6pm5OOQa9FqtUQrAETR8svwyUCaN2X6IuL0RZEGQFOCm48ou/6SSEtLQ15eXnq5qSUkxFMa4ynNXVekMGLcrBEAF1Tj6q4COqipIAb2nh0saVbqfhmt9sxdepUdXNSysmwYMAVgBRHR9sNV2g06unyS7TFRVAXpOALhNZRp5JRdoYZgqRg0MMjXibrvCAF677o6QEZ0RYXo/1FiQCazkgln9wMCzQM0OPwxc0SzPApZXodCx09TziqYn60gxuPZEiSQjNfqKSUnW6GhhlKa1R3xiheCB5baNCxdMk0ymI+qEuKgkBo4xEN6lTyCRb20qHXET83S3lRAsMEgzoVXTEf1MVzctStZrr8QiUfjYaBPX3oaLu4CepDxbxo5kvUxX5QH8pR12k1dDdpEqmqqkJZWZm6OWnlZJjR4/TFzY1SQZDBIFh2l4qumB9xUVKCJQLo2aRJJT8/H3PmzFE3J62cdAu8fhF+TlR3xSRuqOyuQadVd1ERFvNBXZBk+DgJBp0WJgN9gSSLtLQ05OTkqJuTVk6GGYQQ9A/GfmEvWSHgRRksSys0ToaYH3FRVMDxEsxGLT3xiEpaOZkWMAyDroHYX4IRxOBuUqNOS2fqkyDmg3rwxCO68YhKbllpJui0GnQP+GI+rXH4wGk93Xg0KWJ+xEVJCe4mpZkvVBLTa1lk2IzojYMaMLwogxeCJQL0NKUx6mI+qAuiDEGQ6cYjKullZ1jQ64j95RdeHC4RoKVBfRLEdFCXZAUBXgSjYehMPcmcPHkS27dvVzcntZwMM/oG/ZBjvLB6sEKjBKOepZuPJkFsB3UpuPFIp9XQNfUkU1xcjBUrVqibk1pOhgWipMDp5tRdMYUXZMgygVHHgqV1X6IupkdclM/ZTUqDelKxWCxIT09XNye1vEwLGDDoHvDG9BIMJ0oAAL1OC5qvFn2xHdQlBV5/cKZOKzRSyS6Y1his1ogYzoHhBRlgAIOeLr1MhhgP6jK8QwdOm+mN0oTS0dGBzZs3Y/PmzXC5XDGf0RELrCYdLCYdumO8WiMvSGDA0PX0SRLjQV0BJ0gwG3XQsvSDXKLo7OzEU089henTp0MQBDz55JPgeV59GaWiYRhkZ5jR7fDF8kQdnCADIDSoT5KYD+qCQDceJRpZlvHVr34VJSUlmD9/PkpLS8EL8VHTZLLlZljRE8MbkAgBOEGChmGgp8svkyLGg7oMTpRhNdOgnkjy8vJw8803w2Qy4dSpUygqKqIlWi9SbqYZHr8APx+bb4LDR0/qaTrjpInpoC5ICnhBhpXeJI0rgiCgo6MDLS0tIx5utxuEEGi1WhiNRrS0tKC0tBS/+c1vYDQaR3yNiooKbNmyBVu2bMHWrVtH9CWz3AwLCAF6HX51V0zgBQmcIMOo19KgPkliNqgrCgEvSCCE0I1HccbpdGL79u147733Rjxqa2shisEZZkdHB15//XVs3LgRy5cvh0Yz8qW4aNEi3Hjjjbjxxhuxbt26EX3JLHcoA6a736vuigm8IIMXhjYe6Wkxr8nAkBhNOyAAvH4B/YMBZKYaYbMY1JdQMUpRFHAcB0VRRrQbDAZotVoMDg7iF7/4Bb71+OPIy82F1+uF0+lEUVFR6DzLd955Bxs2bBjxfCq4d6O21YGiXBtsMTjZESUFvYN+aBggK81MD52eBDEb1DF004WAgAEDWnU3cfzud7/Diy++CJvNBpZlMTAwgI8++gjFxcU0qF8EWSHQMLH7N6EQAgagB05PkpgO6lRi4jgOHMeF/ugJIUhJSQHLfrEGS4M6RV0a+tmIijqj0Yi0tDSkpqYiNTUVaWlpIwI6RVGX7v8H8Nz6Ee+SpTYAAAAASUVORK5CYII=)"
      ],
      "metadata": {
        "id": "gocjqPcbAdv9"
      }
    },
    {
      "cell_type": "markdown",
      "source": [
        "2. Метод ділення навпіл"
      ],
      "metadata": {
        "id": "5hYa7ucn0PEN"
      }
    },
    {
      "cell_type": "code",
      "source": [
        "import numpy as np\n",
        "import scipy.optimize as sp\n",
        "\n",
        "def f(x):\n",
        "    y = np.cos(x)*np.sin(x)*(x**2+x+1)\n",
        "    return y\n",
        "\n",
        "a, b = -3, -1\n",
        "eps = 1.e-3\n",
        "\n",
        "x = sp.bisect(f, a, b,(),eps) #функція для метода\n",
        "\n",
        "print('The approximate solution x is:', x)\n",
        "print('And the value f(x) is:', f(x))"
      ],
      "metadata": {
        "colab": {
          "base_uri": "https://localhost:8080/"
        },
        "id": "ML3KEw5q0H1e",
        "outputId": "b2c9b285-5373-4276-b893-aeafa70afce0"
      },
      "execution_count": 63,
      "outputs": [
        {
          "output_type": "stream",
          "name": "stdout",
          "text": [
            "The approximate solution x is: -1.5712890625\n",
            "And the value f(x) is: 0.0009350448126615916\n"
          ]
        }
      ]
    },
    {
      "cell_type": "markdown",
      "source": [
        "3. Метод хорд"
      ],
      "metadata": {
        "id": "sYf0IvR41ufd"
      }
    },
    {
      "cell_type": "code",
      "source": [
        "import numpy as np\n",
        "import pandas as pd\n",
        "# Визначаємо функцію\n",
        "def f(x):\n",
        "    y = np.cos(x)*np.sin(x)*(x**2+x+1)\n",
        "    return y\n",
        "# Визначаємо межі відрізку\n",
        "a, b = -3, -1\n",
        "# Визначаємо точність розв'язку\n",
        "eps = 0.001\n",
        "# Точка, де хорда перетинає вісь 0x\n",
        "c = (f(a)*b-a*f(b))/(f(a)-f(b))\n",
        "\n",
        "# Зберігаємо результати обчислень\n",
        "data_A = [a]\n",
        "data_B = [b]\n",
        "data_C = [c]\n",
        "data_F_A = [f(a)]\n",
        "data_F_B = [f(b)]\n",
        "data_F_C = [f(c)]\n",
        "# Перевіряємо досягнення точності\n",
        "while np.abs(f(c)) > eps:\n",
        "    # Звужуємо відрізок\n",
        "    if np.sign(f(c)) == np.sign(f(a)):\n",
        "        a = c\n",
        "    else:\n",
        "        b = c\n",
        "    # Точка, де хорда перетинає вісь 0x\n",
        "    c = (f(a)*b-a*f(b))/(f(a)-f(b))\n",
        "    # Зберігаємо результати обчислень\n",
        "    data_A.append(a)\n",
        "    data_B.append(b)\n",
        "    data_C.append(c)\n",
        "    data_F_A.append(f(a))\n",
        "    data_F_B.append(f(b))\n",
        "    data_F_C.append(f(c))\n",
        "# Відображаємо результати обчислень\n",
        "print('Результати обчислень')\n",
        "print()\n",
        "data = pd.DataFrame({'a': data_A, 'F(a)': data_F_A,\n",
        "                     'c': data_C, 'F(c)': data_F_C,\n",
        "                     'b': data_B, 'F(b)': data_F_B})\n",
        "print(data)\n",
        "# Відображаємо наближений корінь рівняння\n",
        "print()\n",
        "print('В точці с = ', c, ', f(c) = ', f(c))"
      ],
      "metadata": {
        "colab": {
          "base_uri": "https://localhost:8080/"
        },
        "id": "3p6i5xHK1y3l",
        "outputId": "5e92633f-a261-4ab7-d901-c14a92d3065a"
      },
      "execution_count": 64,
      "outputs": [
        {
          "output_type": "stream",
          "name": "stdout",
          "text": [
            "Результати обчислень\n",
            "\n",
            "          a      F(a)         c      F(c)         b      F(b)\n",
            "0 -3.000000  0.977954 -1.634717  0.129889 -1.000000 -0.454649\n",
            "1 -1.634717  0.129889 -1.493678 -0.133455 -1.000000 -0.454649\n",
            "2 -1.634717  0.129889 -1.565152 -0.010636 -1.493678 -0.133455\n",
            "3 -1.634717  0.129889 -1.570418 -0.000718 -1.565152 -0.010636\n",
            "\n",
            "В точці с =  -1.5704175737258015 , f(c) =  -0.0007180376446871882\n"
          ]
        }
      ]
    },
    {
      "cell_type": "markdown",
      "source": [
        "4. Метод Ньютона (дотичних)"
      ],
      "metadata": {
        "id": "40blPBSK2Cdm"
      }
    },
    {
      "cell_type": "code",
      "source": [
        "import numpy as np\n",
        "import pandas as pd\n",
        "# Визначаємо функцію\n",
        "def f(x):\n",
        "    y = np.cos(x)*np.sin(x)*(x**2+x+1)\n",
        "    return y\n",
        "\n",
        "# Визначаємо межі відрізку\n",
        "a, b = -3, -1\n",
        "\n",
        "# Визначаємо першу похідну\n",
        "def df(x):\n",
        "    y1 = -(x**2+x+1)*(np.sin(x))**2\n",
        "    y2 = (x**2+x+1)*(np.cos(x))**2\n",
        "    y3 = (2*x+1)*np.sin(x)*np.cos(x)\n",
        "    y = y1+y2+y3\n",
        "    return y\n",
        "# Визначаємо початкову точку\n",
        "c = -1.4\n",
        "# Визначаємо точність розв'язку\n",
        "eps = 0.001\n",
        "\n",
        "# Зберігаємо результати обчислень\n",
        "data_C = [c]\n",
        "data_F_C = [f(c)]\n",
        "\n",
        "# Перевіряємо досягнення точності\n",
        "while np.abs(f(c)) > eps:\n",
        "    # Точка, де дотична перетинає вісь 0x\n",
        "    c -= f(c)/df(c)\n",
        "    # Зберігаємо результати обчислень\n",
        "    data_C.append(c)\n",
        "    data_F_C.append(f(c))\n",
        "# Відображаємо результати обчислень\n",
        "print('Результати обчислень')\n",
        "print()\n",
        "data = pd.DataFrame({'c': data_C, 'F(c)': data_F_C})\n",
        "print(data)\n",
        "# Відображаємо наближений корінь рівняння\n",
        "print()\n",
        "print('В точці с = ', c, ', f(c) = ', f(c))"
      ],
      "metadata": {
        "colab": {
          "base_uri": "https://localhost:8080/"
        },
        "id": "WeGQjbjW2HDz",
        "outputId": "c1ddb11d-f87b-4f4c-c23e-9c2c64d8e56e"
      },
      "execution_count": 65,
      "outputs": [
        {
          "output_type": "stream",
          "name": "stdout",
          "text": [
            "Результати обчислень\n",
            "\n",
            "          c      F(c)\n",
            "0 -1.400000 -0.261291\n",
            "1 -1.623636  0.106144\n",
            "2 -1.573564  0.005266\n",
            "3 -1.570805  0.000016\n",
            "\n",
            "В точці с =  -1.5708049170979717 , f(c) =  1.6292567852764437e-05\n"
          ]
        }
      ]
    },
    {
      "cell_type": "markdown",
      "source": [
        "5. Метод Ньютона (дотичних)"
      ],
      "metadata": {
        "id": "qjI38bTp0xCo"
      }
    },
    {
      "cell_type": "code",
      "source": [
        "import numpy as np\n",
        "import scipy.optimize as sp\n",
        "\n",
        "def f(x):\n",
        "    y = np.cos(x)*np.sin(x)*(x**2+x+1)\n",
        "    return y\n",
        "\n",
        "def df(x):# Обчислення похідної\n",
        "    y1 = -(x**2+x+1)*(np.sin(x))**2\n",
        "    y2 = (x**2+x+1)*(np.cos(x))**2\n",
        "    y3 = (2*x+1)*np.sin(x)*np.cos(x)\n",
        "    y = y1+y2+y3\n",
        "    return y\n",
        "\n",
        "x0, x1, x2, x3, x4 = -1.4, 1.4, -3.2, 3.2, 0.5\n",
        "\n",
        "x_0 = sp.newton(f, x0, df, tol=1.e-3, maxiter=50)\n",
        "x_1 = sp.newton(f, x1, df, tol=1.e-3, maxiter=50)\n",
        "\n",
        "x_2 = sp.newton(f, x2, df, tol=1.e-3, maxiter=50)\n",
        "x_3 = sp.newton(f, x3, df, tol=1.e-3, maxiter=50)\n",
        "\n",
        "x_4 = sp.newton(f, x4, df, tol=1.e-3, maxiter=50)\n"
      ],
      "metadata": {
        "id": "AonZxq_H0m6-"
      },
      "execution_count": 66,
      "outputs": []
    },
    {
      "cell_type": "code",
      "source": [
        "print('The approximate solution x_0 is:', x_0)\n",
        "print('And the value f(x_0) is:', f(x_0))\n",
        "\n",
        "print('The approximate solution x_1 is:', x_1)\n",
        "print('And the value f(x_0) is:', f(x_1))\n",
        "\n",
        "print('The approximate solution x_2 is:', x_2)\n",
        "print('And the value f(x_0) is:', f(x_2))\n",
        "\n",
        "print('The approximate solution x_3 is:', x_3)\n",
        "print('And the value f(x_0) is:', f(x_3))\n",
        "\n",
        "print('The approximate solution x_4 is:', x_4)\n",
        "print('And the value f(x_0) is:', f(x_4))"
      ],
      "metadata": {
        "colab": {
          "base_uri": "https://localhost:8080/"
        },
        "id": "Zz1InQ94Bd_C",
        "outputId": "7c25dbf8-7433-4aaa-9fe0-f620b6540a5e"
      },
      "execution_count": 67,
      "outputs": [
        {
          "output_type": "stream",
          "name": "stdout",
          "text": [
            "The approximate solution x_0 is: -1.5707963268782201\n",
            "And the value f(x_0) is: 1.5803176499052036e-10\n",
            "The approximate solution x_1 is: 1.5707963267958693\n",
            "And the value f(x_0) is: -4.9007361645997675e-12\n",
            "The approximate solution x_2 is: -3.1415926535944303\n",
            "And the value f(x_0) is: -3.5835231468970716e-11\n",
            "The approximate solution x_3 is: 3.1415926535904006\n",
            "And the value f(x_0) is: 8.510283038202437e-12\n",
            "The approximate solution x_4 is: 2.127875903690929e-09\n",
            "And the value f(x_0) is: 2.127875908218785e-09\n"
          ]
        }
      ]
    },
    {
      "cell_type": "markdown",
      "source": [
        "![image.png](data:image/png;base64,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)"
      ],
      "metadata": {
        "id": "RCkmbBZoAlLf"
      }
    },
    {
      "cell_type": "markdown",
      "source": [
        " # Знаходження коренів рівняння за допомогою бібліотеки SymPy"
      ],
      "metadata": {
        "id": "pvK9N9TH1QD-"
      }
    },
    {
      "cell_type": "code",
      "source": [
        "import sympy as sym\n",
        "\n",
        "x = sym.Symbol('x')\n",
        "\n",
        "y = sym.cos(x)*sym.sin(x)*(x**2+x+1)\n",
        "\n",
        "s = sym.solve(y, x)\n",
        "\n",
        "print(s)"
      ],
      "metadata": {
        "colab": {
          "base_uri": "https://localhost:8080/"
        },
        "id": "PuAp1WCr08qt",
        "outputId": "b6c0cc28-5b9b-4bff-ec4c-acc85065b874"
      },
      "execution_count": 68,
      "outputs": [
        {
          "output_type": "stream",
          "name": "stdout",
          "text": [
            "[0, pi/2, pi, 3*pi/2, -1/2 - sqrt(3)*I/2, -1/2 + sqrt(3)*I/2]\n"
          ]
        }
      ]
    },
    {
      "cell_type": "code",
      "source": [
        "import sympy as sym\n",
        "\n",
        "x, a, b, c = sym.symbols('x, a, b, c')\n",
        "\n",
        "y = a * x**2 + b * x + c\n",
        "\n",
        "s = sym.solve(y, x)\n",
        "\n",
        "print(s)"
      ],
      "metadata": {
        "colab": {
          "base_uri": "https://localhost:8080/"
        },
        "id": "Y0d-uHtp1c7r",
        "outputId": "73d45edb-af44-4985-f65a-8483eb1d6c93"
      },
      "execution_count": 69,
      "outputs": [
        {
          "output_type": "stream",
          "name": "stdout",
          "text": [
            "[(-b - sqrt(-4*a*c + b**2))/(2*a), (-b + sqrt(-4*a*c + b**2))/(2*a)]\n"
          ]
        }
      ]
    },
    {
      "cell_type": "markdown",
      "source": [],
      "metadata": {
        "id": "mk1oBvYj1GC2"
      }
    },
    {
      "cell_type": "code",
      "source": [
        "!pip install numdifftools"
      ],
      "metadata": {
        "colab": {
          "base_uri": "https://localhost:8080/"
        },
        "id": "yiLJNuM3Cq0-",
        "outputId": "ed350d59-9326-43be-e8ab-94ccc25e02d0"
      },
      "execution_count": 70,
      "outputs": [
        {
          "output_type": "stream",
          "name": "stdout",
          "text": [
            "Requirement already satisfied: numdifftools in /usr/local/lib/python3.12/dist-packages (0.9.41)\n",
            "Requirement already satisfied: numpy>=1.9 in /usr/local/lib/python3.12/dist-packages (from numdifftools) (2.0.2)\n",
            "Requirement already satisfied: scipy>=0.8 in /usr/local/lib/python3.12/dist-packages (from numdifftools) (1.16.2)\n"
          ]
        }
      ]
    },
    {
      "cell_type": "code",
      "source": [
        "#Лабораторна робота 2\n",
        "#Відокремлення коренів\n",
        "import numpy as np\n",
        "import numdifftools as nd\n",
        "\n",
        "def f(x):\n",
        "    return x**3 + 0.4*x**2 + 0.6*x-1.6\n",
        "\n",
        "\n",
        "def find_segments(): #відокремлюємо корені\n",
        "    search_range = np.arange(-5, 5, 0.01)\n",
        "\n",
        "    a = None\n",
        "    previous_x = None\n",
        "    current_x  = None\n",
        "    segments = []\n",
        "\n",
        "    for x in search_range:\n",
        "        x = round(x, 4)\n",
        "        current_x = f(x)\n",
        "        if previous_x != None and previous_x * current_x < 0:\n",
        "            segments.append((a, x))\n",
        "        a = x\n",
        "        previous_x = current_x\n",
        "    return segments\n",
        "\n",
        "segments = find_segments()\n",
        "for a, b in segments:\n",
        "    print(f'Found segment:  [{a}, {b}]')\n"
      ],
      "metadata": {
        "colab": {
          "base_uri": "https://localhost:8080/"
        },
        "id": "L-9dn4npCso-",
        "outputId": "59822971-0db2-4cda-c93c-a862f6a36667"
      },
      "execution_count": 71,
      "outputs": [
        {
          "output_type": "stream",
          "name": "stdout",
          "text": [
            "Found segment:  [0.9, 0.91]\n"
          ]
        }
      ]
    },
    {
      "cell_type": "markdown",
      "source": [
        "![image.png](data:image/png;base64,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)"
      ],
      "metadata": {
        "id": "eb9uwLLsZg_X"
      }
    },
    {
      "cell_type": "code",
      "source": [
        "import numpy as np\n",
        "import matplotlib.pyplot as plt\n",
        "\n",
        "# Визначення функції\n",
        "def f(x):\n",
        "    return x**3 + 0.4*x**2 + 0.6*x-1.6\n",
        "\n",
        "# Генерація значень x\n",
        "x = np.linspace(-4, 4, 100)\n",
        "\n",
        "# Генерація значень y\n",
        "y = f(x)\n",
        "\n",
        "# Побудова графіка\n",
        "plt.figure(figsize=(8, 6))\n",
        "plt.plot(x, y, label='x**3 + 0.4*x**2 + 0.6*x-1.6', color='blue')\n",
        "plt.title('Графік функції x**3 + 0.4*x**2 + 0.6*x-1.6')\n",
        "plt.xlabel('x')\n",
        "plt.ylabel('f(x)')\n",
        "\n",
        "# Додавання осей з стрілками\n",
        "plt.axhline(0, color='black', linewidth=0.5)\n",
        "plt.axvline(0, color='black', linewidth=0.5)\n",
        "\n",
        "plt.text(2.05, -4, 'x', ha='center', va='center')\n",
        "plt.text(-0.3, 190, 'y', ha='center', va='center')\n",
        "\n",
        "plt.grid(True)\n",
        "plt.legend()\n",
        "plt.show()\n"
      ],
      "metadata": {
        "colab": {
          "base_uri": "https://localhost:8080/",
          "height": 904
        },
        "id": "7zUI3d1xZXar",
        "outputId": "83daaae3-2c65-49ed-9e5d-9e76c697a5e3"
      },
      "execution_count": 72,
      "outputs": [
        {
          "output_type": "display_data",
          "data": {
            "text/plain": [
              "<Figure size 800x600 with 1 Axes>"
            ],
            "image/png": "[encoded data removed]"
          },
          "metadata": {}
        }
      ]
    },
    {
      "cell_type": "code",
      "source": [
        "#Лабораторна робота. Метод половинного ділення, хорд\n",
        "\n",
        "def rec(a, b, eps):  # метод половинного ділення\n",
        "    while (np.abs(a - b) > eps):\n",
        "        if f(a) * f((a + b) / 2) < 0:\n",
        "            b = (a + b) / 2\n",
        "        else:\n",
        "            a = (a + b) / 2\n",
        "        x = (a + b) / 2\n",
        "\n",
        "    print('x= ', round(x, 5), '  -   Half division method')\n"
      ],
      "metadata": {
        "id": "BgjK94O9Cfxe"
      },
      "execution_count": 73,
      "outputs": []
    },
    {
      "cell_type": "code",
      "source": [
        "def hord(a, b, eps):  # метод хорд\n",
        "    derivative_f = nd.Derivative(f, n=2)\n",
        "    if f(a) * derivative_f(a) > 0:\n",
        "        x0 = a\n",
        "        xi = b\n",
        "    else:\n",
        "        x0 = b\n",
        "        xi = a\n",
        "    xi_1 = xi - (xi - x0) * f(xi) / (f(xi) - f(x0))\n",
        "    while (np.abs(xi_1 - xi) > eps):\n",
        "        xi = xi_1\n",
        "        xi_1 = xi - (xi - x0) * f(xi) / (f(xi) - f(x0))\n",
        "    print('x= ', round(xi_1, 5), '  -   Chord method')\n"
      ],
      "metadata": {
        "id": "Sz_KWVf7D2tL"
      },
      "execution_count": 74,
      "outputs": []
    },
    {
      "cell_type": "code",
      "source": [
        "if __name__ == \"__main__\":\n",
        "    a1, b1 = 0.9, 0.91\n",
        "    eps = 0.001\n",
        "    print(\"Розв'язки на відрізку [-2,-1]\")\n",
        "    rec(a1, b1, eps)\n",
        "    hord(a1, b1, eps)"
      ],
      "metadata": {
        "id": "upx7R4yoFZj_",
        "outputId": "e638e97e-6e69-465a-833e-8fcc453e035e",
        "colab": {
          "base_uri": "https://localhost:8080/"
        }
      },
      "execution_count": 75,
      "outputs": [
        {
          "output_type": "stream",
          "name": "stdout",
          "text": [
            "Розв'язки на відрізку [-2,-1]\n",
            "x=  0.90156   -   Half division method\n",
            "x=  0.90186   -   Chord method\n"
          ]
        }
      ]
    },
    {
      "cell_type": "code",
      "source": [
        "import sympy as sym\n",
        "\n",
        "x, a, b, c = sym.symbols('x, a, b, c')\n",
        "f = 9*x**4 + 8*x**3 + 1.5*x**2 + 2*x - 10\n",
        "s = sym.solve(f, x)\n",
        "print(s)"
      ],
      "metadata": {
        "colab": {
          "base_uri": "https://localhost:8080/"
        },
        "id": "cYJ-q7uyvA2L",
        "outputId": "403a52a6-da78-4c9f-a489-0de699c89bf6"
      },
      "execution_count": 76,
      "outputs": [
        {
          "output_type": "stream",
          "name": "stdout",
          "text": [
            "[-1.34474950432843, 0.790916098101000, -0.16752774133073 - 1.00827587207094*I, -0.16752774133073 + 1.00827587207094*I]\n"
          ]
        }
      ]
    },
    {
      "cell_type": "code",
      "source": [
        "#Лабораторна робота 3. Метод Ньютона (дотичних). Комбінований метод\n",
        "\n",
        "import numpy as np\n",
        "import numdifftools as nd\n",
        "\n",
        "def f(x):\n",
        "    return x**3 + 0.4*x**2 + 0.6*x-1.6\n",
        "\n",
        "def nuton(a, b, eps, f):\n",
        "    df1 = nd.Derivative(f, n=1)   # створюємо callable для 1-ї похідної\n",
        "    df2 = nd.Derivative(f, n=2)   # і для 2-ї\n",
        "    xi = b if f(b) * df2(b) > 0 else a\n",
        "\n",
        "    xi_1 = xi - f(xi) / df1(xi)\n",
        "    while np.abs(xi_1 - xi) > eps:\n",
        "        xi = xi_1\n",
        "        d = df1(xi)\n",
        "        if d == 0:\n",
        "            raise ZeroDivisionError(\"Похідна дорівнює нулю — зупинка.\")\n",
        "        xi_1 = xi - f(xi) / d\n",
        "\n",
        "    print('Метод Ньютона, x =', round(float(xi_1), 4))"
      ],
      "metadata": {
        "id": "t-FUcU4Fj0-f"
      },
      "execution_count": 77,
      "outputs": []
    },
    {
      "cell_type": "code",
      "source": [
        "def komb(a, b, eps, f):\n",
        "    df2 = nd.Derivative(f, n=2)(a)\n",
        "    if f(a) * df2 > 0:\n",
        "        a0, b0 = a, b\n",
        "    else:\n",
        "        a0, b0 = b, a\n",
        "    ai, bi = a0, b0\n",
        "\n",
        "    while np.abs(ai - bi) > eps:\n",
        "        ai_1 = ai - f(ai) * (bi - ai) / (f(bi) - f(ai))\n",
        "        bi_1 = bi - f(bi) / nd.Derivative(f, n=1)(bi)\n",
        "        ai, bi = ai_1, bi_1\n",
        "\n",
        "    x = (ai_1 + bi_1) / 2\n",
        "\n",
        "    print('Комбінований метод, x = ', x.round(4))\n"
      ],
      "metadata": {
        "id": "M2T4FA4ifyy_"
      },
      "execution_count": 78,
      "outputs": []
    },
    {
      "cell_type": "code",
      "source": [
        "if __name__ == \"__main__\":\n",
        "    a1, b1 = 0.9, 0.91\n",
        "    eps = 0.001\n",
        "\n",
        "    print(\"Розв'язання на відрізку [0.9, 0.91]\")\n",
        "    nuton(a1, b1, eps, f)\n",
        "    komb(a1, b1, eps, f)"
      ],
      "metadata": {
        "colab": {
          "base_uri": "https://localhost:8080/"
        },
        "id": "zrxTpvysf0zN",
        "outputId": "5879b22b-0700-494a-d48c-c1939621a930"
      },
      "execution_count": 79,
      "outputs": [
        {
          "output_type": "stream",
          "name": "stdout",
          "text": [
            "Розв'язання на відрізку [0.9, 0.91]\n",
            "Метод Ньютона, x = 0.9019\n",
            "Комбінований метод, x =  0.9019\n"
          ]
        }
      ]
    },
    {
      "cell_type": "markdown",
      "source": [
        "Завдання 3. Лабораторна робота 3\n",
        "\n",
        "Тема: Відокремлення дійсних коренів рівнянь та їх уточнення методом простої ітерації."
      ],
      "metadata": {
        "id": "370aMnuwjPeK"
      }
    },
    {
      "cell_type": "code",
      "source": [
        "!pip install numdifftools"
      ],
      "metadata": {
        "colab": {
          "base_uri": "https://localhost:8080/"
        },
        "id": "Rc37HrNui3h5",
        "outputId": "41c12029-e6da-4f32-e899-3cf682623596"
      },
      "execution_count": 80,
      "outputs": [
        {
          "output_type": "stream",
          "name": "stdout",
          "text": [
            "Requirement already satisfied: numdifftools in /usr/local/lib/python3.12/dist-packages (0.9.41)\n",
            "Requirement already satisfied: numpy>=1.9 in /usr/local/lib/python3.12/dist-packages (from numdifftools) (2.0.2)\n",
            "Requirement already satisfied: scipy>=0.8 in /usr/local/lib/python3.12/dist-packages (from numdifftools) (1.16.2)\n"
          ]
        }
      ]
    },
    {
      "cell_type": "code",
      "source": [
        "import numdifftools as nd"
      ],
      "metadata": {
        "id": "mCRRGRFlizK1"
      },
      "execution_count": 81,
      "outputs": []
    },
    {
      "cell_type": "code",
      "source": [
        "def f(x: float):\n",
        "    return x**3 + 0.4*x**2 + 0.6*x-1.6\n",
        "\n",
        "def fprime(x: float):\n",
        "    return nd.Derivative(f, n=1)\n",
        "\n",
        "def phi(x: float):\n",
        "    # c = -0.1 (забезпечує |phi'(x)|<1 на [-3,-1])\n",
        "    c = 0.91\n",
        "    return x + c * f(x)\n",
        "\n",
        "def iterate_fixed_point(x0: float, iters: int = 5):\n",
        "    xs = [x0]\n",
        "    x = x0\n",
        "    for _ in range(iters):\n",
        "        x = phi(x)\n",
        "        xs.append(x)\n",
        "    return xs\n",
        "\n",
        "def error_bound(x_last: float) -> float:\n",
        "    # μ = min_{x∈[-3,-1]} |f'(x)| = 2\n",
        "    mu = 2.0\n",
        "    return abs(f(x_last)) / mu\n",
        "\n"
      ],
      "metadata": {
        "id": "gt8HxS1AiM0Y"
      },
      "execution_count": 94,
      "outputs": []
    },
    {
      "cell_type": "code",
      "source": [
        "def main():\n",
        "    x0 = 0.91 # нульове наближення має належати відрізку [0.9, 0.91]\n",
        "\n",
        "    iters = 5\n",
        "    xs = iterate_fixed_point(x0, iters)\n",
        "\n",
        "    print(\"Fixed-point iteration for f(x) = x^3 - x + 7 with phi(x) = x - 0.1*f(x)\")\n",
        "    print(f\"Interval: [0.9, 0.91], start x0 = {x0}\")\n",
        "\n",
        "    for i, xi in enumerate(xs):\n",
        "        if i == 0:\n",
        "            print(f\"x_{i} = {xi:.10f}\")\n",
        "        else:\n",
        "            print(f\"x_{i} = phi(x_{i-1}) = {xi:.10f}\")\n",
        "    bound = error_bound(xs[1])\n",
        "    print(\"\\nError bound after 5 iterations:  |ξ - x5| ≤ |f(x5)| / μ\")\n",
        "    print(f\"f(x5) = {f(xs[1]):.10f},  μ = 2  ⇒  |ξ - x5| ≤ {bound:.10f}\")\n",
        "    return xs[1], bound\n",
        "\n",
        "if __name__ == \"__main__\":\n",
        "    root_approx, bound = main()"
      ],
      "metadata": {
        "colab": {
          "base_uri": "https://localhost:8080/"
        },
        "id": "NcUIwAOAimLR",
        "outputId": "3f451726-1e0d-43b8-8624-d4e2efdd3077"
      },
      "execution_count": 95,
      "outputs": [
        {
          "output_type": "stream",
          "name": "stdout",
          "text": [
            "Fixed-point iteration for f(x) = x^3 - x + 7 with phi(x) = x - 0.1*f(x)\n",
            "Interval: [0.9, 0.91], start x0 = 0.91\n",
            "x_0 = 0.9100000000\n",
            "x_1 = phi(x_0) = 0.9380380100\n",
            "x_2 = phi(x_1) = 1.0656044799\n",
            "x_3 = phi(x_2) = 1.7058581779\n",
            "x_4 = phi(x_3) = 6.7576880358\n",
            "x_5 = phi(x_4) = 306.4389632035\n",
            "\n",
            "Error bound after 5 iterations:  |ξ - x5| ≤ |f(x5)| / μ\n",
            "f(x5) = 0.1401829340,  μ = 2  ⇒  |ξ - x5| ≤ 0.0700914670\n"
          ]
        }
      ]
    },
    {
      "cell_type": "markdown",
      "source": [
        "Спрощений варіант коду\n"
      ],
      "metadata": {
        "id": "_gkwLHTNkDwS"
      }
    },
    {
      "cell_type": "code",
      "source": [
        "# Рівняння: f(x) = x^3 - x + 7 = 0\n",
        "# Ітераційна функція: φ(x) = x - 0.1 * f(x)  (c = -0.1)\n",
        "# Початкове наближення: x0 = -1\n",
        "# Кількість ітерацій: 5\n",
        "# Оцінка похибки: |ξ - x5| ≤ |f(x5)| / μ, де μ = min_{[-3,-1]} |f'(x)| = 2\n",
        "\n",
        "def f(x):\n",
        "    return x**3 + 0.4*x**2 + 0.6*x-1.6\n",
        "\n",
        "def phi(x):\n",
        "    return x - 0.91 * f(x)   # c = -0.1\n",
        "\n",
        "def fixed_point(x0=0.91, iters=5):\n",
        "    xs = [x0]\n",
        "    for _ in range(iters):\n",
        "        xs.append(phi(xs[-1]))\n",
        "    return xs\n",
        "\n",
        "# Запуск і вивід результатів\n",
        "xs = fixed_point(0.91, 5)\n",
        "\n",
        "for i, xi in enumerate(xs):\n",
        "    print(f\"x_{i} = {xi:.10f}\")\n",
        "\n",
        "# Похибка методу простої ітерації після 5-ї ітерації\n",
        "mu = 2.0                      # μ = min_{[-3,-1]} |3x^2 - 1| = 2\n",
        "err_bound = abs(f(xs[-1]))/mu\n",
        "print(f\"\\nОцінка похибки: |ξ - x5| ≤ {err_bound:.10f}\")"
      ],
      "metadata": {
        "colab": {
          "base_uri": "https://localhost:8080/"
        },
        "id": "womZO91vj9vN",
        "outputId": "34bd63c4-d466-4c54-ca54-98d710bfcd14"
      },
      "execution_count": 98,
      "outputs": [
        {
          "output_type": "stream",
          "name": "stdout",
          "text": [
            "x_0 = 0.9100000000\n",
            "x_1 = 0.8819619900\n",
            "x_2 = 0.9489741717\n",
            "x_3 = 0.7813468369\n",
            "x_4 = 1.1544252264\n",
            "x_5 = 0.0949723686\n",
            "\n",
            "Оцінка похибки: |ξ - x5| ≤ 0.7692760257\n"
          ]
        }
      ]
    },
    {
      "cell_type": "markdown",
      "source": [
        "Перевірка"
      ],
      "metadata": {
        "id": "wu9tOFXywo2Y"
      }
    },
    {
      "cell_type": "code",
      "source": [
        "import sympy as sym\n",
        "\n",
        "a, b = -3, -1\n",
        "\n",
        "x, a, b = sym.symbols('x, a, b')\n",
        "f = x**3 - x + 7\n",
        "\n",
        "s = sym.solve(f, x)\n",
        "print(s)"
      ],
      "metadata": {
        "colab": {
          "base_uri": "https://localhost:8080/"
        },
        "id": "oajv2re4wsmU",
        "outputId": "9a65e09e-df9b-4f7c-de54-735167271bdd"
      },
      "execution_count": 85,
      "outputs": [
        {
          "output_type": "stream",
          "name": "stdout",
          "text": [
            "[-1/((-1/2 - sqrt(3)*I/2)*(3*sqrt(3957)/2 + 189/2)**(1/3)) - (-1/2 - sqrt(3)*I/2)*(3*sqrt(3957)/2 + 189/2)**(1/3)/3, -(-1/2 + sqrt(3)*I/2)*(3*sqrt(3957)/2 + 189/2)**(1/3)/3 - 1/((-1/2 + sqrt(3)*I/2)*(3*sqrt(3957)/2 + 189/2)**(1/3)), -(3*sqrt(3957)/2 + 189/2)**(1/3)/3 - 1/(3*sqrt(3957)/2 + 189/2)**(1/3)]\n"
          ]
        }
      ]
    }
  ]
}