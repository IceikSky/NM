{
  "nbformat": 4,
  "nbformat_minor": 0,
  "metadata": {
    "colab": {
      "provenance": [],
      "include_colab_link": true
    },
    "kernelspec": {
      "name": "python3",
      "display_name": "Python 3"
    },
    "language_info": {
      "name": "python"
    }
  },
  "cells": [
    {
      "cell_type": "markdown",
      "metadata": {
        "id": "view-in-github",
        "colab_type": "text"
      },
      "source": [
        "<a href=\"https://colab.research.google.com/github/IceikSky/NM/blob/main/%D0%9B%D0%91_2_%D0%92%D0%B0%D1%80%D1%96%D0%B0%D0%BD%D1%82_6_%D0%9B%D0%B8%D1%82%D0%B2%D0%B8%D0%BD_%D0%9C.ipynb\" target=\"_parent\"><img src=\"https://colab.research.google.com/assets/colab-badge.svg\" alt=\"Open In Colab\"/></a>"
      ]
    },
    {
      "cell_type": "markdown",
      "source": [
        "**Григоришен Владислав**\n",
        "**ФІТ 2-10**\n",
        "**Варіант 6**"
      ],
      "metadata": {
        "id": "1f291PBYrvxK"
      }
    },
    {
      "cell_type": "markdown",
      "source": [
        "1. Метод ділення навпіл."
      ],
      "metadata": {
        "id": "VgrW9zRY0dVt"
      }
    },
    {
      "cell_type": "code",
      "execution_count": null,
      "metadata": {
        "colab": {
          "base_uri": "https://localhost:8080/"
        },
        "id": "iOTNXySVyeHy",
        "outputId": "5174695b-1ff2-41fa-a5c1-3de136fa53d3"
      },
      "outputs": [
        {
          "output_type": "stream",
          "name": "stdout",
          "text": [
            "Результати обчислень\n",
            "\n",
            "          a      F(a)         c      F(c)       b      F(b)\n",
            "0 -3.000000  0.977954 -2.000000  1.135204 -1.0000 -0.454649\n",
            "1 -2.000000  1.135204 -1.500000 -0.123480 -1.0000 -0.454649\n",
            "2 -2.000000  1.135204 -1.750000  0.405593 -1.5000 -0.123480\n",
            "3 -1.750000  0.405593 -1.625000  0.109040 -1.5000 -0.123480\n",
            "4 -1.625000  0.109040 -1.562500 -0.015587 -1.5000 -0.123480\n",
            "5 -1.625000  0.109040 -1.593750  0.044659 -1.5625 -0.015587\n",
            "6 -1.593750  0.044659 -1.578125  0.014015 -1.5625 -0.015587\n",
            "7 -1.578125  0.014015 -1.570312 -0.000917 -1.5625 -0.015587\n",
            "\n",
            "В точці с =  -1.5703125 , f(c) =  -0.0009171268569415665\n"
          ]
        }
      ],
      "source": [
        "import numpy as np\n",
        "import pandas as pd\n",
        "\n",
        "# Визначаємо функцію\n",
        "def f (x):\n",
        "    y = np.cos(x)*np.sin(x)*(x**2+x+1)\n",
        "    return y\n",
        "# Визначаємо границі відрізку\n",
        "a = -3\n",
        "b = -1\n",
        "# Визначаємо точність розв'язку\n",
        "h = 0.001\n",
        "# Поділяємо відрізок навпіл\n",
        "c = (a+b)/2\n",
        "# Зберігаємо результати обчислень\n",
        "data_A = [a]\n",
        "data_B = [b]\n",
        "data_C = [c]\n",
        "data_F_A = [f(a)]\n",
        "data_F_B = [f(b)]\n",
        "data_F_C = [f(c)]\n",
        "# Перевіряємо досягнення точності\n",
        "while abs(f(c)) > h:\n",
        "    # Звужуємо відрізок\n",
        "    if np.sign(f(c)) == np.sign(f(a)):\n",
        "        a = c\n",
        "    else:\n",
        "        b = c\n",
        "    # Поділяємо відрізок навпіл\n",
        "    c = (a+b)/2\n",
        "    # Зберігаємо результати обчислень\n",
        "    data_A.append(a)\n",
        "    data_B.append(b)\n",
        "    data_C.append(c)\n",
        "    data_F_A.append(f(a))\n",
        "    data_F_B.append(f(b))\n",
        "    data_F_C.append(f(c))\n",
        "# Відображаємо результати обчислень\n",
        "print('Результати обчислень')\n",
        "print()\n",
        "data = pd.DataFrame({'a': data_A,\n",
        "                     'F(a)': data_F_A,\n",
        "                     'c': data_C,\n",
        "                     'F(c)': data_F_C,\n",
        "                     'b': data_B,\n",
        "                     'F(b)': data_F_B})\n",
        "print(data)\n",
        "# Відображаємо наближений корінь рівняння\n",
        "print()\n",
        "print('В точці с = ', c, ', f(c) = ', f(c))"
      ]
    },
    {
      "cell_type": "markdown",
      "source": [
        "2. Метод ділення навпіл"
      ],
      "metadata": {
        "id": "5hYa7ucn0PEN"
      }
    },
    {
      "cell_type": "code",
      "source": [
        "import numpy as np\n",
        "import scipy.optimize as sp\n",
        "\n",
        "def f(x):\n",
        "    y = np.cos(x)*np.sin(x)*(x**2+x+1)\n",
        "    return y\n",
        "\n",
        "a, b = -3, -1\n",
        "tol = 1.e-3\n",
        "\n",
        "x = sp.bisect(f, a, b,(),tol) #функція для метода\n",
        "\n",
        "print('The approximate solution x is:', x)\n",
        "print('And the value f(x) is:', f(x))"
      ],
      "metadata": {
        "colab": {
          "base_uri": "https://localhost:8080/"
        },
        "id": "ML3KEw5q0H1e",
        "outputId": "99314d3a-c13e-420e-e9ae-6c063defd529"
      },
      "execution_count": null,
      "outputs": [
        {
          "output_type": "stream",
          "name": "stdout",
          "text": [
            "The approximate solution x is: -1.5712890625\n",
            "And the value f(x) is: 0.0009350448126615916\n"
          ]
        }
      ]
    },
    {
      "cell_type": "markdown",
      "source": [
        "3. Метод хорд"
      ],
      "metadata": {
        "id": "sYf0IvR41ufd"
      }
    },
    {
      "cell_type": "code",
      "source": [
        "import numpy as np\n",
        "import pandas as pd\n",
        "# Визначаємо функцію\n",
        "def f(x):\n",
        "    y = np.cos(x)*np.sin(x)*(x**2+x+1)\n",
        "    return y\n",
        "# Визначаємо межі відрізку\n",
        "a = -3\n",
        "b = -1\n",
        "# Визначаємо точність розв'язку\n",
        "h = 0.001\n",
        "# Точка, де хорда перетинає вісь 0x\n",
        "c = (f(a)*b-a*f(b))/(f(a)-f(b))\n",
        "\n",
        "# Зберігаємо результати обчислень\n",
        "data_A = [a]\n",
        "data_B = [b]\n",
        "data_C = [c]\n",
        "data_F_A = [f(a)]\n",
        "data_F_B = [f(b)]\n",
        "data_F_C = [f(c)]\n",
        "# Перевіряємо досягнення точності\n",
        "while abs(f(c)) > h:\n",
        "    # Звужуємо відрізок\n",
        "    if np.sign(f(c)) == np.sign(f(a)):\n",
        "        a = c\n",
        "    else:\n",
        "        b = c\n",
        "    # Точка, де хорда перетинає вісь 0x\n",
        "    c = (f(a)*b-a*f(b))/(f(a)-f(b))\n",
        "    # Зберігаємо результати обчислень\n",
        "    data_A.append(a)\n",
        "    data_B.append(b)\n",
        "    data_C.append(c)\n",
        "    data_F_A.append(f(a))\n",
        "    data_F_B.append(f(b))\n",
        "    data_F_C.append(f(c))\n",
        "# Відображаємо результати обчислень\n",
        "print('Результати обчислень')\n",
        "print()\n",
        "data = pd.DataFrame({'a': data_A, 'F(a)': data_F_A,\n",
        "                     'c': data_C, 'F(c)': data_F_C,\n",
        "                     'b': data_B, 'F(b)': data_F_B})\n",
        "print(data)\n",
        "# Відображаємо наближений корінь рівняння\n",
        "print()\n",
        "print('В точці с = ', c, ', f(c) = ', f(c))"
      ],
      "metadata": {
        "colab": {
          "base_uri": "https://localhost:8080/"
        },
        "id": "3p6i5xHK1y3l",
        "outputId": "fbaa0d08-b4a1-4135-af0c-fd284e71ed10"
      },
      "execution_count": null,
      "outputs": [
        {
          "output_type": "stream",
          "name": "stdout",
          "text": [
            "Результати обчислень\n",
            "\n",
            "          a      F(a)         c      F(c)         b      F(b)\n",
            "0 -3.000000  0.977954 -1.634717  0.129889 -1.000000 -0.454649\n",
            "1 -1.634717  0.129889 -1.493678 -0.133455 -1.000000 -0.454649\n",
            "2 -1.634717  0.129889 -1.565152 -0.010636 -1.493678 -0.133455\n",
            "3 -1.634717  0.129889 -1.570418 -0.000718 -1.565152 -0.010636\n",
            "\n",
            "В точці с =  -1.5704175737258015 , f(c) =  -0.0007180376446871882\n"
          ]
        }
      ]
    },
    {
      "cell_type": "markdown",
      "source": [
        "4. Метод Ньютона (дотичних)"
      ],
      "metadata": {
        "id": "40blPBSK2Cdm"
      }
    },
    {
      "cell_type": "code",
      "source": [
        "import numpy as np\n",
        "import pandas as pd\n",
        "# Визначаємо функцію\n",
        "def f(x):\n",
        "    y = np.cos(x)*np.sin(x)*(x**2+x+1)\n",
        "    return y\n",
        "# Визначаємо першу похідну\n",
        "def df(x):\n",
        "    y1 = -(x**2+x+1)*(np.sin(x))**2\n",
        "    y2 = (x**2+x+1)*(np.cos(x))**2\n",
        "    y3 = (2*x+1)*np.sin(x)*np.cos(x)\n",
        "    y = y1+y2+y3\n",
        "    return y\n",
        "# Визначаємо початкову точку\n",
        "c = -1.4\n",
        "# Визначаємо точність розв'язку\n",
        "h = 0.001\n",
        "# Зберігаємо результати обчислень\n",
        "data_C = [c]\n",
        "data_F_C = [f(c)]\n",
        "# Перевіряємо досягнення точності\n",
        "while abs(f(c)) > h:\n",
        "    # Точка, де дотична перетинає вісь 0x\n",
        "    c -= f(c)/df(c)\n",
        "    # Зберігаємо результати обчислень\n",
        "    data_C.append(c)\n",
        "    data_F_C.append(f(c))\n",
        "# Відображаємо результати обчислень\n",
        "print('Результати обчислень')\n",
        "print()\n",
        "data = pd.DataFrame({'c': data_C, 'F(c)': data_F_C})\n",
        "print(data)\n",
        "# Відображаємо наближений корінь рівняння\n",
        "print()\n",
        "print('В точці с = ', c, ', f(c) = ', f(c))"
      ],
      "metadata": {
        "colab": {
          "base_uri": "https://localhost:8080/"
        },
        "id": "WeGQjbjW2HDz",
        "outputId": "7fd55bf4-4d4c-43ea-ce09-3fbf365aa5c5"
      },
      "execution_count": null,
      "outputs": [
        {
          "output_type": "stream",
          "name": "stdout",
          "text": [
            "Результати обчислень\n",
            "\n",
            "          c      F(c)\n",
            "0 -1.400000 -0.261291\n",
            "1 -1.623636  0.106144\n",
            "2 -1.573564  0.005266\n",
            "3 -1.570805  0.000016\n",
            "\n",
            "В точці с =  -1.5708049170979717 , f(c) =  1.6292567852764437e-05\n"
          ]
        }
      ]
    },
    {
      "cell_type": "markdown",
      "source": [
        "5. Метод Ньютона (дотичних)"
      ],
      "metadata": {
        "id": "qjI38bTp0xCo"
      }
    },
    {
      "cell_type": "code",
      "source": [
        "import numpy as np\n",
        "import scipy.optimize as sp\n",
        "\n",
        "def f(x):\n",
        "    y = np.cos(x)*np.sin(x)*(x**2+x+1)\n",
        "    return y\n",
        "\n",
        "def df(x):# Обчислення похідної\n",
        "    y1 = -(x**2+x+1)*(np.sin(x))**2\n",
        "    y2 = (x**2+x+1)*(np.cos(x))**2\n",
        "    y3 = (2*x+1)*np.sin(x)*np.cos(x)\n",
        "    y = y1+y2+y3\n",
        "    return y\n",
        "\n",
        "x0 = -1.4\n",
        "x1 = 1.4\n",
        "\n",
        "x_0 = sp.newton(f, x0, df, tol=1.e-3, maxiter=50)\n",
        "x_1 = sp.newton(f, x1, df, tol=1.e-3, maxiter=50)\n",
        "\n",
        "print('The approximate solution x is:', x_0)\n",
        "print('And the value f(x_0) is:', f(x_0))\n",
        "\n",
        "print('The approximate solution x is:', x_1)\n",
        "print('And the value f(x_0) is:', f(x_1))"
      ],
      "metadata": {
        "colab": {
          "base_uri": "https://localhost:8080/"
        },
        "id": "AonZxq_H0m6-",
        "outputId": "7acab5b7-6894-4cb1-b0d3-217d498bae02"
      },
      "execution_count": null,
      "outputs": [
        {
          "output_type": "stream",
          "name": "stdout",
          "text": [
            "The approximate solution x is: -1.5707963268782201\n",
            "And the value f(x_0) is: 1.5803176499052036e-10\n",
            "The approximate solution x is: 1.5707963267958693\n",
            "And the value f(x_0) is: -4.9007361645997675e-12\n"
          ]
        }
      ]
    },
    {
      "cell_type": "markdown",
      "source": [
        " # Знаходження коренів рівняння за допомогою бібліотеки SymPy"
      ],
      "metadata": {
        "id": "pvK9N9TH1QD-"
      }
    },
    {
      "cell_type": "code",
      "source": [
        "import sympy as sym\n",
        "\n",
        "x = sym.Symbol('x')\n",
        "\n",
        "y = sym.cos(x)*sym.sin(x)*(x**2+x+1)\n",
        "\n",
        "s = sym.solve(y)\n",
        "\n",
        "print(s)"
      ],
      "metadata": {
        "colab": {
          "base_uri": "https://localhost:8080/"
        },
        "id": "PuAp1WCr08qt",
        "outputId": "36c578b1-b0b4-40d5-8142-44bf252e747d"
      },
      "execution_count": null,
      "outputs": [
        {
          "output_type": "stream",
          "name": "stdout",
          "text": [
            "[0, pi/2, pi, 3*pi/2, -1/2 - sqrt(3)*I/2, -1/2 + sqrt(3)*I/2]\n"
          ]
        }
      ]
    },
    {
      "cell_type": "code",
      "source": [
        "import sympy as sym\n",
        "\n",
        "x, a, b, c = sym.symbols('x, a, b, c')\n",
        "\n",
        "y = a * x**2 + b * x + c\n",
        "\n",
        "s = sym.solve(y, x)\n",
        "\n",
        "print(s)"
      ],
      "metadata": {
        "colab": {
          "base_uri": "https://localhost:8080/"
        },
        "id": "Y0d-uHtp1c7r",
        "outputId": "42a681c2-3c44-4db2-dbe7-7c1615e9bbe9"
      },
      "execution_count": null,
      "outputs": [
        {
          "output_type": "stream",
          "name": "stdout",
          "text": [
            "[(-b - sqrt(-4*a*c + b**2))/(2*a), (-b + sqrt(-4*a*c + b**2))/(2*a)]\n"
          ]
        }
      ]
    },
    {
      "cell_type": "markdown",
      "source": [],
      "metadata": {
        "id": "mk1oBvYj1GC2"
      }
    },
    {
      "cell_type": "code",
      "source": [
        "!pip install numdifftools"
      ],
      "metadata": {
        "colab": {
          "base_uri": "https://localhost:8080/"
        },
        "id": "yiLJNuM3Cq0-",
        "outputId": "e0d2b805-6947-42f9-d279-1b15da396f35"
      },
      "execution_count": 2,
      "outputs": [
        {
          "output_type": "stream",
          "name": "stdout",
          "text": [
            "Collecting numdifftools\n",
            "  Downloading numdifftools-0.9.41-py2.py3-none-any.whl.metadata (39 kB)\n",
            "Requirement already satisfied: numpy>=1.9 in /usr/local/lib/python3.12/dist-packages (from numdifftools) (2.0.2)\n",
            "Requirement already satisfied: scipy>=0.8 in /usr/local/lib/python3.12/dist-packages (from numdifftools) (1.16.1)\n",
            "Downloading numdifftools-0.9.41-py2.py3-none-any.whl (100 kB)\n",
            "\u001b[2K   \u001b[90m━━━━━━━━━━━━━━━━━━━━━━━━━━━━━━━━━━━━━━━━\u001b[0m \u001b[32m100.2/100.2 kB\u001b[0m \u001b[31m4.8 MB/s\u001b[0m eta \u001b[36m0:00:00\u001b[0m\n",
            "\u001b[?25hInstalling collected packages: numdifftools\n",
            "Successfully installed numdifftools-0.9.41\n"
          ]
        }
      ]
    },
    {
      "cell_type": "code",
      "source": [
        "#Лабораторна робота 2\n",
        "#Відокремлення коренів\n",
        "import numpy as np\n",
        "import numdifftools as nd\n",
        "\n",
        "def f(x):\n",
        "    return 6*x**4 + 8*x**3 - 24*x**2 - 7\n",
        "\n",
        "\n",
        "def find_segments(): #відокремлюємо корені\n",
        "    search_range = np.arange(-10, 5, 1)\n",
        "\n",
        "    a = None\n",
        "    previous_x = None\n",
        "    current_x  = None\n",
        "    segments = []\n",
        "\n",
        "    for x in search_range:\n",
        "        x = round(x, 4)\n",
        "        current_x = f(x)\n",
        "        if previous_x != None and previous_x * current_x < 0:\n",
        "            segments.append((a, x))\n",
        "        a = x\n",
        "        previous_x = current_x\n",
        "    return segments\n",
        "\n",
        "segments = find_segments()\n",
        "for a, b in segments:\n",
        "    print(f'Found segment:  [{a}, {b}]')\n"
      ],
      "metadata": {
        "colab": {
          "base_uri": "https://localhost:8080/"
        },
        "id": "L-9dn4npCso-",
        "outputId": "928e2f5e-5781-47d8-bc85-f3b0384775e7"
      },
      "execution_count": 3,
      "outputs": [
        {
          "output_type": "stream",
          "name": "stdout",
          "text": [
            "Found segment:  [-3, -2]\n",
            "Found segment:  [1, 2]\n"
          ]
        }
      ]
    },
    {
      "cell_type": "markdown",
      "source": [
        "![image.png](data:image/png;base64,iVBORw0KGgoAAAANSUhEUgAAAa0AAAITCAYAAAC0fkOvAAAAAXNSR0IArs4c6QAAAARnQU1BAACxjwv8YQUAAAAJcEhZcwAADsMAAA7DAcdvqGQAAJ0QSURBVHhe7P15cBxpeud5ft093OO+IxC4b4IACZBMHplkJpN5V2Vl1qUsVUkl1Uo7UndvS6Pt7dnRrE33mvWoa9q2ZW2raeuSjfWaaWc0rW2TWqPRUV1Hprqy8qrK+yaZPEAQAHFfEQHEffv+QUQUESAzSSYJIMDnYxZWWeGvBwIg4L943/fx91UOHjxoAlQqFVwuFxaLBSGEEGInUk3TxDRNADRNqz8uhBBC7Biqoiiw3tOq/rcQQgixE6kA1/a2hBBCiJ1KNU1TelhCCCEaglr/hBBCCLFTyfCgEEKIhiE9LSGEEA1DrfawZF5LCCHETrdtPS3jwW8w9CtP46k/IIQQQtzAtoWW59CTHH7sQZrrD2yJIfp+77scf26o/oAQQogdrFaIcW/xEujuItLsrT8ghBBiB9MikcgfsB5cDoej/vhd4zj2ZfojGeZ++DJRgANPM/RoP4VxHd+v/Tb3P/NFOg80k7h0llxu/aRqm9kQ7b/1X3HoySdp61WJj05QKF1tYjz4DQYe7KLwyRj56hdrPUXfM0fR4ucpjXyDgQeHCHe34lJUzOZ2iJ8nk6w2FkIIsVNt2/DgJnsf5PBjX+Oxf/nfc2qvD3QfkQNP88w//yeENrT5ZZ75l7/DcEQHm4+OB3+Dr/3L/5aQ/WqT6w47dh5j+LEn6ekEo7mb5t4WnCporhaae7vxSodLCCEaws4JLQB00u/+j/zV//Of8fJ3/wnff3UOPP30HLm2TZG5H/0Tvv8//Ate/h/+CX/30yuUPQc48vXWaxvdUOpv/oiX//X3mctDdvL7vPyv/4jL5+tbCSGE2Il2WGjNMfVXY7X/V5hYIYUDe+TaNsss/Je12v/L/dWLTKYg1P3ItY2EEELsQjsstK5Hx3DWP3et14jFG+M7EUII8fnsgkt9K4at/jkhhBC7UQOGlg7rRRcA2E8Q9kEhGwcgkUhvbqOC7McshBCNrwFDq5WR/+u38UQc4DvO8H//JVr1NSbfeAGAwvQyOVoZ+u0nMOxebMe+wUNfP8D1OmOulv24fF60awNOCCHEjtWAobVMrHKKr/zLf8+v/+HvcDBcZO7lf8+7b60ffvWveX8sg2v4N/jmv/0e3/jtL+FdmaN6q9dVbzFxcQ3Cp/jaH/4hhw9uOCiEEGKHUkZGRkzTNKlUKgSDwfrjO8s3v8uvPwHv/uN/wai9FVe3l8LkeQrZ+oaArwtXC2TPX6Fcf6wqMoTLNkfqyi+qEYUQQuxcDdjTWpedI3X+BoEFsHqF1KcFFsDieQksIYRoII0bWkIIIe45jTU8eDNDfkIIIXatxupp3cyQnxBCiF2rsUJLCCHEPU1CSwghRMOQ0BJCCNEwJLSEEEI0DAktIYQQDUNCSwghRMOQ0BJCCNEwJLSEEEI0DAktIYQQDWPTMk6ZTKa+jRBCCLEjSE9LCCFEw5DQEkII0TAktIQQQjQMCS0hhBANQ0JLCCFEw5DQEkII0TAktIQQQjQMCS0hhBANY1ffXNzd3Y2qqqysrJBIJOoP72iKoqDrOj09PTgcDmw2G+l0mkuXLpHL5TBNs/6UXUNRFILBIE1NTdjtdlwuF+Pj4ywtLZHP5+ubCyHuIVokEvkDANM0cTgcFIvF+jYNR1VVfD4fp06dIhwOk0gkWF1drW+2oxmGQVNTE/fffz9er5f29nZaWlpIp9Osrq5SqVTqT9k1nE4nQ0NDDA4O4nA42L9/P1arlVQqxdraWn1zIcQ9ZMcMD6qqiq7rGIaBpmn1h2+aoijYbDYOHjzIoUOHaG9vx2q11je7a1RVrT0URak/fNNcLhd9fX04nU7effdd3nrrLcrlMo888siWfT/Xfi83S1GUz/V9A7S2ttLb24tpmjz//PO8//77jIyMsH///vqmd1T1vX/aQwixvXZET0vTNNrb2xkZGWHv3r04nU4WFhbqm90Uh8NBZ2cng4ODFAoFFhYWWFpaYmVlpb7pHadpGpFIhObmZqxWK8VikVKpVN/spuTzeZaWlrh48SLxeJxIJEI4HCYajTI2Nnbbr3uzVFXF7/cTCoWw2+0UCoXP7N2pqorNZsPlclGpVCiXy/VNbkoqlWJqaorx8XFyuRw2m43+/n5WVla4dOlSffM7xjAMrFYruq7f8LEdfx9CiF/Y1jktTdNoa2vj+PHj+P1+YrEYCwsLTE9PMzk5Wd/8MxmGQXd3N0ePHuXMmTPs2bOHcrnMxYsXuXDhQn3zO8YwDHp7e3nkkUfI5/NkMhncbjelUokPPviACxcufK6L3alTpxgeHiabzfLqq68yNTV110LL4XDQ1dXFAw88QKVSQdM03G43hmHw8ssvMzo6SjKZrD8NRVHo6uriiSeeoFgs8tJLLzEzM1Pf7KZVe3c2m41nn30WwzA4ffo0Z86cqW96x/zKr/wK+/fvxzCM+kOUy2Xy+Tzf/e536w8JIbbQzY/73GGKorBnzx4eeughWlpaiEajjI+Pc/nyZZaWluqb35T29nbuu+8+enp68Pv9NDc309PTQ09PD8Fg8JaGuW5FW1sbhw8fpq+vj9XVVRYWFkgmkzQ3N/OlL30Jl8v1uYaWcrkc8XicfD5Pe3v7Xfs+gNp77u7uplAosLi4SDabpbe3l2efffaGX7+lpYX777+fRx55hP379+Nyueqb3JJKpYLD4aC/vx+Hw8Ho6CjT09P1ze6ooaEhIpEIiURiw8PhcNDd3U1zc3P9KUKILbZtw4Ner5fHH3+cAwcO8MYbb/Diiy8yPT1NMpm84XtQFGXDnFe1gq76/J49e+jt7SWXy+F2u+np6cHr9VIsFpmfnyeRSNzUEJfX60XTNKo90M9y5MgRjh49yszMDH/7t3/LpUuXmJmZwev18vWvf50XX3yRVCq1qeLPYrFgsVhQVbX2dZT1qkGbzYau62iaxvT0NIuLi4TDYR599FHeeeedu1ZF19vby9e//nXef/99Xn75ZT744AOWlpbweDw8/fTTnD9/ntnZ2Q3/Rm63myNHjnD8+HHcbjepVIqPPvrohkOy1fnL6s+4+nNRVRWr1YppmrhcLjo7O+nv72dmZoapqSmSySSVSmXTz/FO2bdvHx9//DF//ud/zttvv83bb7/Ne++9V/t6b7zxBhcvXqw/TQixhTZ/ZN4iBw8epLOzk/n5eV555RWKxeJnFi9omkYoFKKlpQW32w3XXORbW1uZmpriz/7sz/izP/sz/uqv/oq3336b999/n/fee4+pqambmmMxDIPjx4+zd+9ePB5P/eHrcrlcOJ1OVldXaxe4apWfpmnYbLZNxSWKouDz+Whubsbv99eer36P1R5iR0cHDoeDUqlEuVwmEAhct6dzp8RiMV5//XXGxsZqQ8WJRIKLFy+iqirBYHBDL0pRFPbv38/AwAD5fJ633377UwNVWS+UiUQitLa2YrPZ4Jr5sK6uLrxeL8PDwxw5coTp6Wk++OADAoEAra2tWCyW+pe8Y37+85/z4Ycfkkqlag9N02hubsZms/Hiiy/WnyKE2GLb1tN67rnn8Pl8zM7OEolEePjhhxkaGsJms5FKpTZd+DweDwcOHOBXf/VX+fKXv4yqqoyPj+N0OvlH/+gf8cu//MuEw2EWFxdZXFykWCzS09ODoigsLS2xtLR0U5/QrVYrDz30EIVCgXg8ft35m3rBYJDe3l5GRkaYnp5mbW2Npqam2vfzwgsvkE6na+11XWfv3r187Wtf4+tf/zpdXV189NFHAPzyL/8yv/7rv859991HuVzmyJEjNDc3c+DAAZqamnj11VcZHx+/qQC+HZlMhvHxcWZmZshkMpimicfjYXBwkPvvv5+XXnqJixcvUiqVsFgsdHd384UvfIGVlRXeeeed2geKM2fOXLenFYlEePDBB/n2t7/NM888w8zMDMvLy+zZs4ff+Z3f4Zd+6Zfo6+vj0KFDHDhwgL6+Ph588EEee+wx8vk8o6Ojd20+L5FIsLa2tuFn+9hjjxEMBrlw4QLnzp27qd8hIcTdsy2hZRgGX/va12hubiYWi5FMJikUCjQ1NbFv3z5aW1uZnp4mn8/XLhKmaVIul0kkEgwMDFCpVMhkMnR0dACwsLDAxYsXmZycJJ1OY5omNpuNZDLJysrKTYUP66F1+PBhkskki4uLN3VePp9HURT6+/sZGhqivb2dgYEBrFYrL730EpOTk5tCplKpkE6na1WBc3NzdHV1YbfbicViXLp0ibNnzzI/P1+rgJyYmGB0dLQWJndDuVwmk8lQLBZrX6OtrY1HH32UXC7Ha6+9xuzsLJqmEQ6Hee6554jFYnz44Yesra3R39//qaEFUCgUyGazHDlyhPn5eaxWK01NTeTzeWZmZjh79iwXLlzgk08+4fz584yPjzM6OsrFixdZWVm5a997tTfLNcPEX/ziF0mlUrz++utyj5gQO8C2hFYwGOSpp56iUqnw0UcfMTo6yszMDLlcjv7+fvr7+4nH48zOztYuIuVymWQyyfT0NO3t7fj9frxeL3a7nffee49PPvmEyclJEolE7aJWKBRIJBKkUqlP/XTu8/nweDw4nU78fj8HDx4kn8/Xws/pdKLrOuVy+bpzXFarFb/fT2trK4qi4Pf76enpwWazcfbsWZaWljaElmmaZDIZ5ufncTqdNDc343a7CQQCXLx4kY8//phLly4xNzfHzMwM8XichYUF5ufnyWazn3rRrn4PTqfzho/qvNGn/UyqAoEAIyMj3Hfffbz88st88sknZDIZmpqaOHHiBK2trbz55puMjo5it9sZGBj41NAqFovE43GWlpbo7+/HZrPh9/trQ4vnzp1jbGyMy5cvMzY2xuTkJJOTk1y+fJloNHrD711VVUKhUG2o9noPh8OBxWLZEMg3YhgGR44cobu7m7GxMT766KPPPEcIcfdtS2i1tbXx8MMPc/nyZX7wgx8wOTlJPB7nypUrOBwO+vr6CIVCvPfee5uGCc31Sfre3l7a29sZHR3lww8/JB6PUygUNlxYcrkc2Wz2My/Og4OD9PT0EIlEaGlpYf/+/VgsFnRdx+PxEA6Ha722+vdjsVjYv38/Bw8eZG1tje9///tks1l8Ph+tra10dHQwOjpKOp3e1Nuq9gZbWlo4fPgwk5OTfPzxx8zNzW1YqulGYXk9HR0dDA4OEolEbvhwOBy1UP40brebkZERhoeHyWQy/O3f/i2xWAyr1Vobqq0Waui6Tnt7O4ODg/h8PhYXF2vf841+/i6Xi+HhYXRd58KFC5w+fZp0On1ToVLPMAwOHTpEa2vrpu+3+ggEAlgsFuLx+Kf+PNX1FVW++c1vMjk5yenTp4lGo/XNhBDbYFtCy+1289BDD5FMJjl79uyGdQH9fj9tbW20tLTw8ssvk8vlNpzL+sXu0KFDuN1u/uIv/mJD7+p2HD9+vHahb25upru7G6vVisPhqN1gq2ka8/Pzmy70wWCQr3zlK3R3d/Pv/t2/Y35+ngsXLvDhhx+Sy+V4+umnSafTzM/PX3eo0W6309PTwwMPPMB/+A//gdnZ2Rte5G/G4OAgR48e3XTBvvZhGAbxePwzL8QPP/wwDzzwAKlUij/5kz8hlUpRqVRob2/noYce4rHHHmNgYIBHHnmEp59+mkceeYS9e/fS0dHB0aNH8fl8rKyssLy8XP/SqKqK2+3m1KlTTE9P8+KLL36uewRtNhuPP/44HR0dm77f6sPr9VKpVJienv7Un7Hdbqe7u5uvfOUr/OQnP+GTTz751JATQmydbbm52OVy8d3vfpdMJsNf/uVfbrhh9OTJkzz11FNYLBb+zb/5N5vmERRF4Stf+QqPPPIIpmny/e9//3OXgAcCgVoVm9Pp5LnnnmN6epoLFy7UVubI5/O1ubdr9fX18Y1vfAOXy8Uf/MEf1C5uFouFw4cP84/+0T/i7Nmz/N3f/d11b5g+fvw4zzzzDJ2dnfzN3/wNb7zxxnWH1W6W2+2uVVbeSLFYJJ1OX/ffWlEUHA4HX/rSl2hpaeHy5cu13pRhGDQ3N1OpVFBVlfb2dsrlcu0DQ3WtxGAwyMsvv8xHH33EwsLCdRcrdrlc/Oqv/irHjh1jfHycF154gY8//ri+2U1TVZWmpqZPraysVCrkcrnPvPWht7eXr371q+RyOV544QWuXLnyuT4UCSHunG3paZVKJXp6evD5fBQKBS5evIhpmlitVo4dO0Zvby/vvvsuFy9epFgsYrfbcbvdOJ1ORkZGsNlsteo1n8/H6dOnN4XJrchmsySTyVooDQ0NsbCwwOXLl5mbmyOZTJLNZjcN77E+LDU4OEgoFOLMmTO1IglN0+jo6OD48eN89NFHjI2NkUqlMAwDr9eLYRjs3buXYDBYG9YMhUJcvnyZWCxW/2VuWqFQqH0vN3pUCy3qqapKS0sLTzzxBIODg8zNzTE+Pk4ikcDlctHT08Pg4CC5XI7Lly+zsLCw4VEsFmlubsZisfDKK68wNja2YZjT7XbjcDgIhULs27ePyvpST9W1FM+dO1f3jm6eaZqkUqlN3+u1j1Qq9Zkr5DscDoaGhnjooYf40Y9+xNTU1Of63RJC3FnbElrVi4bf7ycSiVCpVPD7/ezZs4f+/n7S6TQ//elPa3MPra2tHDhwgOHhYTo6OhgbG2N+fh6Px8Phw4drhQ6lUulTh31uhmEYHDx4kNXV1ZuqHiyVSoRCIcLhMC6XC6vVSjAYpKenh7179+JwOHjxxReZn5+nWCzi9XoZGRlhZGSE7u5u4vF4bT29Bx54gGQySS6Xo1QqbfnFsvrz/Na3voXP5yOXy+H1ehkYGGBwcJD77ruPcDjMwsICk5OTtZ939eF0Ounv78fpdPLRRx+xuLi4ISD6+/sZGRlhcHCQYDDIBx98QCKRoLOzk/b29lqhRbFYvO4HhK3Q09PDyMgIhmHwwgsvkEql6psIIbbRtoQWUFuqqbOzk/vuu4+mpiZGRkaIxWK88sorjI6O1oZwenp6OHnyJMePH+fixYucOXOmVnl35MgRnE4nuVyOtbW1TXNOt8pisdDT00M0GmVpaekzX69ahm+xWHj00Udpamqis7OT4eFh3G43P/3pT2vzWwDhcJgHH3yQJ554guXlZc6cOcP4+Dj5fJ4HHngAj8dDpVJhdXV109Do3Va9H6zam+3o6GDv3r3s3buXPXv20NrayuLiIhcuXGBubq7+dDweD11dXdhsNj755JNNc2YHDx7k4Ycfpquri7Nnz/Lxxx+zurpKa2trbaHk6r1Sn2e493YpisKRI0fo6+vj1Vdf5cqVK9sWnkKI69uWOa0qi8WC1WrFbrfjcDhIpVK1oatrLxaapmG322s3HleH03Rdx+l0ks/na+d82lzFzaiusGGu3xd2M6+nqioWiwW73U4wGETXddLpNGtra7VeU7XHUV2qyOl0ks1myeVyVNYXpnU6nZTLZQqFAqVS6aa+9p2kXrM9zI2USiWKN1i9PhAIMDw8jNfr5d133920Ur+u69jtdjRNq1UJVlfI0HWdQqFQ+3f8tCG8u8Vms3H8+HGCwSA/+MEPbquKUQhxd21raLEeEoqiYLFYPvVCXW137fHrPbedqhd9VVUpl8ufetFTVRXzmnX3bvRcI6l+iLBYLCQSiesOb1YLJer/Hblm2Hi7VG8o1nWd5eXlbX8/QojNtj20hBBCiJt14/pgIYQQYoeR0BJCCNEwJLSEEEI0DAktIYQQDUNCSwghRMOQ0BJCCNEwJLSEEEI0DAktIYQQDUNCSwghRMOQ0BJCCNEwJLSEEEI0DAktIYQQDUNCSwghRMOQ0BJCCNEwJLSEEEI0DAktIYQQDWPTJpBCCCHETrUhtM7+297640IIIcSOsSm0HvlXa/VthBBCiB1B5rSEEEI0DAktIYQQDUNCSwghRMOQ0BJCCNEwJLSEEEI0DAktIYQQDUNCSwghRMOQ0BJCCNEwJLSEEEI0DAktIYQQDUNCSwghRMPYtrUHPV/4Ddr8G58rrIwy+/5b5FZ/8Vzod/89XzywzLv/+F8wem1jIYQQ95xt62k1H3uCw489wfCDp2qPY9/8Hb7xh/9fHvuVofrmt2iIvt/7Lsef+7yvI4QQYifZttACIHWal/9v/4C/Wn/8p//mD3l3Glof+20OHqhvfCu8BLq7iDR76w8IIYRoYNsbWvWy5xn90zeJE6b7xJH6o9fw4n/mn/DQP/suj/3+f8vQY7/oURkPfoOhX7kfrw5G6H6GfuUbhFo3nCyEEKJB7azQAogXKQNoev2Rq+ynOPaH3+OZLw/h1wF3P4d/5b/nG/+Pb2ADjOZumntbcKqguVpo7u3GKx0uIYTYFXZYaDnwfOcAIYrEx9+qPwiA5zu/zIBvjdH/+N/yw+/+C17+H36Hv/7pFfTeL3H/Mw5Sf/NHvPyvv89cHrKT3+flf/1HXD5f/ypCCCEa0faGlrWLI//suzz2z77LY//i/803/t2/5ytHwuTGn+edF+obAxxh7x4vTL/Ju29kas/m/upFJlM6rcNPbmgthBBid9ne0LpWMcPC2Z/y+p/9M/763/w1ufrjAAzg9UAqPlH3/GvE4qDpzrrnhRBC7CbbG1r5K7z/r/8FL68/Xv+TP2Pyjbn6VteIk82DRTXqnm/FsNU9JYQQYtfZ3tC6ZaeJrYKt/RCea59ufZK28PV6YEIIIXaTBgutOc6/do6c7wiP/d+/gccHRE4x/H85Rah4hfMvbCzecLXsx+Xzotk3PC2EEKJBNVhoAT/9Y/7+hTHo/ypf+cP/wK//y9/moGeZs3/xh4yOVxu9xcTFNQif4mt/+IccPrjxJYQQQjSmbVt78PNzYAx0YeTnSF25wXuODOGyfcpxIYQQDaXxelo1GQqj5z89kBY/47gQQoiG0sChJYQQ4l4joSWEEKJhSGgJIYRoGBJaQgghGoaElhBCiIYhoSWEEKJhSGgJIYRoGBJaQgghGoaElhBCiIYhoSWEEKJhSGgJIYRoGJsWzD32z+fr2wghhBA7gvS0hBBCNAwJLSGEEA1DQksIIUTDkNASQgjRMCS0hBBCNAwJLSGEEA1DQksIIUTDkNASQgjRMCS0hBBCNAwJLSGEEA1DQksIIUTDkNASQgjRMCS0hBBCNAwJLSGEEA1DQks0rEAgwP33388Xv/hFNE3DMAyOHj3KgQMH6psKIXYJCS3RsHRdZ2BggJMnT2K323G73ezbt4+enp76pkKIXUJCSzSsxcVFpqamSCaTeL1empubWVlZYW5urr6pEGKXkNASDS2Xy5HJZPD5fBw4cICZmRnOnj1b30wIsUtIaImGls/nKZVK9PX1kUwmWV1dJZ/P1zcTQuwSElqioRUKBcrlMnv27GFqaopYLEalUqlvJoTYJSS0REOrVCrk83lSqRQzMzOkUqn6JkKIXURCSzQkwzBwOBzY7XZSqRQ//vGPJbCEuAdIaImGo6oqe/fu5eTJk3R3d7OyssLs7CyFQqG+qRBil5HQEg3HNE1isRipVIqpqSnOnDkj81hC3CMktETDqYbW5cuXmZycJB6P1zcRQuxSElqiIWWzWRYXF4nFYvWHhBC7mISWEEKIhiGhJYQQomFIaAkhhGgYElpCCCEahoSWEEKIhiGhJRqerus0NTVhsVjqDwkhdhkJLdHwWlpa+Kf/9J8SCoXqDwkhdhkJLdHwVFXFMAwURak/JITYZSS0hBBCNAwJLSGEEA1DQksIIUTDkNASQgjRMCS0hBB3TMVqIxduZW3wMAVvENOi1zcR4nOR0BINzzAMIpEIui4XyO1WcnhI9u5n6eQz5JraqUhoiTtMQkvsCpqm1T8ltkHJ5SbdtYdkzz4qhhVkc05xh0loiYZXKBSYm5ujWCzWHxJbrGRzkg9EsOQy6MlVtGK+vokQn4uElhDizlAUynYnRV8Q29Isaj4LplnfSojPRUJLCHFHlA0bRZeXim7FvnAFtSC9LHHnSWgJIe6IottH0ReCShnbwhSqDA2Ku0BCSwhxRxS9QQq+EGqphH1xGq1YqG8ixOcmoSWEuCOK3iAFjx+tkMW2soAiPS1xF0hoCSHuiILbR9nuRI8vo2XTKFLuLu4CCS3R8KxWKz09PRiGUX9IbJGKblD0BjA1C7blOakaFHeNhJZoeOVymdXVVcrlcv0hsUUK3iAllxe1kMe2JKEl7h4JLdHwSqUS8XhcQmsb5YPNlJweLNk0tqVZZDtOcbdIaAkhPrd8uIWS3Yklk8QaXQCkpyXuDgktIcTnlgu1ULHoWJJx9HRChgfFXSOhJYS4fYqCabGQD7WgFgtY4ysSWOKuktASQtw2U7OQD0QoOd3o6QRGbKm+iRB3lISWaHgWiwW/3y/bk2yDisUg29JFxWpHX41ixJfrmwhxR0loiYanaRo+n09CaxtUdJ1Maw8Vi46RiGKsReubCHFHSWiJhpfP55mYmKBQkLXutlpFN8h09KKYJnoihiWTrG8ixB0loSWEuD2qSsXmIBvpRI8vo6ekalDcfRJaQojbUrbayfubKNud2GILWFJr9U2EuOMktIQQt6Vkd5FrasNUVWxLc1iSq/VNhLjjJLSEELel5HSTjbSjlMtYl+ewpGU+S9x9ElpCiNtScnnINbVhSSYw1mJohVx9EyHuOAktIcQtq1h0im4/RW8A5+xl1Fy2vokQd4WElmh4hmHQ2tqKruv1h8RdUvT4KQTCYJo4py6hFSS0xNaQ0BK7gmxLsrUK/jD5QAS1WMAxfQk1L6EltoaElmh4hUKBxcVFisVi/SFxlxQCEQq+MJZMCvvSDGpRbuwWW0NCS2wrRVFQVXXDQ1F+sYXgtcevfV5sI0Uh7w9TcriwriygZTMolUp9KyHuCgktsa26uro4evQox48f5/jx4xw7doxgMAjrc1XNzc2cOHGCo0eP0tLSUn+62AZFl5eiN4hSKWOfnwRTAktsnR0XWhWrjXwwQrprLxWLDrJx9642PDzM0aNH6ezspKOjg1AohNVqxWaz0dfXx7e+9S0ymQw+n4/Dhw9z4MCB+pcQWyzX1E7R48eSSeFYmJK/ULGldlxoFd1+kv0HWDn6KEVvAFNW7t7V7HY7hUKBiYkJJiYmmJ6eJp1OEw6H2bdvHy0tLaysrBCNRmlpaeH48eP1LyG2WLalk6LTjSW5im1xWtYbFFtqx4VWyeEk3dbD6sgD5EOtVHSjvonYJVRVJZlMMjc3x9TUFAsLC0xMTJBKpWhqaqK3t5fJyUnS6TTT09NUKhWGh4fRNE3mt7aLqpKNdGDqBsZaFH01KqElttSOCy1LJo2eiGMqKvlgExWrrb6J2CUsFguGYdDd3c3TTz/Nt7/9bQ4ePIjH48HlcuH3+4nFYpTLZVKpFOVyGa/Xi8Ph2BRaqqqi6zqquuN+pXcPVaVsMcg1taEW8lhXFlAksMQW23F/4Vo6gZGMY6oq+UCEsiGhtZtNTEzw2muv8fzzz/PGG2/wa7/2axw9ehSHw4GqqmQyGUzTJJ/PUygUUBQFm822IZxsNhv9/f38w3/4DxkeHt7w+uLOqVgMMu09lB0ujNgStpX5+iZC3HU7L7QKeSypBGq5TMHfREVCa9cqlUpcuXKFiYkJVlZWuHDhAlarlaamJpxOJ6VSCafTiaIoWK1WDMPANE1yuRyVa0qsi8Uii4uLvPbaa8zOzm74GuLOqRhW0t1DlG0OrPFlrBJaYhvsuNBSyiW0XBpLeo28L0TFsNY3EbuAoigEg8Faj6pcLpNOp1EUBU3TSKfTxGIxgsEgFosFt9uNpmnEYjGy2SzmNcNS5XKZtbU1zp49SzQq273fLWXdSqp7EKVcwogvy/5ZYlvsuNACUAs5jPgyRbefstUOMk+x6yiKQjgcZnh4mMHBQZqamujq6iKXyxGNRpmYmGBycpJQKEQwGKSrqwvTNDl37hylUmlDaIm7z9QslJxuMi3d6PEoxloUtSQrkIittyPTQCvkscaXKdsdlBwuKhapINxtTNMkHo8zMDDAI488wokTJ3j88cd5/fXX+eSTT7h06RKnT5/GYrEwPDzM/fffT7FY5Cc/+Un9S4ktULY7yDe1UXJ5sC9Ooa/F6psIsSV2ZGiphTzW6CJKpUzRG6DkdNU3EQ3ONE2Wl5f5i7/4C/78z/+ct99+m7/4i7/gBz/4ATMzM1QqFaampvje977Hz372M/7yL/+S73//+zJntU2KngDpjj2gKjhmJ9DXZBhWbI+dGVr53DWhFaTk8NQ3EbtAqVQiHo+zuLjIysoK8XicRCJBsVjENE0KhQIrKyvEYjGi0WjtmNh6BbePTFsvejKOLbqAJZuubyLEltiZoVXIYcQWUUplCm4/Jae7vonYRcrlci2orqdcLm+oFhRbq2y1UfCFKXgDOGbGsSRXUcql+mZCbImdGVrlEnpyDS2XpuT2SmiJT6Wqaq0KUdx5RW+QfLgFU1Nxj51Fy2XqmwixZXbmX7lpopQKWFeXKdudlBwSWuLGrFYr7e3tsnPxXZILt5JrakfLZ3Ff/kRCS2yrnRlagFKpYF1ZoGIYlJweTM1S30QIAHK5HJOTkxQKshHhHaco5MJtFPwhjOgi1tiilLqLbbWzQ2t5DqVQpOR0U3T76psIAeuViIVC4YZzYuL2FZ1e8oEmME2cM+MoxYIskCu21Q4OrTK2lXm0Qo6S00PBe3VjQCHE1sk1d1Dwh7Fk0zinLqFIXolttmNDi0oZa3QBNZ+9Glq+UH0LIcRdlu7sp+T2ocdX1ncpltQS22vHhpZSqWCsRtGyacoOJwW/hJYQW0ZRMDUL6Y5+KqqGdWUBIxEHJLTE9tqxoQWglMsYa3FME4rS0xJiy1QsOtlIBwV/E9a1FRyLV6SXJXaEHR1aYGIkoiiVMgW3j4pFB9mxVoi7rmK1k9hzgJLDhW1pDvvCVH0TIbbFDg8t0OMraLksZYeboieAqez4tyy2mK7rhEIhLBa5LeKOUBRKNgeJgYMoxQLW5Vn0VVkgV+wMOz4BjLUVLOkEZavt6l35qlbfRNzjFEXB4XCgSC/8jqgYVgr+MJm2HmzRRazRRdRivr7ZrqcoCoZhYLVa0TS57uwUDRBaMSzpBBXDRi50dSkZIa5VKBSYmpqSxXTvkKLbT7prgIrNjnPqEkZ8ub5JQ9A0DcMwbuvDTDWwwuFwbSftnaa6YWo1WA3D+NRwVRTltn4WVaqqout67evpun7DpdMURcFisWC1Wje9N03TsFgsNzz3s9zeWVtIT66iZ5JUdIN8uFV6WkLcZXlfiGT/MGqhiHNqFKNBtyEJBoMcPHgQm812yxdrt9vNnj17OHDgAKFQaEcuEWaxWOjp6eHBBx/k8ccf58SJE3R3d98wuFwu1239LKr8fj/Dw8M88cQTPPHEExw6dIhQ6PoFcg6Hgz179nDq1CmeeOIJjh07Rnt7O5qmEYlE6OnpIRi8vXtvd3xoKeUSllQCrZgnF24BmbcQ4q4p253km9rIByK4xs9irMUactkmj8eDx+OhUChQKt36ivR2u51AIMDMzAwzMzMkk8n6JttK13UCgQBdXV0sLCxw9uxZVlZW6OzsxOv1Xnd+t7+//7bX6HS73bS2tmKz2Th79ixnzpzBarXS3NyM271xbVi73U5TUxMtLS2MjY1x5swZcrkcra2t+Hw+1tbW8Hg8+Hy+677Pz7LjQwvTxJJaw5JOUPCFKes2KcYQ4i7JhVrItHSBouD75F0s6URDlroHg0HcbjdLS0uUSiVUVSUSidDS0lIbumpvbyccDm+6cHo8HiKRSO01rFYrbrebSCRCd3c3Q0NDhMNhbDYbbrebnp4ehoaGGBgYIBwO14bCgsEgbW1t9Pb2snfvXvbu3Us4HKa5uZm+vj6Ghobo6em57d5PuVxmZWWFubk5ZmdnWV1dxWq14nQ6N/S2qj2yjo4Ourq6aGtrq83TNTc309/fz+DgID09PTgcjuv21CwWC4VCgVgsxtzcHHNzc+TzeaxWK3a7fUPb6vnxeLzWNpVKoes6TqeTXC5HPp/Hbrfj9/s3nHszGuLqb0kl0NfilBwuim4/5m18UhBCfAZVJdvaTa65A30t1rArumuahtfrxWq1Eo1GMU0TRVEIhUK0trbWAqi9vR2Px7NpbkXXdex2O4Zh4HA4sNvt+Hw+2tvb6e3trc1xVcOtvb2dQCBAOBymra2NYDCIxWIhHA7T1dVFS0sLwWCwFhBtbW2Ew2EikQhdXV21oLsV5XKZZDLJ6OgopVIJl8uF1Woln89TLpc3rMOpqioejwfDMLDb7TidzlpPrbW1lebmZoLBIJFIhM7OzuuGaKFQYGlpibm5OcrlMqyv+Xm9ve6KxSLxeJzJycnaPnnVttVebywWQ9M0wuHwhnNvRkOElp5OYMSXMVWVfLiFsnVjsgshPr+yYSPT3EnR6cExN4GxuozSgEOD1Yn/6kLKrO+Snclk0DSN7u5u9u/fTyaTIRaLbdodIBqNMjMzQzQa5cKFC0xNTZHL5bDZbFgsFk6fPs3s7Cwej4eWlhai0ShvvfUW586dw26309PTUytCsNlsLCws8P777zM6OsrAwACqqnLx4kVOnz5NJpOhvb0dm8224T1Uiyyu91AUhUqlQj6fJ5vN4vP56O7upq2tjXK5TDwe31CUVCgU+Pjjj1lZWWFmZoaxsTFKpRKDg4NYLBbGxsZ4//33mZubY2hoCL/fvym00uk08XicZDKJqqq4XC6cTieFQoG1tbUNbfP5PKurq8TjcSqVCg6HA5fLBcDKygqVSoVEIoGiKPh8t74QekOEliW1th5aGrlIm4SWEHdBumsv+aY29NQankunURpwWJD1ORXTNMnnN5bpLy8vk81mGRwcpFQqMTs7u+mC+2lyuRyLi4ukUilKpVJt7mhqaopKpcLa2hrJZBJFUWrzPMlkkkwmQ6FQIJ1OUygUWFlZIZVK1S74Vqt1Q29PURTsdjvhcJjW1tYNj6amJhwOxzXv6mpPqvqwWq1YLJZNoVOvOjQYjUaJxWLk83mi0Si5XA673Y7Vaq0/Ba55b0eOHGFtbY35+fkbzhlWg3dwcBBd15mYmKj1vHK5HIqibArrm9EQoaXlMuiJOGqxSC7UQsW28R9N3NsMw6Cjo+O2JpjFOkUh0T9CwRPAGl3EeWW0IeeyWL+Isz58dS1N02pzOcvLy+RyuU1DW5+lUqlQqVRqQ46s92RM06wdUxQFXddrPaJq++r7qf539aHUlaKrqorNZqsN2V37CIVCtXsSq0EVjUYZHx9namqKfD5PU1PTDUPnWpqmUSqVasOJ1fda7dHVq/aMhoaGSCaTzM3NkUgkNv2cq3RdZ//+/SiKwsLCQm2olvXhTdM0Nw3N3oxbP2MbKOUSlmwKIxEnF2yhLKElrmGaJtls9oZ/POLTmRadfKCJTHsvWiGHY24CS3K1vlnDKJVKmy6IhmHQ1NSE3W5ndnYWl8t13QvzrajOH7nd7lpQVXtNuVzupn8f63tF1aG/WCzG0tLShkc0GiWbzWIYBqFQiJ6eHhRFIZFIkEqlUNbvL7tRGFRD0jRN0uk0NpsNm82GqqoYhoHNZqNUKl239+Tz+WhubkbXdWZmZlhdXd0wDKmqau17cTgcdHR04Ha7WVlZYWVlZUPPV9M0zPV5rlt1/e9sB9LyWazLs5Q8fkoON6ZFPlWLq4rFIisrK9f9QxOfrWzYrvayfEFsizM4pi417NAg68N4rAdVtUcSiUTw+/1kMhkmJiYIhUK43e5NlYO3YnV1lWw2S3t7O83NzbW5qXQ6TSZz+wUs1UCZn59nampqw6NaiaeqKg6Ho1YN2NLSQiAQQFEUksnkdf8W8vk8Nput1m5mZqZWyt7S0kJrayv5fL42dHktq9VKa2srnZ2dsF5NGAqFiEQitaKXtrY2bDYbuq4TDAYZGBio9dq8Xi/Nzc0EAoFaTxK4rZ9Tw4SWmstgW5rFVFUKXj8lx9WJPSHE56CqlFwe4ocewtQsOGYv42jwxXFzuRylUqlWDKFpGp2dneTzecbGxohGoyQSCRwOxw2H0UqlUu11qj2CfD6/oWextLTE8vIykUiE4eFh9u/fT7FYrFXNFQqFDTtqVyoVstls7TVN06RYLN7WMGV1fi2TydDT08OhQ4fo7OwklUqxtLS0aT6P9Yo9p9NJd3c3uq5z6dIlNE2jt7eXkZERurq6GB0dZW1tbdP7cblc+Hw+PB4Pfr+fkZERDh06xPDwMB0dHTidTg4cOIDX68Vms+H3+/H5fLjdbgYGBjh06BAjIyP09fWhaRoej4dyuczq6q336JWRkRGzOp559t/2cuyfz9e32RFKTg/J/hGmvv5bBD78OcH3XsYxN1nfTNyDuru7+b3f+z3+6I/+iPn5nfn7u1OVHC6Sew4w+c3fxTN2mqafP4/78tmGnc+q6urqIhAIEIvFmJ6exmKxYJpmrQdiGAblcnlTeXhVtYdQLelW1osKrn2Nai9O13UsFguVSqU2tGaaJtp6pd+1r2G1WikWi5TL5dr5mqbVChRuhbJ+v1l1Lrf63qpfv57FYqn1PqvD6dXzq++zWCzW5uCupaoqFosFTdM2BVqlUqFcLmMYRu18i8VS+5lUVb9GqVRieHgY0zRrw4y3onF6WvkstuVZlFKRQiBMyXPrN6UJITbKh1tZ3X8MU9PwXPgQ29JswwcW66XViUSCSCSCoigUCoUN9wzl8/kbXtxZLxQoFAobihSKxeKGYTdzvQeWy+VIp9Nks1kKhULtol8qlWoX8Wr7XC5Xm8epnn9tb+xWmOs9tWw2SzabJZfLfWr4lUolstksmUym9h6r52cymdp7u975lUqFQqFANpsln89veFS/x2vPr77ute2qPVe73Y7FYiGXy5FKpeq/1GdqnNBaX85JT8Qpuv0UXbde3y+E+IWyw0WmuZNMWy/Omcs4ZieuroCxC2SzWeLxOKurqxsKBO6Wahhuh+rXvpmvf71213vubrJYLKysrBCLxTZ8CLhZDRNamCZqqYBteYGyzUnR7cPUbn8SVYh7XTbcSrpzDxXdwP/xGxjxZZTyrV9EdqLK+g2sMzMz9YfENiuVSiwtLd3ysGBV44QWQKmEfWkaU4Gix0dZijHE+lh5dVxe3BxTs5DuGSLT0Y8RX8F/5m0s2VsfqtnJSuurYHzakJnYWqZpkslkyOfzm+bGblZDhZZSKWNbmELLZSi6feQCTfVNxD3IZrPR09Nzy+u33ctykXbS7X2gqHgufogluYpyG/fMCLHVGi607LXQ8pMPttQ3EfegfD7P7OwsRdkE8uYoKvEDJ8hFOrAtzeD75F0U8/Y+9Qqx1RortEzz6qaQyVUqNgf5YHN9E3EPqlQqpNPp2x5uuJdUdCvptl6SPYOouQyuyQvYoou7omJQ3BsaKrQwTdRi4eriuZgUgk3rxRgylyHEZ1JVSm4vsftOUvSGcMyO4xo/h1LauPqBEDtZY4XWOmt0AbWQp+AJUHK6MWUCXojPVDZsZCMdRI+cQs1mcE9cwD5/pb6ZEDtag4bWEkZylbLNTra5E/NzLnwpxL3gamA9QsXuIvjxz3FMX0KRIVXRYHZkaHV1dfGbv/mbOJ3O+kMAWGML6Ik4ZZuDbEvXjrlfy2q18p3vfIfe3t76Qzvek08+yYMPPlj/dEMwDIPOzs6G3Jrkm9/8Jvv27at/+o4r+MOk+vaTae/DdfkTXOPn0BPx+mY37eGHH+bxxx+vf/qOGRwc5Fd/9Vf56le/SkdHB7/1W7/F/fffTyAQqG8q7jE7MrScTid9fX03XIG5ujJGm8PKs8ePYrddf9FLgIGBAR544IH6pzc4duwYg4OD9U9vcvTo0U9tp2kaPT09tQ3gbkTXdZ544glaW1vrD9WEQiGefvrpTRu+1QuFQnzpS1+6YcAD9PX1fWYgtbS03NTW14cPH2b//v31T9eoqspjjz1Ge3t7/aENVFXl0UcfpaOjo/5QTSAQ4Nlnn8Xj8dQf2sBisXzmVhM9PT08/PDD9U9vcPDgQQ4cOFD/9Caf1U5RFE6dOlVbEfvTdHR0fOrurV6vl6985Suf2qazs5NTp07d8D61ikUn2TdM06GjfC3kIPzOi1hX5lGvsytxdSHUzxIOh2lu/vRCqIceeoienp76p29KIpHA4/Gwb98+Ojs7uXz58qbtLcS9adsXzPV4PPT19W14rr29nRMnTvDDH/6QbDa74VjV6r6j+I4/wpfCTl7+/3yP3Nr1764eGRmhqamJn/70p/WHah599FHW1tb48MMP6w9t8FntDMPgy1/+Mu+99x5TUzdeKVvXdb7yla/wwQcfMDl5/UV/W1paeOSRR/jRj35EMpmsP1zT0tLCo48+yg9/+MMbttu/fz/t7e38/d//ff2hmocffphcLse7775bf2iDkydPks/nb9jOYrHw7LPPcvr0aSYmJuoP12iaxrPPPsvZs2cZHx+vPwzrF8YvfOEL/OhHP/rUu+e7urr4r//r/5o/+ZM/qa2wXW/v3r309vby/PPP1x+qefDBBymXy7z99tv1hzY4ceIEpmny1ltv1R+C9dB69tlnuXjxIpcuXao/vMGzzz7L6OjoDdtVg/vHP/4x0Wi0/jAAe/bsYXBwkB/+8IfXvYm26PIRPfwwvcMHOFFc5cX/+L9BLnPd7Ufuv/9+LBYLb7zxRv2hDe6//350Xef111+vP1TzpS99icnJSc6fP082m2V0dPSWKjy//vWvMzQ0xHvvvcdLL71UW7NP3Nu2PbT6+/v51re+Vf/0Zyp6/GSb2in5grhHP8aSTu6aJWjErfH5fBw9epT5+Xmmp6dJJHbH+nmfm6pRttlJt/VSsTuxJOPYFqawZG99D6PPa2Vlhf/1f/1fb3qtuWqPva+vjwsXLvDWW2/JyhYCdkJoVXfMvFW5pnZi951k5djjtD3/53hGP0Jv4N1Wxe3r7Ozkd37nd/jjP/5j5ufn5cK2ruT0EDt0kuUTX8AaXyL47sv4z7y1LfdkVVcJv1kej4eHH36Y/fv3E4/H+f73v1/bKVf+fe9t2x5at6vkcLE6cpzpr/wmoXdeIvzWT7AtyeKY9yLZT2uzkstDsm+Y2S/+KkqlTPjtF/F/9AZ68vaLL7aC3+/nueeeI5lMMjU1RWtrK4899hh//dd/zQcffCC9aLEzCzFuhpbPoq+uYEknybZ0UrJ/esGCEPeKssNFsmeIlSOPUHJ68J99B/elM+ipnT8SUSgUuHz5MmNjY4yPj/Phhx/ywgsvMD09fUs9NbF7NWxoKeUylnQS28o8+UCEktMj92vdCxQFU9OoGDbKdiclp5uS3YVp0a/+t9NN2e6kYrVfvRXiBhV1u1XFaifVvZfVAyfItnTjPf8+vtNvYluZ35ZhwVuVyWR4/fXX+eijj1haWuLKlSu88MILXL58mVwuV99c3IN2fGgpioJhGDidThwOx4YtKCy5DPa5ScoOF0VfiLLtxmXf20FVVWw2Gy6XC6fTeVtzd9tF13Xsdjs2m+1TS8nvDgVT1agYVkp2J0WXl4IvSD7QRC7USrali3RnP8meQZL9I6R7Bik6vaR6hkj2j5DsGSLV0U+mtZtcUxv5YDMFf5iiN0DJ5b0aaoZ1/UPO1odadYt2h8Nx536+ikLFopNp7SJ65DGSPftwzE3Q8tLfYFu6uuP351Xd3t3hcOByubDZbKjqnb2EmOu73larDCvrW7kLUbXj57QsFgs9PT309PRQqVQYHR1laWnp6tbNTg+JvmGmf+m3CXz0OsF3X8Yxd+My663mcrno7++nvb2dXC7H+Pg4ExMTO34iWVVV2tvbaWtrI5/Pc+XKlRuWW98NpqpRdHvJNbWTi3SQCzVTCEYo+EIUnV4qhvUXPShFYa9D5/+1J8R/c3GZqVzpFz0K00SplLGkU+iJGMbaCsZaFGt0AevKAtaVRfREDKWytRdFh8NBU1MTHR0dpFIprly5QiwWq292Syq6Qa6pjZmv/AbZ5m5cl8/R/Mrf4pi5fN3S9tuh6zpNTU3s3bsXu93O/Pw8586dkx6Q2FJaJBL5A9Y/4fzu037+5Kc7ayO4p59+mu7ubhYWFlhcXOS3f/u3KRQKxGIxCrksSqVMfOQECmBdmcO2PFf/EtuitbWVI0eOcPjwYd555x3a29vZs2cPDodjx++mqigKkUiEJ598kubmZubn5+9qaFUsOgVvkNSeEWIHH2Tl+FNEjz3B2v6jpHqGyDa3U7Y5UPM5rLEl7PNXcM6O45y+hHPyIu2rCzzeEuTtV16iPHYe+9wktuU5jNVlLMkEaqVE2e6gEIiQae0m3bGH5J4DrO47ytrwMVLdg+TCLZSdHlAU1EL+rgaZ3W6no6ODp556CrfbzfLy8uf6+RbdPhIDB5l78lvkw614z79P6N2XcM5Not6h20BsNht9fX389m//Np988gnZbJY9e/Zw3333cfr06R3/QUzsHjs+tEKhEPF4nMnJSTKZDF/96leJxWLMz8+TTKyhoJDs20/R7cMaW8Q5O74jxu59Ph9er5d4PM758+dpamqip6cHh8PBxx9/XN98R1EUhUqlwsGDB7FarVy+fJnl5eX6ZrdPUTA1C/mmVpK9+1jbfz+rI8dJ7DlApr2fktONVsxjjS7inB7DPXYW99gZ3JfP4h4/h/vKRZzTYzhmxnHMTtBp5vn6wyd4/e/+DwoXz2JfuIJj7grOuQmcM+M4Zy/jmB7DOTuBY3EKfS2KVsiDxULJ6aEQbCYX6SDb0k2mvZdMZx+5pnaKngAV3YpiVlCKhTs2kGiaJjabjb179wJw5cqV2/r5mopCrqWb1eEHiB98iFykDf+5d/F//DrOmcto+evfmH87DMPA6/Xi8/n48MMPSafTDAwMcOTIEf7Lf/kvMoQntsyOD61UKlVb6cHn87F3717Gx8eZnp4mnUphKir5UAvZ5g705CqOmcuoxe2vMlJVlXQ6zeXLl0mn0/T29tLe3k6hUOCDDz6ob76jmKZJNptlaGgITdMYHx+/rYtqPVPVKLm85Jo7SfUMsrb3PhJDR0h1DVDy+NHyOWzL87iujOIeO4Nn7DSe0dO4x87gmrmMfWEaW3QBI76MsRa7urdaao2Iw8oTpx7mlR98n8zcNHpyFSMRw4gvY40uYFuaxbHeO3PMXMa+OINteRbbyjxGfBlL6mpvrKIbFHwhcs0dZCMd5JraKAQiFPwhip4gJZeHimG72hszK7e92Gy5XEZVVbq7u+E2QstUVcoON+nOAVZHHiCx9xAlpwfv6EcE37naw7qTgcX6B5lSqcTMzAwLCws4nU4GBgbo6Ojgxz/+sYSW2DLbFlqqqqJp2qaHqqooilIbbsjlcni9Xnp7e2lra8Pj8fDee+8xPT19dbJWUagYNjKde1DKZWzL8xiJzzc/8GkURUHTNCwWy3Xf+7XvO5FIUCgUsNvt3H///dhsNkZHR2+4bNHdpCjKDX/m2nohQP0Qz3333YdhGJ8ztJSrF1m7i0Lg6qKt0fseZuX+J68udmyxYFuew3f+fQLvv0LwvZfxXDqNY/4KRnwFLZf5zHBwu90MDQ3x85//nFTqU35/TfNq1Wk2jbG6gn1xGteVUbyjH+O+fHb9ay6j5bJUDCtFX5BcSxep7kGSfcNkmzsoeYNUrDZMzYKpaZgWHVQVhaublN4sh8PB0NAQqqredGiZqkbF5ri6+G33IEsPP0uqZwitWMD3ybs0v/y3WGNL111T8PMql8tks1lWV1dRFIW9e/fS1dVFLBbjrbfeuqXlmYT4PLYttNxuNz6fD7fbjcvlqj0cDgeapm2Y3LXb7TgcDgzDYN++fczPz/9i8Uzz6j1byYGDlFwejLUojrnrr+d3JxiGgcfjwe/3b3jf1feez+c3/AHrus7Ro0fp7OzkwoULvPrqq9vyqVTTNFwuF36/f9PP3OVyUS6XKZVKG4LrToSWqWqUnR6ihx9m4fFfInr0EQqhFoxElNB7L9P88t8RfvdlXBMXsCZit3XB9fl83H///bz55pufHlqfQi0VMZJx7POTeMbOEPz4dbwXP8Q+fwVLJkXFaiXb2Uuqc4C1/cdY3f8Ayb4RCv4wFcOKWire0lzY7YRWye1nbfA+Fh/9Kksnn6Xo9eMeO0PTz35E6P1X0PL5WwrO29Xc3MwDDzxAqVTir/7qr0in0/VNhLhrtq16cHh4mI6Ojk2rmBeLRWZnZ3n//fdrz+m6jmEYuN1uvv3tb1Mul3nzzTdri7aaFp2pr/0W6a4BPJdO0/6D/3DNK95ZoVCI3t7e665OXiwWef3111ldXaVcLuN2u+nv76e7u5vx8XEmJydJJBKbejRbweFw0NvbS09Pz3VL7z/66KNNN3D+1m/9Fi6XixdffJFz585taP9ZTFUjF2ljbeAQicEjFPwhlHIJx9wEnosfY5+bQE8n0TIp1FLhc81D3q0VMUyLTtmwUrHaKVvtlO1OcqGWqxWN4TYKgTAlhwstn0XNZ7Ek17DGF7GtLGBEF7DGltHXYlhy6U3fXygU4rnnnsNisfDqq6/yySefbDjOeoFKyRMg09ZFumOATEsX+WATpkXHtjiD/8zbOGcuX+0dZu9+cFgsFnw+Hw8//DDxeLxWyXuz6wkKcSdsW2g1NTXh8/k2bT9SqVRIJBLMz8+j6zr9/f2kUimmpqZwOBx8+9vfJhwO8+abb/Lqq6/Wzls89RXiBx9CT8To+j/+PZZsGu7CkIXD4cDv9+P1eusPUalUmJqaIpfL4XQ66ejooL+/n4mJCSYnJymXyxiGQSKR2PLhFMMw8Pl8+P3+2nDgtRYWFlhbW9vQC7yt0FIU8oEIyd59pHr3kY20U7Y5cV25iGPmMo71yj5Laq3+zNt2t0KrnqkolJweSm4fRZePosdH0Rek4Auvl+O7MXUDymUsmSSWTAotk8KSTWFJJ9FyGbRcBjWfI+Ky8ytPnMLQdH76zrucvjyBqVspG1bKNgcll5ei20fR5aXoC1J0elELeayxBRyzEzhmJ7EvXMGSSaJsQc9d0zSCwSAnT55kYWGBy5cvE4vFsFgsWK1WksnktowgiHvPtoXWZ1EUBV3X+fKXv0ypVOLChQsoisKXvvQlEokEb7/99oZPp2t7D7F84ouU3F7af/hnOGcuo1xni4qtMjQ0xIkTJ2hububDDz8kl8tht9tJp9P87Gc/2/LQuhWqqhIOh/nOd76Dy+XiZz/7Ge+99x6pVOqG7/tqcYCLbKSTZN8+kv0HKNmdVys6Zy7jGT2NbWnmrvQItiq06pmKQsWwUgg2kw80kfeHKfrCFD0+Sjbn+socNkxFRS0VUEol1EIOdynPoEPnN/b3oisK/2Vsip/PR4lxdVX2qz27q/NmarmMJbWGvrqCfXEGx+w49vkpLJnrb0NztwQCAQ4dOsTXv/51XnvtNaLRKLquY5om586dY3l5WZZZElti2+a0bkalUmHPnj1EIhG8Xi8ej4fm5mbefvttLl26tGHfJMWskI90kIt0oKcS2OcmUbdx2GLv3r3cf//9BINBenp62Lt3b61a7Nqhz51I0zQGBgbo6+vDarWSSqWIxWKk0+nrhlbFsFL0Bkl1D7J84mkSe+9DATxjZwm/8yLBD36GsbpyW/NVN+NOzGndDgVQyyX05Cq2pVlcU5dwj53GM3YG+/zk1aKg1SiWbAoFk4phpWx34fEH6IuE2O9zoukGizYXMw4/S3YPZZsdTBNjLYZzdhzPxY/xf/w6wQ9/jnvi3NVCi22ojo1EIhw8eJCOjg7a2toYGBhgcHCQ5uZm3nzzTTKZzHV/N4S403ZsT6uquuSNYRioqkomk6FcLm/6AzEVlaVTX2Hp+BdwzE/Q9Td/ckeHoG6VqqrXXeKmUqlseu87UbWKk/UPNNXHJopCqnOA2NFHiY88QNlqx3v+A8Jvv4hz8sLV+6HMu/v9bldP61MpCld/WsrV1TsUQFEpGzbKDiem3QmGDVSNilnBLBVR87n14cT01b3hTPNqxSNX/3c7KYpSq0CtVy6Xr/+7IcRdsPk3cIeprO/Dk06nSaVSG9Ylu5ZiVjBWlzESK1dXfXe6t3UB3UqlQqlU2vS43nvfiSrra75VPyDUX5RMRaXkcLH48JeZ++KvkthzANvyHB3/+U9p/cn/jvPKRbTi3Q8sAKvVSnd393ULTLaNaaKY5tUbkytllHIZpVREy6YxVqMYizMYM+PoU5ewTl/GPn8F68o8emoVtZhHKZeunmdWtj2wWP/gcqPf6frfDSHuph0fWlzzB/NZE71GbAnb4iwlu4tMcydl+85aQHe3KNscpDv3sPD4c8QOn6Jss+MZ/ZjIqz/Ad+49bIszaLnMXSmEuZ5yubypiGSnUswKynp5vJrPoq0/1HwOtVi4WlQhISDEDTVEaN0sYy2KfWEaVI10zxAlp6e+ifhcFAq+EIk9B4gee4zYgROo+Ry+8x8QfPclvOfeQ1/b+gVoS6US8Xi8IUJLCPH57KrQsiTXsK3MoWUzpDr6Kbq8oOyqb3HbmKpKwRtkbegIy8efYm3oMNboEk1vPE/ozb/HOT225WElhLj37KorumJW0FNrOKcvkW9qoegNUNH1+mbiFpmKQtnmYPHRr7Lw6NfINbXjOf8hPX/5x/jOvoO+jQUvQoh7y64KLQBLOoF7/BxKuUKmuYu8v6m+ibgFFauddM8QU7/8j1kdeQAjvkzktR/Q8vLfoidXpXclhNhSuy60tEwax9QltFyGbHMn+VBzfRNxk4oeP6v7jrJ48hlSXQM4rowSeu9lfJ+8gzW2+IuybCGE2CK7LrTUUgHr6jLWpVmK/hD5UAsViwwR3hJFJR9oYnXfUWKHT5Jt7sQ1fo7Q+6/gvfAB1tjSjgorTdPw+XzXXZ5KCLG77LrQwjRRiwXcE+evLtoabKbk8de3EjdgWnQKviCrww+wcv8T5EItuC9/QsuL/wee0dNYUon6U7adxWK54ZqKQojdZfeFFqCUSrgvf4IltUY+1EK6va++ibiBgsfP0oNPs/D4L1Fyugl+8DPa/v4vsC/OoNylZZg+r3w+z8TEhKx9J8Q9YHeGVqWMfXEGa2yZostDurP/6lI64oZMRSXVM8TCE98gdt9JjOgizS//HcH3XkHL3PlFboUQ4nbsytDCNFHzOexzE2iF/NVt031BzOusmyau7tu0tu8Iyw88QapzANvSLE1vPI/3wofoqytSISiE2DF28VXcrG2QV/CGSHcOYFp20Np0O4GqUrbaSew9RPTwKbKtPdhW5gi981N85z/AWItuyU64Qghxs3ZxaIF9cRrb8hwVq43EwEEqVqsME66rLnib7trL4sPPkm3twb44Q+jtnxL4+A20TGpHVQgKIQS7PbS0TArb0iyWTJJE/zAlhwtTlnUCoGKzk+rex9Qv/UMyHf14Ln1M02v/Ge+FDySshBA71q6/gtuWZ3FeGaVsc5LoG6Ho9tU3uecU3T5i9z3M/BPPUbY7iPzsR4TeeQn74kx9UyGE2FF2fWhZ40s4psdQykUSg4coegP1Te4dikrBFyJ65BGih05iahbCb7yA/+M3sS3NoBby9Wc0BMMwaG1tRZd1JoXY9XZ9aGnZDLbleezzU2SbO8mFminbHPXNdj3TopP3h4gdeojVkeOYFgu+T94h+P6rDR1YVY2yuaYQ4vPZ9aGFaaIn4ngvfEjFsJFp66UQuLcW0a1Y9KvLMu2/n5XjT1LRdXzn3iX0zotYowtX1xBsYIVCgYWFBYrFnXnzsxDiztn9oQXoqTW8Fz9Ay6ZJdQ2RaekG7pEqQkWh4A8THznO3DO/RkWzEH7zJ4TeehEjvlLfesspioKqqhseyjUVntcev/Z5IcS96Z4ILaVSxpJM4Bk9TdnhJNvWTdF7b6xHmGnpZuX4U0Tvfxw9vkz7j/8c77n3sGRS9U23RVdXF0ePHuX48eMcP36co0ePEgwGYX2uKhKJcPz4cY4cOUJLS0v96UKIe8w9EVqYJloxj++Td7Ck18g0d5LqHqxvtauYqkq6a4CV+x8n0bsffTVGy0//BvfY2R21D9b+/fs5evQoHR0ddHR0EA6HsVqt2Gw2ent7+da3vkU2m8Xv93PfffcxMjJS/xJCiHvIvRFagFIu45i5jH1hipLTQ7J3/9WCjF1431bZaifdOcDKkUdJ9QyhpxME33/16i7D6bUdE1gATqeTYrHIlStXuHLlCtPT06TTaUKhEPv27aOtrY2VlRVisRhtbW0cP368/iWEEPeQ3XfFvhGzgiWTwjVxES2bJtPeS7a1m8ou286ibHOQaeth5djjJIaOoKcTBD54jcBHP0fLZ2EHVdmpqsra2hozMzNMTEzU/jeZTBKJROjr62NiYoJ0Os3U1BTlcpmRkRE0TZP5LSHuUfdOaK1zXz6LY3aCgidA9L5TVGz2+iYNy1RV0h39LD/0JWKHH8aILRJ57T8TOP0maiFX3/yuUhTlho8qi8VSGwZ89tln+c53vsOBAwfweDy4XC78fj+xWIxyuUwqlaJcLuP1enE4HJtCS1EUdF1HlUWRhdjV7rm/cD21inPmMtbVFRIDB8g2tVO22uqbNRxTUYiPHGfp5DOkO/rxjJ2l7YW/wDk5uuUl7bqu4/f7iUQimx5+vx/D+MXCxRMTE7z22ms8//zzvPHGG3z729/m6NGjOBwOVFUlk8lgmib5fJ5CoYCiKNhstg3hZLPZ2LNnD//gH/wDhoeHa88LIXafey60rs5tjeO+dIaS3U380EMU/A1835aiULHaiR59jOjRxyj4QrjGzxF55e+wz05cHRLcwrUEFUXB6XTS39/P4cOHNz36+/vxer0AlEolJicnmZiYYHl5mQsXLmC324lEIjgcDkqlEk6nE0VRsFqtGIaBaZrkcrkNNxMXi0WWlpZ4/fXXmZ2dvebdCCF2m3sutACM1WVckxewLc+S7Bsm09pNye6qb7bjmapKwRskdvBBokcfpeT24ZoaJfj+K7jGz6EVclsaWFWlUolkMkk0Gt30SCQSFItFFEUhGAxit9tRFKU2BKgoCpqmkclkiMViBINBNE3D7XajaRrxeJxsNot5zfdVLpdZXV3l9OnTRKPRDe9FCLG73JOhpRYL2JZn8Z97h5LdRapvP7lIW0NtW2KqGgVfiLW997H48LMUPX5c4+cIvv8qnrGz27YPlmmapFIpzp8/z9tvv73pceHCBVZXV1EUhXA4zPDwMHv37iUcDtPR0UEulyMWizE5Ocnk5CShUIhgMEhnZyemaXLu3DlKpdKG0BJC3DvuydAC0Ndi+D/4OUZ8mUT/CMne/VT0BtkkUlEpOT3ED5xg4fGvU/QGCXz4c8JvvIBz8uK29K5ulWmarK6uMjg4yGOPPcZDDz3EF77wBd544w3Onj3L6Ogop0+fRtd1Dhw4wIkTJyiVSvzkJz+pfykhxD1EGRkZMU3TpFKpcPbf9nLsn8/Xt9mlFCpWK7H7Hmb5+BewpBOE3n4R/+k36xvuKKaikA82s3TyGRKDR1CLeUJvv4jv3Lvoa7EtL7r4PCwWCx6PB5vtaiFMPp+nVCqRyWQolUrouo7P94utZPL5PJlMZtMag93d3fze7/0ef/RHf8T8/L3y+yvEveme7WmBiVLI47nwIY6pSxTdPlb3HSUfiGCqO/PerbLVTrpniIXHnyM5cBAjvkTozb/H98k76KvRhgos1ue+YrEYi4uLLC8vE4vFWFtbo1gsYpomhUKBpaUlotEoKysrtWNCiHvXPRxaoJgmxuoK3gsfYMSWyLT3Ej/0EGWHC3bY/T5FT4DEngMsP/Akyd59WJfnCHz4M3yfvIsRX95Rq1zcqnK5XAuq6ymXy7L1iBAC7vXQqnKPn8Mz+jFKuUz0yCOkO/dQsu6MPbdMRaHgD5HYe5Do0UdJDBzEvjB9dSjzzNsYa1Itp6pq7b4uIcTuJn/lgJbL4Ll0Gt/Zdyh4Aiw+9CWyLV3bPEyoYKoqZYeL6OFHWHz4y2Q69+AeP0f7j/8j3osfoWV3xkrt281qtdLR0SE7FwtxD5DQWmeNLeG98AG+C++TbekidvgU6a499c22TEXXyTV1MP2V/zMrxx4Hs0LwnZ/S/sM/wxpbbOjhwDstl8sxMTFBoVCoPySE2GUktNYp5RK25TlCb/0E+9IM6e4B4gcfJNPRX9/0risEmogfeojZL/0aqd792BemCL/1E4Lvv4qxGkUpFRuirH2rVIs2bjQnJoTYPSS0rqHlszinxwi++zKW1Bqprr3EDp0k09KNabnLQ0/ryzGlevcRPfII0UMPk23punrD8Ic/w/vJe9iW58CUggQhxL1LQutapolaLOD/+E38Z95GLRRYG7yP2NFHyLZ03qWFdRUqukE+0ESif5jlB54kduBByk433nPvE/nZD/Ge/wAjEas/UQgh7jkSWvVME7VUIPjuSwTfexm1WGDl/idZPPnM1f23DOsd2zjSVDXKhpVcuJWVY48z/bX/irV9h9FTccKvP0/HD/83HHMTW76tiBBC7FR35uq7C6nFAr5P3qHlJ/879tkJEnsOMfvMd1g59hhF99VVyj8XRSXT3svC47/ElW/+Y1YeeAq1kCfyyn+m/Uf/Ef/pN6/eLCzzNEIIUSOhdSOmiSWbwTVxgZaf/jW+s29TsjlYeeBJZr/0a0QPP0LBG8S0WOrPvCHTolPwh1kdfoCZZ/9PzH3hV1gdfgBT0Qh8/DptL/wnAh+9jm1xZsu3FBFCiEagRSKRP2C9Aut3n/bzJz+Ve39+4eocl5GIoafWUAt5yk43uUgHuaY2Cv4mCv4QJbeXis2OadExNQsVzULFaqPscFP0BsiF20h39JPcM8La3vtIDBwk3dmPYoJjfhLv+ffxnX8f5+Qoejoh5ey3KBQK8cUvfpFXX32VRCJRf1gIsYvcwwvm3rqSy0Oqe4i1vYfItPVQcnlR81mM+ArW6CLGWhQtm0atlDAVlYrVRsnpoeALkfeHKbl9mJqGJZ3EiC7imjiPe+ICtqWZhls3cCcZGBjgX/2rf8Xv//7vMzU1VX9YCLGLSGjdhrLNQbalk7WhIyS7hygEmq4WaKgqVwf0FMAEExRMqFTQsmlsy7O4roziHv8Ex8wEajEvQ4B3gKzyLsS9Q0LrdigqFU2jolupGAYlt5+8v4mCL0DZ7sLUNBTTRC3ksKQSGPHlX/TCSkWUYgFViizuGAktIe4dUohxO8wKaqmIJZvCSMSxLUzhvnwW/5m3CX7wKsF3Xyb43iv4P3wd74UPcE5dwrqygJ5crQWXBJYQQtw6Ca3PyzSvBlgmibG6gnVlAdvKPNaVeazxJfREHC2fleIKIYS4AyS0hBBCNAwJLSGEEA1DQksIIUTDkNASDW9paYk//dM/JR6P1x8SQuwyElqi4WUyGT755BNyOVlYWIjdTkJLCCFEw5DQEkII0TAktIQQQjQMCS0hhBANQ0JLCCFEw5DQEkII0TAktIQQQjQMCS0hhBANQ0JLCCFEw5DQEkII0TAktIQQQjQMCS0hhBANQ0JLCCFEw5DQEkII0TAktIQQQjQMCS0hhBANQxkZGTFN06RSqXD23/bWHxdCCCF2jA2hFQwG648LIYQQO8am0MpkMvVthBBCiB1B5rSEEEI0DAktIYQQDUNCSwghRMOQ0BJCCNEwJLSEEEI0DAktIYQQDUNCSwghRMOQ0BJCCNEwJLSEEEI0DAktIYQQDUNCSwghRMOQ0BJCCNEwJLSEEEI0DAktsSXC4TCnTp3ixIkTaJqGYRicPHmS3l7Zw00IcfMktMSWsNvt3HfffRw7dgyHw4HH4+Hw4cO0trbWNxVCiBuS0BJbYmpqiunpaXK5HD6fj5aWFmZmZohGo/VNhRDihiS0xJbJZDIUCgXC4TCHDx/mzJkzjI+P1zcTQogbktASWyabzaJpGm1tbcRiMeLxOIVCob6ZEELckISW2DK5XA5d12lpaeH8+fOkUilM06xvJoQQNyShJbZMuVymUCiQSqWYnJwkl8vVNxFCiE8loSXuKkVRMAwDm82GYRjMz8/zyiuvUC6X65sKIcRnktASd5XNZmNkZIRHHnmEcDjMysoKi4uLMiwohLgtElririqXy8TjcfL5PBMTE4yOjkovSwhx2yS0xF1VKpVYWlri8uXLXLlyhbW1tfomQghx0yS0xF1VqVRIpVJMT09LYAkhPjcJLSGEEA1DQksIIUTDkNASQgjRMCS0hBBCNAwJLSGEEA1DQktsKV3XcblcKIpSf0gIIT6ThJbYUvv27eM3f/M3sVgs9YeEEOIzSWiJLaXrOm63W3paQojbIqEltpTNZiMQCNQ/LYQQN0VCS2wpVVWxWq31TwshxE2R0BJbKpPJMD8/X/+0EELcFAktIYQQDUNCSwhxx5gWnYIvSLpzDwVvAFOTKlFxZ0loiS0lhRi7W9lqI905wMoDT5Jp66OiG/VNhPhcJLTElpJCjN2tbLWT6hlkbegIBX8I5NYGcYdJaIktJYUYu1vFsJGNdKAUC+jJVbRspr6JEJ+LhJYQ4o6pWK3kIm0Ya1G0bBow65sI8blIaAkh7oiK1UbR7adsc2GNLmLJpuubCPG5SWjtIna7nZaWFgYHBxkYGMDlcqGqKqqq4nA46O3trT06OzsJBoMbzlcUBavVSnd3N3v27KGpqQnD+MVEuqIoBIPB2ms4HA5U9eqvkKqquFwu+vv76e3txe/3145dSwoxdq+S3UXBH8ZUVawr8+s9LSHuLC0SifwBgGmaOBwOisVifRvRAAzDYO/evfT09OB0OmlpacHj8ZDL5SgUCkQiEU6ePEkgECAcDuNyuSiXy0Sj0dpreDweent76erqwm63EwqFMAyDeDyOaZp0dnbS3d1NOBzG6XTS3t5OIpEgn88TCoUYGhrC4/Hg9/vxer2oqsra2tqG99nd3c3IyAg/+clPKJfLG46JxpYPREj2D5Np7SH87kvYFmdQi4X6ZkJ8Lps/CouG5PP5ePjhh+np6WF0dJRcLsdzzz3H0NAQNpuNlpYWhoeH8fv9OJ1ODMPANH8x36AoCnv27OGZZ55B13UmJyfZt28fTz31FB6PB1VV+eIXv8jQ0BDJZJLV1VV+67d+i97eXlwuFyMjIzz33HPMzs4Sj8c5evQojz766KbelhRi7F4ll5t8MIJaLmGNLqDlpAhD3HkSWruEaZq88cYbvPrqq8RiMaampmhtbcXv96PrOoVCgZdeeokf/vCHfP/73+eVV15hfHy8dr5hGHR1dTE4OMi7777LwsICsVgMu93OyMgILpeLo0ePks/nOX/+PPF4nGg0ysDAAIcOHaK9vZ1SqcTc3Bznz59H0zT6+voIhUKyovs9ouTwUnAHsMYW0XIZlIr0pMWdJ6G1S6ytrTE2Nsb09DS6rtPV1UUqlSKTyaBpGk6nE4/Hw7Fjx3jiiScYGRnZMF/l8Xjwer211yoWi6RSKQA6Oztr81v5fJ5MJkOhUCAajRIKhejq6sLtdpNIJCiVShQKBbLZLKqqEolEJLTuAaZFp+T2UnY4sS1Mo8iwoLhLJLR2iUKhQDKZpFKpEIlEGBkZ4Y033mBiYoJSqUQ6nWZpaYnl5WUMw2B4eJiTJ0/WzrfZbOi6Ti6Xo1QqYZomuVyOcrmM1+vF4/FQKpUoFotUKhUqlQrJZBKbzYbX68VisdRCDqid63a7a89Vv05HRwdPPfUUfr9/wzHRuIpOD0W3DzCxL0yhlmRuXNwdElq7iK7rNDU10dXVRTqd5pVXXuHKlSvkcjlmZ2c5f/48H3zwAaOjo/h8Ph5//PFNc07XznNdyzTN2uPzqFYZtre3y8oYu0jBF6LoCaAVCtjnr6CWSvVNhLgjJLR2CVVVCQQC9PX14fP5+NM//VOmpqZqvaPV1VWi0Wht3mltbY2WlhYURUFRFLLZLKVSCafTicViQVEUHA4HFouF1dVV1tbWsNlsWK1WVFVF0zR8Ph+5XI7V1VVKpRIej6f2fux2O7quk0wmN7zPTCbD+fPn+dM//VMWFhY2HBONq+APUfD4UPNZ7IszKCUZHhR3h4TWLuFwODh27BgOh4Pnn3+eYrFYuydqaGiIhx56CJ/Ph8Viwe12YxgGa2trVCoVTNNkdXWVlZUVisUiPp8PTdNwu92Ypsno6Cizs7MkEgkMw6gFWyQSYWZmhnPnzhGLxQgEAiiKgqZptdsnrly58rl7Z2LnK/jClO0uLKlV9EQcpVypbyLEHSH3ae0CiqJw/PhxTp06xYEDB9i3bx8PPfQQTzzxBLlcjmQySVtbGw8++CCqqjI0NITdbuf999/n0qVLsP7vXw2c6s3Bra2trKys8NZbb5HJZDAMA7fbTWtrK8FgkKamJl599VUmJibQNI1QKITdbmffvn1YrVYuXLjA+fPnqVR+cQFrbW2lt7eXN998U+7T2iVMVSV+6CEKwQiOmTG8Fz+qbyLEHSOhtUs4HA4ymQxLS0tEo1Hi8Tirq6uMjY2xsLBANpsFIB6Pk8lkmJ6e5sKFC6TTv1i1IJ/PE4vFqFQqJBIJVlZWGB8fZ25uDtM0SSQSpNNpcrkca2trTE9PMzo6SiKRoFAosLa2RjabJZ/PMzU1xdjYGIlE4pp3Cb29vRw6dIiXXnpJQms3UBRKngDxkeOYhg3P2BmcM5frWwlxxygjIyOmaZpUKhWCwSCZjNwQuBspilLbFqRYLH7qhxNVVbFYLJTL5U3BUu2NqapKobBx3kJRFHRdr1UXXtvDqjp16hTf+MY3+O/+u/9u0/mi8ZiKSqp3iPknv4lSLBD52Q/wXDpT30yIO0bmtO4RpmlSLpfJZDKfGlgAlUqFQqGwKbBYf53qvVj1TNOkUChQKpWuG1jIihi7j6qSa2qn7HChZxLYoov1LYS4oyS0hBC3zVQUspF2yroVSyqBvharbyLEHSWhJYS4fapGrqkNtZDDWIuhXKd3LsSdJKEltpRsTbJ7mBadosdPyeNHT62hr0aRTR/F3SahJbZUtRhENL6KbiXX1EbZsGGsRTESv9jmRoi7RUJLbCkpxNg9yoaVTEs3pkXHiC2t97SEuLsktIQQt6VitZNp7cJUwFhbQU9t3PBTiLtBQksIcesUhbLVTra5E2N1BUsqIftniS0hoSWEuGUVw0bRe7UIw7Y0hyWdBFljUmwBCS2xpXRdx+Fw1D8tGkzJ6SYfaqaiWbAvTF8NLSG2gISW2FJ2u51wOCy7GTe4ottHNtyGUiljX5zGkv3FBqBC3E0SWmJLpVIpZmZmZLuSBld0+8iHWrFkMhjRRbT81QWZhbjbJLTElqpUKtdd01A0DlPVKHr8FD1+7POTaPkc3GCtSSHuNAktIcQtKTk9FDwBTEXBMXMZVXYpFltIQmsXMQwDr9dLc3MzkUgEq9WKql79J1ZVtTafFAwGb1gMYbFYahs8ut1uNE2rHVMUBafTSTgcJhQKYRjGhte3Wq00NTURDodxOBzXnbeSQozGVwiEKfpCaMUCzpnLKIV8fRMh7hrZBHKXUFWVSCRCb28v/f39tLe3k8/nyeVylEol7HY7PT099PX10dzcjKqqJJPJDUN1hmEQDAYZHh6mra0Nu91OqVSq7bHmdDrp6emhv7+fcDiMaZpks1nK5TIOh4PW1lYGBweJRCJomkYul9u0hcnAwADHjh3j7//+72WYsEGl+vaT7N0P5TKRN19Ay2ZQZI5SbBHpae0SgUCAr371qxw6dIjz589TKpX49V//dUZGRnA4HAwNDfG7v/u7LC0toWkaDzzwAA899NCG1+jv7+drX/saHo+HyclJDh8+zJe//GXsdjsAzzzzDAcPHiSbzbK6usrv//7v09vbi2EYHDx4kN/4jd9gdnaWZDLJgw8+yFNPPbXh9ZFCjF0hH4hQcrgwkjEsa3G5qVhsKQmtXUJRFM6dO8eHH37IysoKs7Oz9PT0EAqFaGlpYf/+/SwvL7O2tsaVK1fQNI2HHnqoNoRnGAbd3d0cOHCAM2fOMDc3RyaTwe/3MzQ0hMPh4IEHHkBVVS5dukQ8HqdUKrFnzx72799PV1cXNpuN2dlZRkdHcTqdDAwMEAgENgwTSiFGY6sYVvL+EAC2pTkUUwowxNaS0Nol0uk0586d4+LFi1QqFVwuF6ZpYpomfr+fjo4O5ubmyOVyLC8vUyqV6O7urs1LOZ1OQqEQDoeDubk50uk0yWQSTdPo6+sjFAoRDAbJ5XJEo1Gy2SyxWIzW1lb6+/vx+/2k02kymQyrq6vk83lcLpfck7WbqCp5f5iS24+WzWBbmqlvIcRdJ6G1S2QyGZaXl0mn0wQCAYaHhzl37hyzs7NYrVbcbjerq6uUy2UymQzFYhGHw1ErmHA6ndhstto8lGmaZDIZKpUKwWCQQCBApVIhn89TLpepVCqsrq7icrlqRRmJRKL2fqpzXX6/f8P71HWdQCBQ672JxmEqCtnmTkpON3pqFdvSbH0TIe46Ca1dRFVVPB4PXV1ddHR08KMf/YgLFy6gqiqqqpLP56lUKpRKJUqlEoqioOt67TiwoRCnVCpRqVTQdR2LxUKxWKwN7VUqFQqFAqqqous6iqLUwq7+3GvZ7Xb6+vr4xje+QSh0dZhJNAhFJdvSRdnmQE+uYl1ZqG8hxF0nobWLuN1uBgcH6ejo4Hvf+x6XL1+mUChQLBYpFAr4fD40TcPhcGC326lUKqRSKcrlMrlcjkqlgtvtrg3nORwOdF0nlUqRTCZxOBy1DRw1TcPn81EoFGpViB6PZ8O5hmGQTqc3vMdUKsXHH3/M9773PWZn5ZN6IzHXQ0splzDWomiFXH0TIe46Ca1dwm63c+jQIdxuNz/72c+IRqMoioLH46FUKjE3N0dTUxMWi6UWTNU5LtM0SSQSxGIxKpUKXq8XTdNwu92YpsnY2Bjz8/Ok02msVisOhwOLxUI4HGZhYYFLly6xtrZWK7pQVRWHw0GpVNpUKVjtoSUSCSnIaCCmZqHk9lLwh7Gk1jBWV2RVd7Et5D6tXUBRFPbv388jjzxCT08PNpuNffv2cfToUUzTZGVlhWKxyL59+1hZWaGrqwuv18ulS5c4f/48pmlSLpex2+14PB5sNhsOh4Oenh7S6TRvv/028XicpqYmNE3Dbrfj8/nYs2cPP//5zxkfH8cwDFpaWkgkEnR1ddHU1MTs7CwffPDBhnBqbW2lt7eXN998U0KrgVRsdjLtvaweOIFzbgL35U8wZKdisQ12TGiZqkbRG6Rsd4ECaml73kcjUhSF3t5eAoEADocDj8eD3+8nHA4zNTXFpUuXSCQShEIhkskkLpeLaDTK+++/TzL5iy0l8vk8yWSSlpYWTNOkUCgwPj7O6OgopmmSTCbRdR2Xy0W5XCaRSPDBBx/UqhErlQpWqxWv18vS0hLnzp1jeXl5w3vt6upi3759vPbaaxJaDaTk9rE2dIR0xx48Fz/ENX5eFskV20IZGRkxTdOsVYlVVz/YUopC2eogdt9JKoYV59QlXBPn61uJO6C6ysWnfThRVRXDMGoFG/XHNE2rrXhRf0zX9dq9WJXrLKL6+OOP881vfpN/+k//Kfm8LP/TKLItXcw8+x2yzV20/+j/h//jN+SmYrEtdsycllIukeoeJD58P+mOvvrD4g6pLuv0aa4tba9XrT68XuBU56uqva7rkRUxGo+pqJQcLjLtvdhW5tATsgqG2D47I7RME6VUQE+tUbE5yEU6YL0EW9xZ1RuOP8untbvdY8iKGA2p5PKQC7VS0W3YZyawpNbqmwixZXZMMiimiXVpFi2XpeANUvD4MSW4hNh2RU+AXEsXAM65CfTML24iF2Kr7ahUsC/PoidilJwesi3dmJqlvolocLI1SeMpeANkI21o2RS2pVm07MZ774TYSjsqtKxLsxjxZco2B+mOfkzLxtUUROOr7ukl6xE2BlNVKfqCFHxh7AvTWFJrKJ8xJyrE3bSjQsuSTmCsrqBUyqQ7+6WntQtJIUZjKbr9FPxhUBRckxdRi5sLcITYSjsqtBTTxFhdwVhdIR9qpej2SW9rl5FCjMaSD7eSD0RQ81lcVy6gFjdu6inEVttRoQVgxFewLc1SsjvJNndStsn8hxDbJdfURsHjR0+tYZufQpGb/sU223Ghpa9Fa1sepDv3UHK665uIBiaFGI3DtOjkQi1UbA6ssSX0dALlBvffCbFVdl5oZZJYo/Oo+Szptl5KTg/IpP2uIYUYDUJRKDo95ANNKMUC9rlJWSBX7Ag7LrSoVLCkkzjnr5Bvars6ryUFGbuGFGI0BlPVyLRf/dBoJGLY56/UNxFiW+y80AIsmRTOyYuYQC7cSsEbqG8iGpQUYjQGU1HIdPRTtjvR41Fsy7L3mdgZdmRoaZkUzulLqKUi2aa2qyW3QoitoSiYukGmtRulVMK6uoyWSdW3EmJb7MzQKuaxLs+hJ2Lkg83k/U0yr3UTqtuGBAIBPB4P6voyWIqiYBgG4XC49ggEAjidzvqXwGKxEAwGaWpqwu12o2la7ZiiKDidTsLhMKFQCMMwal9DVVWsVitNTU2Ew2EcDsd1562kEGPnMy06RY+ffCCCnoxjRBdRZDhX7BA7MrSoVNDyOZyzE5QdHgqBCBWLUd9K1HE6nfT09HD48GEGBwex2WwAaJpGIBDg+PHjHDt2jKNHjzI8PExbW9uG8w3DIBQKceDAAQ4dOsSePXsIBoO18KluDHnw4EFGRkZob2/HarWiKAp2u5329nYOHDjAgQMH6OrqwuVybXh9pBCjIZStdtJtfZRtDmwrC1hjS/VNhNg2OzO01rcqcU5eRM1nyPtD5MIt9U1EHcMw6Orq4uGHH+bQoUO1Ho3dbqejo4OTJ0/S2dlJU1MTPp8Pi2VjgUt/fz9f+9rX8Hg8TE5OcvjwYb785S9jt9sBeOaZZzh48CDZbJbV1VV+//d/n97eXgzD4ODBg/zGb/wGs7OzJJNJHnzwQZ566qkNr48UYjSEks1BqmeIikXHujSDNS6hJXaOnR1a06NY0gkKgTDZtp76JqLO6uoqi4uLrK6uout6rTdjsVioVCq8//77vPrqq7z88su88847TE9P1841DIPu7m4OHDjAmTNnmJubI5PJ4Pf7GRoawuFw8MADD6CqKpcuXSIej1MqldizZw/79++nq6sLm83G7Owso6OjOJ1OBgYGCAQCG3pVUoixwykqZaebVPcAxmoU62oUtYF3KFYU5XP16t1uN4FA4LqjBuIXPs/P+Fbt3NAyTYz4CtboAmWrg0xLt2xV8hkKhQLpdHrT7tO6rmO1Wsnlcvj9fpqbm/F4PBt2L3Y6nYRCIRwOB3Nzc6TTaZLJJJqm0dfXRygUIhgMksvliEajZLNZYrEYra2t9Pf34/f7a197dXWVfD6Py+WSocAGU7I7yAUjFL1BHHMT6IlYw95QbLVa6e3txW633/LvoMVioampie7ubpqbm2ujDTuN2+2ms7OToaEh9u7dS0tLC1artb4ZXHMduNWfRZWu64RCIfbu3cvQ0BA9PT34/X5UVcXj8RAOh687T36n7dwUME3UYgH7wjRqsUAu3EbR5ZPgug2madZ2HPb5fAwODnLkyBEGBwdrbZxOJzabjVwuR6FQwDRNMpkMlUqFYDBIIBDYsKNxpVJhdXUVl8tVK8pIJH6xz1I2m6VcLuP3+2vPsf6LHwgEar03sbMUvUGyrT2Yqobryih6crW+SUPQdR2Px7Nh3vVWVIfaA4EAmqbtyNEBVVVpbW2ltbWVYDBIKBSit7cXj8ezoYCqyufzEQ6HsVgst/zzUBQFt9tNT08PoVCIQCBAa2trLSQNw6ClpYVAIFArzrpb7u6r3wGOuUmM+DIlj4901x5ZQPc25HI55ubm+Oijj3jxxRc5f/487e3tfP3rX6/98lZ/0a7tfZVKJSqVCrquY7FYKBaLtT/eSqVCoVBAVdXaUGQ17OrPvZbdbqevr49vfOMbhEKhDcfEdlPI+8NkWnvQcjkcM5expBtzw8fqyEEsFiOXy2GaJpqmYRhXC7oURUHX9Q3D6FWqqmKz2WhqamJlZYXp6WkSiQS6rmMYBjabDV3XUVUVVVVrz1Wfr76epmm13o3NZsNut9e+ptVqxW63Y7PZ0DRt03v4LNX3393dTS6X49133+XMmTP4fD6CweCmnqGu63R2drJ3716cTieqqqIoChaLpfZerFbrDd+Lpmn4/X66uro4d+4c77zzDqurq4TDYdxuN7FYDKvVitfrvWFP707Z8aFlX5zGGl24OjncN0xFQuuWpdNpZmdnWVxcpFgscuXKFeLxOJ2dnbVf3lwuR6VSwe12135pHQ4Huq6TSqVIJpM4HI7aL6Smafh8PgqFAslkknK5jMfj2XCuYRik0xs3DEylUnz88cd873vfY3ZWbljdSUxNoxCIkPc34ZwZw5JOoOzAHsbN8Hq9NDc3c+XKFQqFApqm0d7ezn333Ve74A8MDDA0NLTpAu/z+dizZw+BQIC9e/eyZ88eurq66O3t5dChQzzyyCPs378fn8+Hy+XiyJEjPPLII5w6dYp9+/bhcrlQFIXm5mYGBwc5evQop06d4oknnmBwcJA9e/Zw5MgRnnjiCU6ePElTU9OmD3efRVm/jaU6+lEoFCgWiySTSVRV3VRktX//fnp6eohEItx33314vV4Mw6Cjo4MTJ07w2GOPcfLkSdra2mrBfi1N01BVlWKxSC6Xo1Qqkc1myefztZ9fNBpF0zSam5vrT7+jdnxoqbks1ugClnSCVNcAZbsT8zqfBMSNRSIRDh06hNPpRFGU2ieq6idQ0zRJJBLEYjEqlQperxdN03C73ZimydjYGPPz86TTaaxWKw6HA4vFQjgcZmFhgUuXLrG2tlYrulBVFYfDQalU2lQpWO2hJRKJHTnkci/LB5vJhZpRKmXcl8+iFXJA41V56rqO3W7HYrGQTqdrxT+VSgXDMGhubq4NTycSCfL5jXuEpVIpZmdnSaVSTE1NMTMzQyaTqc3Rzs7OMjs7i67r9Pb2AjA6OsqlS5dQVZX9+/ejaRp2ux2Px0OhUODcuXOcP3+e1tZWAoEAy8vLnD17lmw2SyQSwe2+tYXBTdOsVfF6vV727dtHb28vNpuNZDJJNruxeGZycpL5+Xni8ThjY2Ok02na29sJBALE43E+/vhjZmZm6OjooLW1dVNvq1gskkqlSKVSDAwMsHfvXsLhMJVKpXbdWFtbQ1VVAoG7u4LRjg8txaxgjS5iW56j4A2Sa2qjItuVXJff76+NMzc3N9PR0YHL5cIwDNrb23nyyScZGhpiaGgIRVF46623aoGSz+eZnJzkwoULnDhxggMHDuDxeFhZWeHSpUukUineffddrFYrR48epbe3l2KxyNjYGKOjo0xNTZFKpThw4AAPPPAAxWKRixcvsrq6KuXtDSLb3EE+2Iwlm8I1/glKoTE3fDQMA03TasPZ1Q9mqVSKtbU1hoaGCIfDJJNJotHopg9P1Q9V+XyetbU1EolEbSg8l8uxuLhILBarDSHOz88zNzfH/Pw8mUwGn89XG6WoVCqkUinm5+eZmZnBMAxKpRJLS0u1EKkOE15L13WcTic+n2/Dw+v1YrfbMU2zFsRWqxWPx1P7Wy+Xy5TqdpdeXV0llUqRzWaJRqMUCgUikQiapjE3N8fc3BwzMzNYLBY8Hs+mIb7q1wPweDx4PB4cDgeqqlIoXN1jLZ1Oo6rqXS/G2PGhBWCNLeGYm8S06KQ6915d+V1sUh0uWF5eZmlpCYvFgsViIZVKEY1GCYfDBINBbDYbk5OTvPLKK7VAMU2TyclJXn31VTweD8FgkKWlJc6ePcvCwgKVSoXXXnuN+fl5fD4fhmHwwQcfMDExwdLSEmNjY7z//vsEg0HC4TBjY2O8++67tV9osbOZqkq2uZOi24cRX8a2NIta3njhaxTV0Kr/3cvlcmQyGbq6uigWi8RiMZLJ5IY2n6ZcLpNIJGpFRtVgWVpaolAo1F6/XC7X5o2qz5fLZfL5PMVikUwmUytyymQyqKq6qXDCMAwCgQAtLS0bHtWVahRFqQ3B53I5VlZWWF1dJZfL4XA4NoXg9bhcLorFImtra5imSTqdrg2l1p9vsViw2+2oqko0GiUWi5FKpVAUpTYtUJ0Pv9WhzlvVEKGlJ+LYFqZRCwXSPYMU3V5Z1uk6FhcXeemll/if/+f/mT/+4z+uTZZGo1Fef/11/pf/5X/ho48+4oUXXuCFF15gampqw/mxWIx33nmHv/zLv+TnP/85P/7xj3nnnXdqwTY2NsZPfvITnn/+ed544w3+03/6TywvL2OaJtPT0zz//PO8+uqrPP/88/z0pz/l0qVLG16f9Unu+j9Qsc0UhbLNSS7SDoqKY/7K1R2KG7SHfL2efXUOyOVyUSgUWFtb2zQseKvM9apcrrkf7NrH52GxWHA4HLVeTfXhcrlqw/uBQACLxcLi4iKXLl1icnKSaDSKz+e7qeHG6nuv/ryq7/l679/hcNRC7vLly4yNjTE7O0uxWKS1tRVN06hUKpimuencO60hQkuplNFTqzhmxsg2tVPwBKnIdiW3pNq9T6VSGyoEr6c6uVs/bFI9ViqVrvsHX52vqlYOXo/L5aK9vf2u/2KLm2eqKunOfooeP8baCo7pzR82Gkl1WPDaggKbzVYbOn/nnXcIhUL4fL4N592qfD5PKpWitbUVwzAwDKN268ja2tqmIbpbkUgkGB8f58MPP9zwOHv2LHNzc7D+fWrrFYrVoDEMY0OY1rs2VNbW1rBYLLW56GowVYc0r1UNpGt/phaLpTYMy3rvkPXh1bupIUILwJJO4B4/B4pCrrlTVn6/DdVf5ut9Eq1nrs8DXM/tHmP9/q1q70zsDKaqkeoepGR3Y8SWsc9v7IE3mmp1W7VHYrFY6OrqwufzcfnyZWZmZigUCrhcrpvqkdxIPB5nenqazs5ODh06xLFjxwgGg1y+fLlW5HS7TNOkWCxSKBQ2PKqBXC6XicfjJJNJWlpaOHHiRK0qMBqNXnfYM5PJoOs6Bw8exOfzMTs7S7lcZnBwkPvvv59jx46RSCRYXFzcFLjVoo9iscjRo0c5ceIEPT1XVymam5ujVCrhdDprQ6h3kxaJRP6A9R+Sw+H4zE/h20WpmCjlEomhI7A+z2Vbma9vJna4aoHIm2++ed2enNhapqJQtrtYeuhLmBYL7suf4B7/pKFXda9ey1wuF+l0mmKxWJvbXVxcJJPJYK4XZmSz2U0X6KpyuVxb/aVcLlNcr6Cr3uJRHZFgvXeRz+eJx+MsLCzUns9kMqRSKXK5XO11Y7EY6XS69gEvl8tdt4rxs1TfQ7FYpFgsks/nicViLC4ubqoepG4kJB6Pk0qlaqMihUKBbDbLwsJCbYm2+nNLpVItNAvrt7qsrKzUqgdbW1uxWCzEYrG7GlzKyMiIWf0EHgwGNy0BtGMoCiWnh/Fv/xNKLi+hd18m/OYLDXsfyb3q6NGjPPnkk/xP/9P/dNeHEcRnq1jtZFq7mPjV38MxP0XorRfxXvigvlnD8Xq9tLa2YrPZuHjx4l2/rmmaVguhz9PDul3VeeLP+iCorN9QXCqVau9TURS09VU/bua9K+u3tVRzo3r+8PAwuVyOK1euXDc075SGGR7ENFEKeVyTF6gYBvlwMyXH7XftxfaQQoydpeRwkegfoaLbsM9PYYvujtGLVCrF0tISwWCwNudzN1V7PTdz0b8bqkOGn6U67Pj/b+/OYtu60gSP/+/lvdxJkaJI7TK1S5Zl2ZKXOHFSTiWVTHVNV6c6KaCBGgy60IXqt0a/VD8M+mHeB4N+H2Ae+m3QQKZ7enqdVKUSJ7GzObEdx/Ii2bIly5bEfb0k7zIPFBmL3hVvIs8PYGTxnkPSNHM/nnO++53bX6dlWVuC2INYt6Xb17jdbgzDIJ/PP9GAxY4KWoBs6viuzKPmsmihbvJ9I41NhOecSMR4vuheP5nJOWSjgmvtOvbERmOTHam2tvLNN99QLpfF5+0JkySJpaUl1tbWGg89djsqaEmGiWt1CXtinYovQH7XmEh932FEIsbzQ3d50cI9lEKdeK4vYE9sIO3Qa7PuRtd1EokE5dtqYgpPRu3as6eRE7GjghaWiVLM41q9iqRXKHb1U24LicrvO0hl8+JK4dkrB8Pk+0YwZQXfwjnUVLyxyY5Wmwp72LUaYXue9vu8A8/2Fp7lBRzJjer/dLvGsJQ7CzwKgnBvliRRCndT6BtCzabwrCygFrdemyMIz6MdGLTAfXMJ59oKhsNNenwWw/5kS+ELj49IxHg+mA4XWriHcrAD7/WLqKk4UkVkcwrPvx0ZtGxaEef6DdRMkuzwJLq3DUtUyNgRRCLG86HQHaXY2Y9NK9J2/hRy+bvriAThebYjgxaWhXNjFc/KAobLS25wkoooorsjiESM54AkURgYoRTqRE3F8C5dqNYaFIQdYGcGLcCR2sC9sohUKZMZmabS9mT3cBEeD5GI8YxJEhWPn2L3AJYs415dQs2lke5Rq04Qnjc7NmjZCnmcGzdxxm5S6B2k3N6JKda2BOG+LFmm2DtIKdSFmsvgXboIImAJO8iODVpgoebS+C+exnR5KHYPUG4LNTZqKbVttu12+x1VAGqlVhwOR32/obuRZRm73Y7D4UBRlDvWnhRFqT+GLMv147XSLg6Ho16o9G5EIsazZSkqmdG9VDx+nLGbeJYXGpsIwnNtBwctUHIp2i6fQdaK5PtGqvsBtTCv18vg4CD79u1jbGxsy0ZuiqIQiUQ4fPgwBw4coLe3d0tfNgOPx+Nhbm6Ol156iaGhIVwuV/24LMsMDAxw+PBhDh06RCAQqAcgRVHo6OjgyJEjHD58mN7e3rsGJ5GI8exYkozhcJMdnsJW1nDeWkYp3FkNXBCeZzs6aMmGjj0Vw71yhXIgRLGzv6WnCO12O9FolKNHjzIzM1MPOC6Xi9HRUX75y1+Sy+Vwu93Mzc1x4MCBLf0HBwd54403CIVCxGIx9u/fz+uvv14PfseOHWPv3r1YlkWpVOLP//zPGRgYwG63Mzk5yTvvvEMqlULXdQ4fPszLL7+85fERiRjPlOHxkRnZQ8UXwHXzGq61ZTE1KOw4OzpoYZrIWhH/4jdIpoHW2d/So61isYimadjtdoLBYH2k09HRwe7du2lrayORSLC+vk57ezsvvvhiva+iKESjUQ4fPszy8jIrKys4HA6Gh4eJRqM4HA6OHj2K3+9neXmZZDLJwMAAo6OjRKNRRkZGiEaj3Lhxg6WlJbq6upiZmalvDV4jEjGeEUmi4g+S2nMIyQL38hUcG9XNBAVhJ9nZQQuQDB3vlW+xJzcohTrJDu6GFi3rlM/nicfjJJPJLfd3dHQwNDTEtWvXKBQK3LhxA13XmZqaqq99ud1uuru76ezs5PLly6RSKdLpNKqqMjY2RjAYZHBwkFKpxI0bN8jlciQSCQYGBpicnCQcDqNpGslkktXVVQzDIBwOEw6LzTqfB4bDhRbuJh+dwBG7hevWddT8k9vzSBCelB1/dpdME9faCq5b1zGcbnKDExgOV8sGrrtxu90Eg0Hi8Ti6rtcLW/r9flwuF7Is4/V68Xg8lEolNE3DNM36Znnd3d1EIhGszQ3ranXG4vF4fd8il8tFKpWqP2ehUMA0TTo6OraMtGqJHn6//65rXsKTUWrvJLdrAkO10zZ/CkdyA8QUrbADNceZ3bLwXZnHuXGDUnsnmbF9mGrrrm01qm05XiwW67utlstlZFmuBy1VVWFzq/KaUqmEYRg4nU4cDkd911M2dzItFouoqorD4UCSpC1bjNfaOhxb/x28Xi8zMzP8xV/8xV2TQYQnQJIodvWTHZpCLWTxLZxFzW4djQvCTtEcQQtw31jEtbqE6XCSnH4Bw+EERIYam1s0VCoVvF4vsizjdDpxOp0YhkGhUKhvn21tblNe43Q6URSFQqFAPp+vp7qzGQh9Pl99jco0TTweT31U5XQ6UVV1SxBkc91tcXGRd999l1gstuWY8GSUghGKPVFMu52286dQs6mm2oJEaC1NE7SUfBb3zWvY4+vke4coRvo3A5eQy+XY2Nigo6MDRVHwer3YbDbi8TjFYhHLsshms2QymfpUYe0nwPLyMhsbG1QqlS3XcHV0dBCLxbh27Rq5XI5gMAibU4AulwvLslhbW9uSKVipVEgkEszPz4uEjKckPzBCsXsXipYncO5zbFpBTA0KO1bTBC0sC+etZbxL8xgeL9mxvVT81ZNoq3C73bS1tdVvwWAQh8NBLBbj8uXLhEIhIpEIg4ODSJLE2bNn63vg1BI0VldXmZiYoL+/H7/fTy6X49KlSyQSCRYWFnA4HIyMjBAOh7Hb7SwtLXHx4kVu3qxu097f38/Q0BCSJHHz5s07gpbwFEkShtNNftc4FX8Q561lPCsLyPqT36hPEJ4UW2dn539lcyMvt9v9VHaefFJspQLIMpnRfZSDYdwriziSG0gtctLs7u5mcnKS0dFR3G53PZMwFotRLBbZu3cvuq4zPDxMsVjkww8/rCdP1K69KpVKzM3N4fP5cDqdLC0tcerUKUzTJJvNEg6HiUaj9WnE48ePs7KyApvrVZ2dnYyNjZFMJvn666+5cePGltfY19fHyMgIJ06cwDCMLceEx8uy2Sj0DJKcfQXJMAie+1xUwBB2PGl6etqyLAvTNAmFQjt+ykYL97B+9A9IzrxI5/F/ov3rj7AnNxqbNaVamaZaGrumaZTLZUzTxGaz4fF4UBQF0zQpl8v1RIua20s4ybJcT9qorUupqrqlRFQtE9EwDBRFqa9jWZaFruuUy2XK5a3Vw3/4wx/y85//nL/8y7+kVCptOSY8XqbdyerrPyc1/QK+y2fpfv9d7CmxjijsbM0zPbhJzaYInPscuaSRi45T6B5obNK0aokV6XSaVCpVT12vHctkMqTTaTKZTD3Y3M40TTRNq7fLZrNbEikqlQr5fH7L8dpj6LpOLperP34+n78jYCEqYjw1pqJSCobJjkyhFLK4V6+i5tKNzQRhx2m6oCWXNFy3rldLOwXDFPqG0cVeW3WGYdQD2b3URt73avcwx+4VlERFjKdD9/jJTM5Wp8lvXMF94yqSWMsSmkDTBS3JMrEV87TNn0IydAq9QxT6hhubCULTMhWVUkc3yalD2LQCnmsXccZEySahOTRd0GKzkG5g/hTOtRW0cA+p3XOYigqisvgzJ7YmefIq/mA1zb0nivfKPK7VJWzFfGMzQdiRmjJoYVkoxRy+hW9QsykKfcPkd41VA5fwTImtSZ4wSaLQN0xqYg5ZK9B++iMcifXGVoKwYzVn0KJaAd63eB7PyiIVj5/4gWMYLo8YbT1jIhHjySq1d5LvH0H3ttE2/xXOjZvI5a1VSQRhJ2veoAXY0zE81y/jSG6QG5yk0DuE4fQ0NhOeIpGI8QRJErmhSQr9wyjFHO1nT6Dksy1znaLQGpo6aEmGgevGVXwL59CdbtKTc5QCHWK0JTQfWabibyc7NEXF48d9YxHv0gVk/c7LDgRhJ2vqoAXgiK/hu/It9nSS1OQsWle/qAD/DIlEjCfDtClkxvZS7B7AkYzRduFr5HJJ1BgUmk7TBy3JMrEn1gl9+QHYFLIje1rqguPnjUjEeAJkGcPpJr7/ZXSXF/fKAt4r842tBKEpNH3QAlDyGdouncYRu0m+f5T84CSmXVSAfxZEIsbjV/EFSE4fQQv34Ll+Ce/SRWwi+UJoUi0RtGS9gj25Ttv5L0CC3K5x8rtGG5sJT4FIxHi8TLuDYqSP5MyL2CoVfAvf4rp5TUwLCk2rJYIWgFSpEDj/Jc5b1ymFOklNzmG4vVhimkrYwcrtEbJDu6sXEl+dx3P9Emq2WrlfEJpR6wQty8S5vopv4RxyuURuaIpc/wiWXSRlCDuTqajkdo2TnjqIUsgQ+vJ9nPG1xmaC0FRaJmjVBC58hW/hGyq+AGvH3qLi8YPccm+D0AQK/SNkh6cwVTvtX31cvZC4IrZ7EZpbU20C+TBkvQyShO7xkR8YQdEKqKkEitY6tdl6enqIRqP09vbS3d1NJBKhUqlQLBZRFIVgMMj4+DiRSASAfP6796a9vZ3BwUEGBqoZmOVyub49id1ur2/y6PP50HX9jj2zRkZGOHToEO+9994dW6MID0mS0F1eYod/RD46gXP9Bp0f/RNqJol0j+r7gtAsWi5oSZaFXNKQkMj3j1AOhHAkN7BnEi2zDfmBAweYmprC4/HQ3t6Oy+UimUyiaRrd3d288cYbpNNp2tra6OrqQlEUEokEvb297Nmzh2AwSKlU4uDBg+TzeYrFIk6nk5GREfbt20cmk6Gnp4fOzk4ymcyWPbn6+/sZGRnh/fffF0Frm0zVTmr6MKm9R5C1AsGzJ/AtnEMyxfspNL+WnBdTc2k8Sxdou/g1pY6u6kWZnX0tM00YCoXw+/2k0+n6hpGlUolAIMDu3bs5cOAA8XicXC5HNBrl6NGjSJLE7OwsY2NjWJbF6uoqY2Nj7Nu3j46ODrq6ujh8+DCdnZ3cvHkTu93Onj17mJyc3HJNlqZpJBKJLa9HeHim3YEW6SMx+wqG3YFvaR7/pTNIlhhhCa2hNc7Sd+FIxQif+DccsXUyozNkxmfRHe7GZk1HkiQSiQTnz5/nk08+4dNPP+XLL78kFovR2dnJ7t27WVhYIJPJsLS0RLlc5uDBg8iyzMGDBwG4evUquVyOb7/9lvHx8fo048zMDGfOnCGdTrOysoKu6/W+wvdnSRLlYJjE7CsUuqN4Vq7gu3QWe1p8CRBaR8ueTSRDx56KE/7sPZRClszoNKmZI43Nmo6qqrhcLkZGRnjrrbf41a9+xczMDF6vF4/HQygUIpFIoOs6uVwOXdcJBAK43W66uroAyOVyGIZBPB4nGAze0bd2LZZpmkQiEVH94jHRvW1kByeJz72Mmo4TOHsSz/JCYzNBaGotG7SwLGS9gv/SaXyL5zDtdlJTh8hFxzFVe2PrprK6usrp06f5/PPPOXfuHH/4h3/I3NwcbrcbVVXJ5/OYpkm5XKZUKmGz2fB4PDidTgzDoFQqYRgG+Xweu92OqqooioKqqhQKBQzDqCdouN3uLUHL7XYzOTnJL3/5y3oQFB7MVFSyI3tI7D+KpOtETv477htXWmYdVhBqWjdoAVgmaiZJ4PyXuG9cRQt1ETv4Q8rtEawm3TDSMAyuXbvG/Pw8S0tLnDlzhs7OTvr7+/F4PJimid1uR5IkFEVBURTYzBLUdR1ZllEUBVmWsdvtmKaJaZoYhlHvWyuKK8syuq5veX7TNMnlcqysrFAuiwrkD0WSyEUnSU8eoOINEDj3Ob7LZ1FzGVH5Qmg5rR20NnmWF2mb/wp7coP01EHSE3OU20JNWS2jFphqo6V4PI5hGPVRVCqVIhQKoSgKHo8Hh8NBNpsln88Ti8WQZRmv14vNZiMUCpFOpykUCmiaRjqdpr29vd7XZrMRi8W21BnUNI3l5WXee+89kZDxECxZRgt1kZx+gWLXAK61ZUJffoA9k0Qytn4hEIRWIIIWIOkVfFe+pePL3yNVKqy/8CbZod3VnY6bTF9fH1NTU+zatQuXy0UwGERRlProZ2lpiY6OjvoaFcDCwgLlcplLly5RqVQIhUJ4PB66urpYXl4mFouRSCRYXFykq6sLr9dLIBDANE0uXryIKa4d2hZLkjDcPuIHfkBuZAollyJ49lM8K4tIYlpQaFEtd53WvciGjq2YRynmyA3vphSKYCsVcd26TjONt+x2Oy+99BJ79uzB6/XywgsvcOvWLb744gsuX75MsVjk0KFDmKbJ1NQUNpuN3//+96ytrZFIJBgYGGB4eBiv18v09DTvvfdePduwWCzygx/8AEVRGBoaQtM0fve73225OLmnp4ehoSFOnjwprtN6AN3fTmrqIBsv/hhbuUjo9McEz5xAFiMsoYVJ09PTlmVZmKZJKBRq6QrclqJS9rez9sp/JDc8hT2+RsepDwic+7xp1g6cTifd3d243W40TUOSJMrlMvF4nEKhgMvlIhqNomkaiqKgaRrxeJx8Po/D4SASieByudB1HafTyfLyMvl8HkmS8Hq99Pb21vsWi0Vu3ry5ZV3rlVde4e233+Y3v/mNWNO6j4o/SGZ8H2tH/wDT6SF84t8InPsMR2K9aT6LgrAdImg1sGSZQv8oG0feoNA9gHN9lciJf8O9sohcaY6TrCRJ2Gw2FEWhXC7fdfpOVdV6ckWjWjLGvYLO/foePXqUn/70p/z1X//1Pfu3Ot3jIz0xS2LfUYrdA4S++ID20x/j3LghyjQJLU+saTWQTBPP9UsEzp7EGVuj0DNI7MCrFLt3YTTJxpGWZaHrOpqm3TWwsLnv1b2OmZvp8Pdyv76iIsZ9SBKG0012eIrU3hfQwj34L56m49QHOGM3RcASBBG07sGyaLvwFe1fHceeSZCaOUJ87hhaZ1/TpsILz5gkY9qdFPpH2DjyJvneYbxLl+j+3f/GnlgXmYKCsEkErXuQTBPf4jd0fvh/cKyvktx7hPih18j3DjU2FYTvzXC6yA1OsPKT/0Sxs5+2+VN0fvSP2FMbohCuINxGBK37sJU0PMuL9Pz273CtLZONThA79EOyo9PQhNdwPQ1ut5vu7u7Gu1tapS1EauogN197m4q/nfYzJwh99SHOjVUxJSgIDUTQuh/LQilk8S1+S8dn7+FIblDoHSY2d4z0xH4Mh0sEr0dUu7BZqNLC3SSnD5OYfYVyIETwzAmCpz/BvXoNuSzeJ0FoJILWg2zuvxX45lPav/4IR2qD/MAoG0feJDuyh4o3gCWJt/FhiUSMasKFpagUO/tJTb9Acu8RyoEO2uZPEa7VFCwVG3sJgiCC1sOTdZ3gmROET/47rlvXye0a5+arb5MZ24fu9WOJ7TeEhyHJmHYHpY4u1l/6MbFDr6O7fQTOfU7P//s7nLGbogiuINyHONM+Ask08F45T/dv3yV06gMq7R3cfP1t1o/+hHKwujW9INyP7nSTGdvHtZ/9muTMi6iZFJGP/pnO4/8XpZADsYYlCPclyjg9Isk0sGlFnIl1bPks5UCYYu8QWqQHyQI1k0JuqGwufGdkZIRDhw7x3nvvtVYZJ0km3z9C4uCrxOd+QCUQInDhK0Jf/h7/lfOouTSI3YcF4YFE0NoGyTRQCjnUTBJbqYjh9lLs6qfU0Y3h8iAbFWStKGrE3UV/fz8jIyO8//77LRG0TEWlHOggvfsAyekXyA1OABA4/wXBM9VNHJVcGhClmQThYYigtW0WSjGPM3ELJZ/FsDvRugYo9A1iOlwgbY7KylpTFdz9viKRCN3d3U1fMNeyKVT8QYp9g6TH9xM/eIxyqAt7Kkbw2y8Iffl7nGs3mqY0mCA8LSJofU+yXsEZv7W5i6xOsbOf3PAUxd4opk3Bnk4gWRaSaSKJb9PNXeVdkrBkG6bdSTlYHV3FXvgRyekjINtou3CK8Mn/R+Cbz1C0gvg8CMI2iKD1mMilEq616/iWLoBpooV7yI5Mk949h+FwoRRy2Iq5lr9YtJmDlqmolNsjxA+8ytqxPyK15zCm3Yl/8Rw9//6/CJz7AmdiTVS4EITvQQStx0TCQtare3I5Y7dwbayilIqUQl1oXQPkd42idfZjqnaUYh5JryC14BYTTZeIIUmU2jvJjs0QnztG/PBr5IanQJLwXZmn49QHBM9+inNtefNLSxP8nQXhGRJB6zGrJmlksafj2FMx7JkEkmFQCYTQIr1o4R5KkV4qgRCGw4VkWciVUssEsJ2fiFGtxF4OdZLvHyYzsZ/05ByZsX1oPVEsScazskjbhdO0XfgK79IFHIl1ZEMXa5uC8BiIoPU99fX14Xa7yeVyW+6X9QpqJonnxlUc8TVsWgFLtlEJdJDvG0brHqAc6ED3+DDdXgynG8vuAEmqr4E1o97eXgYHBzl+/PiOCFqWomI43VS8AcrBMFpXH/mBUbIje0hPzJIZ30851IlkGLjWb9A2f4r2Mx/jX/gGR/zW90q08Hq9DA4Okslk7rnViyC0mucqaLndbmRZ3tbJzO12Y7PZtuyS+7C+T9+f/vSnhMNhLl682HioyrJQc2k8ywv4li7gXF9BMk3KwQ6IjqKN7yM+PI3WPUDF24al2r/ralOwbArINpAlsKrTkAAulwtFUbb1ml0uF6qqbquv0+ncdl+A8fFxjhw5wr/+678+8r+zqqrb/oyqqorH47mzryRVq5nYbNX3W7Vj2h2Ydmd1RBUMY/QNwcQMa1MvEDv4Kqk9h8n3j6B7fDiSG9XyS1+8T+iL9/EtzaPmMkibf7fa8+q6jvWIo+nh4WF+8YtfcOrUKTRNazx8X4qi4PV6qVQqj/y836evzWbD5/Ntq+/tVFXF5XLhdDrRdR2Px4PNZsOyrO/1uMLO91wFrXfeeYf29nauXr3aeOiBfvazn9HR0bGtvm+99RZdXV0sLi42HnqgvXv3Ui6X7x20biPrFdRUHN+1iwS+/YL/vKuDEbed87diFHui5PtHyUzuJzl9mPTkLIWeIcod3ei+NkzVAZZZn0r8yU9+QjQa5fLly41P80A//vGPGRoa4tKlS42HHujNN99kdHT0of6+dzM0NMSePXv4l3/5l0cOWlNTU/zxH/8xp0+ffuS+ExMTvPPOO5w5c6YecC1JwrI7qPiDlDq6KfYMkh2aJD15gMTcK2y8+B+IHXqN6JGX+eXLh/lAbcfIZ/AuzRP6+iM6P/pnOr54H9/VCziSG3cdVY2MjPCLX/yCs2fP3nfjzLsJh8NMT09z8uTJRw5a0WiUP/3TP+Xbb7+lWHy0Ooa7du3iz/7sz7bVt7+/n1//+tfMz8+Tz+cbDz+0sbEx3nzzTY4ePcqlS5f4kz/5EyKRCPl8nkwm09hcaCHS9PS0ZVkWpmkSCoUoFAqNbZ6IN954g4GBgS33zc7Oks1mt3Uinp2dJZfLbetEvG/fPorF4rZOxDMzM5TLZebn5xsP3ZclyUzv24fmcHHmZgzd5cF0uDDsDixFxUICQ8eml7FVysjlElJZQ9YrSHqF/YMDWHqFbxaugGkiWyaYZnVtzDQBC8kywbTAsqrrKZvfUPfsngALzs1faHxZ1ZGHJGFZ1mYBe2nzvuqxPaNj2BQbZ+YvbB6rtak/QL3yff0b8W2LOaO7Bjg4tZvPvjzFjUQK7fY6exZI9ar5VvVmfde5JxJmfDDKR19+hX5b0LKoPUftub97vUgyFhI9kTAT0QGOf3OesmlWixxvjmRNRcFS7JiKiqnaMVU7ls2GKduQLYs+p8JswMP7i9fRcxmUYh5bIYtSzFcD1X2++UciEfbs2cMnn3zyyNXtbw9ajxo8Ojo62LdvHydOnHjk/6fb29uZm5vjk08+2VbfAwcOcOLEiS1T5oZh8A//8A8kk8kt7e/F7/dz7NgxXnrpJX7729+ytrZGLBYjlUo98msSmsszC1qzs7OEw+Et97W1taHr+ra+oX3fvoZh3LEu9TD8fj+maW67r2VZZDf7WoqKqajVn7bqT8PlRnd5MdweDKcHw+nGVFV8bjeWYidpmPV1MCwTyaJaDshqCFa3nVj9Xg8Amdxd3qvbt1qpBZ/a9USSjN/tQpIk0oXaSbQhYN3e/i6pB9NBDy9HAvzjWpb1XJ6yfvuI6c6Tv3TbYzhVBa/TQTybr7esPtdmm9sD12bgZbMCv8sm4bdJJPIFLF1HMnSkSgVZryCXi9hKGrZSEZtWQC4WkPUykq4jmwYuGfx2lUQigWVuvrcPyeFw4PV6SaVSjzw6dDgc+Hw+ksnkI/e12+34/f5t921rayORSGy7bzKZ3DKFbFnWHYHsQY4cOcJrr73GmTNn+PDDD8UIS4BnGbSEhyDJ6B4fFW8bFV8A3duG7vajezwYLm81iDkcWKoDy2bDkm1YkowlSyDbsDZHGshS9TwryXeLI9+xqqObaqD77vfanyXptgBYC4pSQ9vN9lufZvMxgFd6QvxRtJv/8tl5SsZtyQVbguVd4kLjvmVW9T+SVGt822uC6mjTqo42JdNEMnTkShm5rCGXS8hlrRqotCK2Yq56HV0+g1rIYstnN+tHNr4I4Wmx2WzMzs5y5MgRVlZWOH78OIlEQiSkCCJo7XiyjKnaMRwuDIcL0+7EVNVqQoFix1KUzWAmYcnKZl3/huBVO9lbgGXUpxir04tG9X6jer9kGt8dM4xqYsjmtKRUH+FtTlPWbmw+NhaHZvbyo6Mv8d/+x/+kXFsD2pySrNuc0vvu99ro6bu76oEUa3MK1EAyqq9LMg2kzdGUrFfqr1l4/kmShNvtxuPxMD4+ztzcHF6vl7//+7/n6tWrFItFkYjR4kTQagbSZk6hJH83NXbbsc0/NAx/GiNA46+33dfw+71GUfXfb/vR6MDcHD96/TX++9/8DeXyfZJ+7joivMdrrv/xu+eujwq57afw3JNlmV/96lfIssz58+cpFov81V/9Fe+++y7Hjx9ndXW1sYvQYkTQEp6qV155hbfffpvf/OY3j5xNJzQ/SZIYHR3Fsizi8Ti6rjM1NcXKygqxWOyRE1KE5iM2gRSeKtM0HzmLTmgdlmWxuLjI4uIiiUSCbDbLZ599xsrKighYAoig9fjIsozT6SQUChEOhwmHw7S3t+NyuZBl8TbXaJpGIpFovFu4TS3zr/Y5CofD+Hw+VFVtbNqUDMOoJ1zUZoHEOpZQ81xdXLyT2e12ent72b17NwMDA/T09BAMBimVShQKBZH1tCkcDtPV1cWpU6fEe3IPoVCI4eFhRkdH6enpoaenB4BisShGqULLE0OAx8Tr9TIzM8PExAR9fX1EIhGCwaD4htjg/Pnz/O3f/u22y0C1gmg0ytTUFENDQ0QiESKRCA6HQ3yWBEEkYjw+kUiEN954gwsXLpBIJNB1nUqlQjKZpFwui1GF8NBeffVVVFXl2rVr9XWcdDpNPp8XwV5oeWKk9ZjIslxfcwiFQnR1deHxeETAEh6ZzWarr5H29vYSCoWQJOmRq1MIQjMSa1oPUAtGd7spilJfJHa5XPT09KBpGsFgkF27dtHT00M2m6VQKIgTjvDQuru7sdvtKIpCd3c34+PjGIZBPp8XGXRCyxNB6wHsdjvhcJhgMEhbWxt+v79+c7vdlMtlKpUKsixjWRaXLl3i0qVLeL1eDh48SGdnJ5cvXxYnG+GhqarK+vo6Fy9e5Nq1axw9epS+vj7y+TwrKyuNzQWhpYig9QBtbW3s37+f0dFRBgYG6Ovro6+vj97eXsLhMMlkkkwmg67rJBIJNE3DMAwcDgft7e1MTEzw6aefPlKhUKG1ZbPZ+meKzSSfaDRKOp3e1i4GgtBMxJrWA+RyOU6fPs3HH3/M8ePH67ePPvqITz/9lFgsBkAgEODYsWN4PB4sy0JVVRwOB7lcTqxpCY9k7969DA8Pw2aFCK/Xi67rIt1dEMRI68FqawmZTIZ0Or3lls1m69+Gg8EgR48exe1243K52LVrF52dnZw+fZrFxUVRskh4aLOzswwMDODxePB4PMzOzrKyssKFCxfqX5IEoVWJkdZjUiqVWFlZIRAIEA6HsSyLK1eucPLkyW3t8SW0ro2NDQzDoKurC7/fz8bGBmfOnOHatWuNTQWh5YjrtB6zWtaXrutidCVsm6IoqKqKJElomiammAVhkxhpPWaVSoVisSimWYXvxTAMNE2jWCyKgCUItxFB6zGzLKt+E4TtEp8jQbg7EbQEQRCEHUMELUEQBGHHEEFLEARB2DFE0BIEQRB2DBG0BEEQhB1DBC1BEARhxxBBSxAEQdgx/j9GwQ+Y6xGD5QAAAABJRU5ErkJggg==)"
      ],
      "metadata": {
        "id": "IujfTwiAm6tN"
      }
    },
    {
      "cell_type": "code",
      "source": [
        "import numpy as np\n",
        "import matplotlib.pyplot as plt\n",
        "\n",
        "# Визначення функції\n",
        "def f(x):\n",
        "    return 6*x**4 + 8*x**3 - 24*x**2 - 7\n",
        "\n",
        "# Генерація значень x\n",
        "x = np.linspace(-5, 5, 100)\n",
        "\n",
        "# Генерація значень y\n",
        "y = f(x)\n",
        "\n",
        "# Побудова графіка\n",
        "plt.figure(figsize=(8, 6))\n",
        "plt.plot(x, y, label='6*x**4 + 8*x**3 - 24*x**2 - 7', color='blue')\n",
        "plt.title('Графік функції 6*x**4 + 8*x**3 - 24*x**2 - 7')\n",
        "plt.xlabel('x')\n",
        "plt.ylabel('f(x)')\n",
        "\n",
        "# Додавання осей з стрілками\n",
        "plt.axhline(0, color='black', linewidth=0.5)\n",
        "plt.axvline(0, color='black', linewidth=0.5)\n",
        "\n",
        "plt.text(2.05, -4, 'x', ha='center', va='center')\n",
        "plt.text(-0.3, 190, 'y', ha='center', va='center')\n",
        "\n",
        "plt.grid(True)\n",
        "plt.legend()\n",
        "plt.show()\n"
      ],
      "metadata": {
        "colab": {
          "base_uri": "https://localhost:8080/",
          "height": 564
        },
        "id": "7zUI3d1xZXar",
        "outputId": "bbad848e-559d-40c9-f736-136550842159"
      },
      "execution_count": 12,
      "outputs": [
        {
          "output_type": "display_data",
          "data": {
            "text/plain": [
              "<Figure size 800x600 with 1 Axes>"
            ],
            "image/png": "[encoded data removed]"
          },
          "metadata": {}
        }
      ]
    },
    {
      "cell_type": "code",
      "source": [
        "#Лабораторна робота. Метод половинного ділення, хорд\n",
        "\n",
        "\n",
        "def rec(a, b, eps):  # метод половинного ділення\n",
        "    while (abs(a - b) > eps):\n",
        "        if f(a) * f((a + b) / 2) < 0:\n",
        "            b = (a + b) / 2\n",
        "        else:\n",
        "            a = (a + b) / 2\n",
        "        x = (a + b) / 2\n",
        "\n",
        "    print('x= ', round(x, 5), '  -   Half division method')\n"
      ],
      "metadata": {
        "id": "BgjK94O9Cfxe"
      },
      "execution_count": 13,
      "outputs": []
    },
    {
      "cell_type": "code",
      "source": [
        "def hord(a, b, eps):  # метод хорд\n",
        "    derivative_f = nd.Derivative(f, n=1)\n",
        "    if f(a) * derivative_f(a) > 0:\n",
        "        x0 = a\n",
        "        xi = b\n",
        "    else:\n",
        "        x0 = b\n",
        "        xi = a\n",
        "    xi_1 = xi - (xi - x0) * f(xi) / (f(xi) - f(x0))\n",
        "    while (abs(xi_1 - xi) > eps):\n",
        "        xi = xi_1\n",
        "        xi_1 = xi - (xi - x0) * f(xi) / (f(xi) - f(x0))\n",
        "    print('x= ', round(xi_1, 5), '  -   Chord method')\n"
      ],
      "metadata": {
        "id": "Sz_KWVf7D2tL"
      },
      "execution_count": 14,
      "outputs": []
    },
    {
      "cell_type": "code",
      "source": [
        "if __name__ == \"__main__\":\n",
        "    a1, b1 = -2, -1\n",
        "    a2, b2 = 0, 2\n",
        "    eps = 0.001\n",
        "    print(\"Розв'язки на відрізку [-2,-1]\")\n",
        "    rec(a1, b1, eps)\n",
        "    hord(a1, b1, eps)\n",
        "    print(\"\\n Розв'язки на відрізку [0,1]\")\n",
        "    rec(a2, b2, eps)\n",
        "    hord(a2, b2, eps)"
      ],
      "metadata": {
        "id": "upx7R4yoFZj_",
        "outputId": "48828cff-33a8-41b2-ba71-ca71d9d08102",
        "colab": {
          "base_uri": "https://localhost:8080/"
        }
      },
      "execution_count": 18,
      "outputs": [
        {
          "output_type": "stream",
          "name": "stdout",
          "text": [
            "Розв'язки на відрізку [-2,-1]\n",
            "x=  -1.00049   -   Half division method\n",
            "x=  1.5528   -   Chord method\n",
            "\n",
            " Розв'язки на відрізку [0,1]\n",
            "x=  1.55322   -   Half division method\n",
            "x=  1.55266   -   Chord method\n"
          ]
        }
      ]
    }
  ]
}