{
  "nbformat": 4,
  "nbformat_minor": 0,
  "metadata": {
    "colab": {
      "provenance": [],
      "authorship_tag": "ABX9TyNkbLthnqxdityaTRha779U",
      "include_colab_link": true
    },
    "kernelspec": {
      "name": "python3",
      "display_name": "Python 3"
    },
    "language_info": {
      "name": "python"
    }
  },
  "cells": [
    {
      "cell_type": "markdown",
      "metadata": {
        "id": "view-in-github",
        "colab_type": "text"
      },
      "source": [
        "<a href=\"https://colab.research.google.com/github/IceikSky/NM/blob/main/%D0%9B%D0%A04_%D0%92%D0%B0%D1%80%D1%96%D0%B0%D0%BD%D1%82_6.ipynb\" target=\"_parent\"><img src=\"https://colab.research.google.com/assets/colab-badge.svg\" alt=\"Open In Colab\"/></a>"
      ]
    },
    {
      "cell_type": "markdown",
      "source": [
        "Був присутній на парі. Григоришен Владислав ФІТ 2-10. Варіант 6"
      ],
      "metadata": {
        "id": "8ee8gMgY5rIn"
      }
    },
    {
      "cell_type": "code",
      "execution_count": 55,
      "metadata": {
        "colab": {
          "base_uri": "https://localhost:8080/",
          "height": 35
        },
        "id": "03oEvNEsiJue",
        "outputId": "af4d8acd-6967-4516-e2b3-775ec3d7a70e"
      },
      "outputs": [
        {
          "output_type": "execute_result",
          "data": {
            "text/plain": [
              "'2.0.2'"
            ],
            "application/vnd.google.colaboratory.intrinsic+json": {
              "type": "string"
            }
          },
          "metadata": {},
          "execution_count": 55
        }
      ],
      "source": [
        "import numpy as np\n",
        "np.__version__"
      ]
    },
    {
      "cell_type": "code",
      "source": [
        "matrix = np.random.randint(1, 6, size=(3,3))\n",
        "\n",
        "matrix"
      ],
      "metadata": {
        "colab": {
          "base_uri": "https://localhost:8080/"
        },
        "id": "GzsUEwLkib30",
        "outputId": "ea7a9eda-3e6f-46f9-ed68-6132101340f6"
      },
      "execution_count": 56,
      "outputs": [
        {
          "output_type": "execute_result",
          "data": {
            "text/plain": [
              "array([[5, 5, 2],\n",
              "       [3, 4, 2],\n",
              "       [1, 1, 5]])"
            ]
          },
          "metadata": {},
          "execution_count": 56
        }
      ]
    },
    {
      "cell_type": "code",
      "source": [
        "det = np.linalg.det(matrix)\n",
        "det"
      ],
      "metadata": {
        "colab": {
          "base_uri": "https://localhost:8080/"
        },
        "id": "7-_wuYxWpepJ",
        "outputId": "3219033f-e7e3-49b2-84f2-9e618beabc2e"
      },
      "execution_count": 57,
      "outputs": [
        {
          "output_type": "execute_result",
          "data": {
            "text/plain": [
              "np.float64(22.99999999999998)"
            ]
          },
          "metadata": {},
          "execution_count": 57
        }
      ]
    },
    {
      "cell_type": "code",
      "source": [
        "product = np.prod(matrix)\n",
        "product"
      ],
      "metadata": {
        "colab": {
          "base_uri": "https://localhost:8080/"
        },
        "id": "wDffAIbopssA",
        "outputId": "63ad18bf-eb0d-4da0-9ea4-950190aca817"
      },
      "execution_count": 58,
      "outputs": [
        {
          "output_type": "execute_result",
          "data": {
            "text/plain": [
              "np.int64(6000)"
            ]
          },
          "metadata": {},
          "execution_count": 58
        }
      ]
    },
    {
      "cell_type": "code",
      "source": [
        "prod_1 = np.prod(matrix[0])\n",
        "prod_2 = np.prod(matrix[1])\n",
        "prod_3 = np.prod(matrix[2])\n",
        "prod_1*prod_2*prod_3"
      ],
      "metadata": {
        "colab": {
          "base_uri": "https://localhost:8080/"
        },
        "id": "VxooTej3pyaY",
        "outputId": "e1b261fb-7958-4dc8-944e-93d57da7d7b8"
      },
      "execution_count": 59,
      "outputs": [
        {
          "output_type": "execute_result",
          "data": {
            "text/plain": [
              "np.int64(6000)"
            ]
          },
          "metadata": {},
          "execution_count": 59
        }
      ]
    },
    {
      "cell_type": "code",
      "source": [
        "sum_1 = np.sum(matrix)\n",
        "sum_1"
      ],
      "metadata": {
        "colab": {
          "base_uri": "https://localhost:8080/"
        },
        "id": "iFvYOi2Bp_ZJ",
        "outputId": "0265f38d-ed0a-4743-f176-0b77ba2a7b9f"
      },
      "execution_count": 60,
      "outputs": [
        {
          "output_type": "execute_result",
          "data": {
            "text/plain": [
              "np.int64(28)"
            ]
          },
          "metadata": {},
          "execution_count": 60
        }
      ]
    },
    {
      "cell_type": "code",
      "source": [
        "np.max(matrix)"
      ],
      "metadata": {
        "colab": {
          "base_uri": "https://localhost:8080/"
        },
        "id": "I9PN2aBVqcQQ",
        "outputId": "35f69fa3-1b35-44ef-ea1b-20d2b100f0d4"
      },
      "execution_count": 61,
      "outputs": [
        {
          "output_type": "execute_result",
          "data": {
            "text/plain": [
              "np.int64(5)"
            ]
          },
          "metadata": {},
          "execution_count": 61
        }
      ]
    },
    {
      "cell_type": "code",
      "source": [
        "np.min(matrix)"
      ],
      "metadata": {
        "colab": {
          "base_uri": "https://localhost:8080/"
        },
        "id": "Z5Kl0Ophq61g",
        "outputId": "d89a928f-dc68-44a1-8430-0066b6bff86a"
      },
      "execution_count": 62,
      "outputs": [
        {
          "output_type": "execute_result",
          "data": {
            "text/plain": [
              "np.int64(1)"
            ]
          },
          "metadata": {},
          "execution_count": 62
        }
      ]
    },
    {
      "cell_type": "code",
      "source": [
        "np.mean(matrix)"
      ],
      "metadata": {
        "colab": {
          "base_uri": "https://localhost:8080/"
        },
        "id": "-F8UJtc7sTtQ",
        "outputId": "ff5bb0f1-e272-451a-e841-019d9eb7d328"
      },
      "execution_count": 63,
      "outputs": [
        {
          "output_type": "execute_result",
          "data": {
            "text/plain": [
              "np.float64(3.111111111111111)"
            ]
          },
          "metadata": {},
          "execution_count": 63
        }
      ]
    },
    {
      "cell_type": "code",
      "source": [
        "max_element = np.max(matrix)\n",
        "print(\"Найбільший елемент матриці:\", max_element)\n",
        "min_element = np.min(matrix)\n",
        "print(\"Найменший елемент матриці:\", min_element)"
      ],
      "metadata": {
        "colab": {
          "base_uri": "https://localhost:8080/"
        },
        "id": "wPLrjOC6q_Yg",
        "outputId": "fd9fe0a8-e158-4841-b751-e8ff1ce1e450"
      },
      "execution_count": 64,
      "outputs": [
        {
          "output_type": "stream",
          "name": "stdout",
          "text": [
            "Найбільший елемент матриці: 5\n",
            "Найменший елемент матриці: 1\n"
          ]
        }
      ]
    },
    {
      "cell_type": "code",
      "source": [
        "np.sqrt(matrix)"
      ],
      "metadata": {
        "colab": {
          "base_uri": "https://localhost:8080/"
        },
        "id": "HlgaP_Lmsobf",
        "outputId": "4fdba597-c1f7-42fd-a814-d49b923568a5"
      },
      "execution_count": 65,
      "outputs": [
        {
          "output_type": "execute_result",
          "data": {
            "text/plain": [
              "array([[2.23606798, 2.23606798, 1.41421356],\n",
              "       [1.73205081, 2.        , 1.41421356],\n",
              "       [1.        , 1.        , 2.23606798]])"
            ]
          },
          "metadata": {},
          "execution_count": 65
        }
      ]
    },
    {
      "cell_type": "code",
      "source": [
        "row_sums = np.sum(matrix, axis=1).reshape(-1, 1)\n",
        "print(\"Сума елементів рядка:\")\n",
        "print(row_sums)"
      ],
      "metadata": {
        "colab": {
          "base_uri": "https://localhost:8080/"
        },
        "id": "sp_SOJvVszcI",
        "outputId": "02299a99-4d39-4295-c5f7-509cc7ae0d19"
      },
      "execution_count": 66,
      "outputs": [
        {
          "output_type": "stream",
          "name": "stdout",
          "text": [
            "Сума елементів рядка:\n",
            "[[12]\n",
            " [ 9]\n",
            " [ 7]]\n"
          ]
        }
      ]
    },
    {
      "cell_type": "code",
      "source": [
        "vector = np.random.randint(0, 10, size=25)\n",
        "vector"
      ],
      "metadata": {
        "colab": {
          "base_uri": "https://localhost:8080/"
        },
        "id": "5gVo8TCYt-nY",
        "outputId": "61083db5-1173-47df-9fc5-2cbb809cb62c"
      },
      "execution_count": 67,
      "outputs": [
        {
          "output_type": "execute_result",
          "data": {
            "text/plain": [
              "array([3, 1, 7, 8, 6, 8, 5, 8, 8, 1, 5, 9, 1, 9, 3, 7, 4, 1, 1, 0, 4, 7,\n",
              "       6, 3, 9])"
            ]
          },
          "metadata": {},
          "execution_count": 67
        }
      ]
    },
    {
      "cell_type": "code",
      "source": [
        "sorted_vector = np.sort(vector)[::-1]\n",
        "sorted_vector"
      ],
      "metadata": {
        "colab": {
          "base_uri": "https://localhost:8080/"
        },
        "id": "DJP47Qdz6Bsf",
        "outputId": "eb939865-b95e-45a3-ff52-ed37087a3f2c"
      },
      "execution_count": 71,
      "outputs": [
        {
          "output_type": "execute_result",
          "data": {
            "text/plain": [
              "array([9, 9, 9, 8, 8, 8, 8, 7, 7, 7, 6, 6, 5, 5, 4, 4, 3, 3, 3, 1, 1, 1,\n",
              "       1, 1, 0])"
            ]
          },
          "metadata": {},
          "execution_count": 71
        }
      ]
    },
    {
      "cell_type": "code",
      "source": [
        "a = np.array([[2, -1, 1], [3, 2, 7], [1, -2, 1]])\n",
        "b = np.array([[2, -2, 1]])\n",
        "\n",
        "c1 = a*b\n",
        "print(\"Поелементний добуток матриць:\")\n",
        "print(c1)"
      ],
      "metadata": {
        "colab": {
          "base_uri": "https://localhost:8080/"
        },
        "id": "ItPkHUYA24JX",
        "outputId": "3bef53b3-dd52-4528-d775-37c2b53eb0bc"
      },
      "execution_count": 68,
      "outputs": [
        {
          "output_type": "stream",
          "name": "stdout",
          "text": [
            "Поелементний добуток матриць:\n",
            "[[ 4  2  1]\n",
            " [ 6 -4  7]\n",
            " [ 2  4  1]]\n"
          ]
        }
      ]
    },
    {
      "cell_type": "code",
      "source": [
        "import numpy as np\n",
        "\n",
        "# Система рівнянь\n",
        "a = np.array([[2, -1, 1], [3, 2, 7], [1, -2, 1]])\n",
        "b = np.array([2, -2, 1])\n",
        "\n",
        "# Метод Крамера\n",
        "def kramer(a, b):\n",
        "    det_a = np.linalg.det(a)\n",
        "    if det_a != 0:\n",
        "        solutions = []\n",
        "        for i in range(len(a)):\n",
        "            modified_a = np.copy(a)\n",
        "            modified_a[:, i] = b\n",
        "            solutions.append(round(np.linalg.det(modified_a) / det_a, 1))\n",
        "\n",
        "        print('Solving a system of linear algebraic equations by Cramer\\'s method:')\n",
        "        print('x =', solutions)\n",
        "\n",
        "    else:\n",
        "        print('Determinant equals zero, the system has no solutions')\n",
        "    return solutions\n",
        "\n",
        "# Метод Гауса\n",
        "def gaussian_elimination(a, b):\n",
        "    n = len(b)\n",
        "    x = np.zeros(n)\n",
        "\n",
        "    # Прямий хід\n",
        "    for k in range(n-1):\n",
        "        for i in range(k+1, n):\n",
        "            factor = a[i,k] / a[k,k]\n",
        "            for j in range(k, n):\n",
        "                a[i,j] -= factor * a[k,j]\n",
        "            b[i] -= factor * b[k]\n",
        "\n",
        "    # Обернений хід\n",
        "    x[n-1] = b[n-1] / a[n-1, n-1]\n",
        "    for i in range(n-2, -1, -1):\n",
        "        x[i] = (b[i] - np.dot(a[i,i+1:], x[i+1:])) / a[i,i]\n",
        "\n",
        "    print('Solving a system of linear algebraic equations by Gaussian elimination method:')\n",
        "    print('x =', x.round(1))\n",
        "\n",
        "# Матричний метод\n",
        "def matrix_method(a, b):\n",
        "    x = np.linalg.inv(a).dot(b)\n",
        "    print('Solving a system of linear algebraic equations by matrix method:')\n",
        "    print('x =', x.round(1))\n",
        "\n",
        "# Виклик функцій для розв'язання системи\n",
        "kramer(a, b)\n",
        "gaussian_elimination(a, b)\n",
        "matrix_method(a, b)"
      ],
      "metadata": {
        "colab": {
          "base_uri": "https://localhost:8080/"
        },
        "id": "SpCPqtCm5Wm7",
        "outputId": "1953a41d-6517-4c11-f24f-d66867140c56"
      },
      "execution_count": 69,
      "outputs": [
        {
          "output_type": "stream",
          "name": "stdout",
          "text": [
            "Solving a system of linear algebraic equations by Cramer's method:\n",
            "x = [np.float64(1.2), np.float64(-0.2), np.float64(-0.8)]\n",
            "Solving a system of linear algebraic equations by Gaussian elimination method:\n",
            "x = [ 1.5  0.  -1. ]\n",
            "Solving a system of linear algebraic equations by matrix method:\n",
            "x = [ 1.5  0.  -1. ]\n"
          ]
        }
      ]
    }
  ]
}